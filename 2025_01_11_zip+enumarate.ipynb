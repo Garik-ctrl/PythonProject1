{
  "nbformat": 4,
  "nbformat_minor": 0,
  "metadata": {
    "colab": {
      "provenance": [],
      "toc_visible": true,
      "authorship_tag": "ABX9TyMplqIZPOvY9OlOOOQvQqpx",
      "include_colab_link": true
    },
    "kernelspec": {
      "name": "python3",
      "display_name": "Python 3"
    },
    "language_info": {
      "name": "python"
    }
  },
  "cells": [
    {
      "cell_type": "markdown",
      "metadata": {
        "id": "view-in-github",
        "colab_type": "text"
      },
      "source": [
        "<a href=\"https://colab.research.google.com/github/Garik-ctrl/PythonProject1/blob/feature/2025_01_11_zip%2Benumarate.ipynb\" target=\"_parent\"><img src=\"https://colab.research.google.com/assets/colab-badge.svg\" alt=\"Open In Colab\"/></a>"
      ]
    },
    {
      "cell_type": "markdown",
      "source": [
        "## Enumerate\n",
        "vestavěná funkce která vrací index a hodnotu"
      ],
      "metadata": {
        "id": "-6geRoFe9yxT"
      }
    },
    {
      "cell_type": "markdown",
      "source": [
        "### Př. 1"
      ],
      "metadata": {
        "id": "ljB4lhY9-X4r"
      }
    },
    {
      "cell_type": "code",
      "execution_count": null,
      "metadata": {
        "colab": {
          "base_uri": "https://localhost:8080/"
        },
        "id": "N1jpqPCA9s-A",
        "outputId": "1751f89b-9076-49b4-8c28-0e4082569c35"
      },
      "outputs": [
        {
          "output_type": "stream",
          "name": "stdout",
          "text": [
            "Index 0 -> Barva: red\n",
            "Index 1 -> Barva: green\n",
            "Index 2 -> Barva: blue\n"
          ]
        }
      ],
      "source": [
        "barvy = ['red', 'green', 'blue']\n",
        "for index, barva in enumerate(barvy):\n",
        "    print(f\"Index {index} -> Barva: {barva}\")\n"
      ]
    },
    {
      "cell_type": "markdown",
      "source": [
        "### Př. 2"
      ],
      "metadata": {
        "id": "dUWCAtfY_LRB"
      }
    },
    {
      "cell_type": "code",
      "source": [
        "barvy = ['red', 'green', 'blue']\n",
        "for index, barva in enumerate(barvy,start=5): # mohu začít libovolným číslem\n",
        "    print(f\"Index {index} -> Barva: {barva}\")"
      ],
      "metadata": {
        "id": "KU1mnfbe-2Sr"
      },
      "execution_count": null,
      "outputs": []
    },
    {
      "cell_type": "markdown",
      "source": [
        "### Př. 3 - DÚ"
      ],
      "metadata": {
        "id": "VO9j7upX_OgS"
      }
    },
    {
      "cell_type": "code",
      "source": [
        "slovo=input(\"zadej slovo/větu: \")\n",
        "for index, pismeno in enumerate(slovo,start=1): # mohu začít libovolným číslem\n",
        "    print(f\"Index {index} -> Barva: {pismeno}\")\n"
      ],
      "metadata": {
        "id": "D9LkkDMv314G"
      },
      "execution_count": null,
      "outputs": []
    },
    {
      "cell_type": "markdown",
      "source": [
        "## Zip\n",
        "Spojuje dva (nebo více) iterovatelné objekty do jednoho. Prvky jsou spárovány dle jejich pořadí.\n",
        "\n",
        "Pokud mají objekty různé délky, spojí se jen tolik prvků, kolik má nejkratší iterovatelný objekt."
      ],
      "metadata": {
        "id": "5Sv9hfmK_YYp"
      }
    },
    {
      "cell_type": "markdown",
      "source": [
        "### Př. 4"
      ],
      "metadata": {
        "id": "j4iryQpk_tFL"
      }
    },
    {
      "cell_type": "code",
      "source": [
        "jmena = ['Garik', 'Alice', 'Ivana']\n",
        "vek = [25, 30, 35]\n",
        "\n",
        "for jm, ve in zip(jmena, vek):\n",
        "    print(f\"{jm} má {ve} let.\")\n"
      ],
      "metadata": {
        "id": "MDGkNir0-c9p"
      },
      "execution_count": null,
      "outputs": []
    },
    {
      "cell_type": "markdown",
      "source": [
        "### Př. 4.1 range()"
      ],
      "metadata": {
        "id": "jI0t_gii-thf"
      }
    },
    {
      "cell_type": "code",
      "source": [
        "jmena = ['Garik', 'Alice', 'Ivana']\n",
        "vek = [25, 30, 35]\n",
        "\n",
        "for i,jm, ve in zip(range(2),jmena, vek):\n",
        "    print(f\"{jm} má {ve} let.\")\n"
      ],
      "metadata": {
        "id": "-NbERG2R_sXX"
      },
      "execution_count": null,
      "outputs": []
    },
    {
      "cell_type": "markdown",
      "source": [
        "### Př. 5 - delší list\n",
        "\n"
      ],
      "metadata": {
        "id": "H3eprE5DAZAl"
      }
    },
    {
      "cell_type": "code",
      "source": [
        "jmena = ['Garik', 'Alice', 'Ivana','Karel']\n",
        "vek = [25, 30, 35]\n",
        "\n",
        "for jm, ve in zip(jmena, vek):\n",
        "    print(f\"{jm} má {ve} let.\")\n"
      ],
      "metadata": {
        "id": "X8sp99IOAZAm"
      },
      "execution_count": null,
      "outputs": []
    },
    {
      "cell_type": "markdown",
      "source": [
        "### Př. 6 - více listů"
      ],
      "metadata": {
        "id": "8v6U5IDAAvJL"
      }
    },
    {
      "cell_type": "code",
      "source": [
        "jmena = ['Garik', 'Alice', 'Ivana','Karel']\n",
        "vek = [25, 30, 35]\n",
        "mesta=['Praha','Brno']\n",
        "for jm, ve, me in zip(jmena, vek,mesta):\n",
        "    print(f\"{jm} má {ve} let a žije ve městě {me}.\")"
      ],
      "metadata": {
        "id": "6iGIBQVIAqv3"
      },
      "execution_count": null,
      "outputs": []
    },
    {
      "cell_type": "markdown",
      "source": [
        "### Př. 7 enumerate + zip"
      ],
      "metadata": {
        "id": "JxomxeQ3BgEn"
      }
    },
    {
      "cell_type": "code",
      "source": [
        "jmena = ['Garik', 'Alice', 'Ivana','Karel']\n",
        "vek = [25, 30, 35]\n",
        "\n",
        "for index, (jm, ve) in enumerate(zip(jmena, vek), start=1):\n",
        "    print(f\"{index}: {jm} má {ve} let.\")\n"
      ],
      "metadata": {
        "id": "_IlCh6bfBULG"
      },
      "execution_count": null,
      "outputs": []
    },
    {
      "cell_type": "markdown",
      "source": [
        "### Př. 8 zip_longest"
      ],
      "metadata": {
        "id": "Ax-MAsE7yn_Y"
      }
    },
    {
      "cell_type": "code",
      "source": [
        "from itertools import zip_longest\n",
        "\n",
        "jmena = ['Garik', 'Alice', 'Ivana','Karel']\n",
        "vek = [25, 30, 35]\n",
        "\n",
        "for jm, ve in zip_longest(jmena, vek, fillvalue=\"neznámý počet\"):\n",
        "    print(f\"{jm} má {ve} let.\")\n"
      ],
      "metadata": {
        "id": "Y0UDHKjkysk1"
      },
      "execution_count": null,
      "outputs": []
    },
    {
      "cell_type": "markdown",
      "source": [
        "### Př. 9 - DÚ\n",
        "\n",
        "vstup:\n",
        "\n",
        "merena_hodnota = [100, 200, 300]\n",
        "\n",
        "ocekavana_hodnota = [90, 210, 290]\n",
        "\n",
        "---\n",
        "\n",
        "výstup:\n",
        "\n",
        "Naměřeno: 100, Očekáváná hodnota: 90, Rozdíl: 10\n",
        "\n",
        "..."
      ],
      "metadata": {
        "id": "nu5122bx6ql0"
      }
    },
    {
      "cell_type": "code",
      "source": [
        "from itertools import zip_longest\n",
        "\n",
        "measured = [100, 200, 300, 400]\n",
        "expected = [90, 210, 290]\n",
        "\n",
        "for m, e in zip_longest(measured, expected, fillvalue=None):\n",
        "    if m is not None and e is not None:\n",
        "      diff = m - e\n",
        "    else:\n",
        "      diff= \"N/A\"\n",
        "    print(f\"Measured: {m}, Expected: {e}, Difference: {diff}\")"
      ],
      "metadata": {
        "id": "6izKX4cTzKeI"
      },
      "execution_count": null,
      "outputs": []
    },
    {
      "cell_type": "markdown",
      "source": [
        "### Př. 10 - DÚ\n",
        "\n",
        "seznamy nejsou stejné\n",
        "vstup:\n",
        "\n",
        "merena_hodnota = [100, 200, 300, 400, 500]\n",
        "\n",
        "ocekavana_hodnota = [90, 210, 290]\n",
        "\n",
        "---\n",
        "\n",
        "výstup:\n",
        "\n",
        "Naměřeno: 500, Očekáváná hodnota: \"XXX\", Rozdíl: \"XXX\""
      ],
      "metadata": {
        "id": "ovV8PG9M8D_s"
      }
    },
    {
      "cell_type": "code",
      "source": [
        "from itertools import zip_longest\n",
        "\n",
        "measured = [100, 200, 300, 400]\n",
        "expected = [90, 210, 290]\n",
        "\n",
        "for m, e in zip_longest(measured, expected, fillvalue=\"XXX\"):\n",
        "    if m !=\"XXX\" and e !=\"XXX\":\n",
        "      diff = m - e\n",
        "    else:\n",
        "      diff= \"XXX\"\n",
        "    print(f\"Measured: {m}, Expected: {e}, Difference: {diff}\")"
      ],
      "metadata": {
        "id": "TrmseCD68TW9"
      },
      "execution_count": null,
      "outputs": []
    }
  ]
}