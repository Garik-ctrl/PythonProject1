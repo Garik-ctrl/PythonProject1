{
  "nbformat": 4,
  "nbformat_minor": 0,
  "metadata": {
    "colab": {
      "provenance": [],
      "collapsed_sections": [
        "Agq_eokHkyKH",
        "7oS8skSnhWSE"
      ],
      "toc_visible": true,
      "authorship_tag": "ABX9TyNI3P4PNfOD6wPKXvmcOC3Q",
      "include_colab_link": true
    },
    "kernelspec": {
      "name": "python3",
      "display_name": "Python 3"
    },
    "language_info": {
      "name": "python"
    }
  },
  "cells": [
    {
      "cell_type": "markdown",
      "metadata": {
        "id": "view-in-github",
        "colab_type": "text"
      },
      "source": [
        "<a href=\"https://colab.research.google.com/github/Garik-ctrl/PythonProject1/blob/feature/2025-01-04%2B05_IntermediatePython.ipynb\" target=\"_parent\"><img src=\"https://colab.research.google.com/assets/colab-badge.svg\" alt=\"Open In Colab\"/></a>"
      ]
    },
    {
      "cell_type": "markdown",
      "source": [
        "# Cykly"
      ],
      "metadata": {
        "id": "5ex8bQqpGiaW"
      }
    },
    {
      "cell_type": "markdown",
      "source": [
        "## IF-Else"
      ],
      "metadata": {
        "id": "Agq_eokHkyKH"
      }
    },
    {
      "cell_type": "markdown",
      "source": [
        "### Př. 1 Zletilost"
      ],
      "metadata": {
        "id": "kZsdccH7GUqV"
      }
    },
    {
      "cell_type": "code",
      "execution_count": null,
      "metadata": {
        "id": "gPLJkPo-lxxv",
        "colab": {
          "base_uri": "https://localhost:8080/"
        },
        "outputId": "50a487ec-01b0-4790-aac4-3dcad3aa1bf9"
      },
      "outputs": [
        {
          "output_type": "stream",
          "name": "stdout",
          "text": [
            "Jste nezletilý/á.\n"
          ]
        }
      ],
      "source": [
        "vek = 21\n",
        "\n",
        "if vek >= 18: #podmínka\n",
        "    print(\"Jste dospělý/á.\")\n",
        "else:\n",
        "    print(\"Jste nezletilý/á.\")"
      ]
    },
    {
      "cell_type": "markdown",
      "source": [
        "### Př. 2 Sudost/lichost"
      ],
      "metadata": {
        "id": "3wAqD22cHI9x"
      }
    },
    {
      "cell_type": "code",
      "source": [
        "cislo = int(input(\"Zadejte číslo: \"))\n",
        "\n",
        "if cislo % 2 == 0: # pokud porovnávám, tak dávám dvě rovnítka\n",
        "    print(f\"Číslo {cislo} je sudé.\")\n",
        "else:\n",
        "    print(f\"Číslo {cislo} je liché.\")"
      ],
      "metadata": {
        "colab": {
          "base_uri": "https://localhost:8080/"
        },
        "id": "L-1ZBx35HOm0",
        "outputId": "698b0e9b-b75b-4842-9d87-17939bfac7ad"
      },
      "execution_count": null,
      "outputs": [
        {
          "output_type": "stream",
          "name": "stdout",
          "text": [
            "Zadejte číslo: 56\n",
            "Číslo 56 je sudé.\n"
          ]
        }
      ]
    },
    {
      "cell_type": "markdown",
      "source": [
        "<= >=, ==, != <>"
      ],
      "metadata": {
        "id": "6dirXc0RZlf4"
      }
    },
    {
      "cell_type": "markdown",
      "source": [
        "### Př. 3 Známka ve škole\n",
        "multiple else"
      ],
      "metadata": {
        "id": "wBcPZIEFHeAZ"
      }
    },
    {
      "cell_type": "code",
      "source": [
        "známka = int(input(\"Zadejte známku (1-5): \"))\n",
        "\n",
        "if známka == 1:\n",
        "    print(\"Výborně!\")\n",
        "elif známka == 2:\n",
        "    print(\"Chvalitebně.\")\n",
        "elif známka == 3:\n",
        "    print(\"Dobře.\")\n",
        "elif známka == 4:\n",
        "    print(\"Dostatečně.\")\n",
        "elif známka == 5:\n",
        "    print(\"Nedostatečně.\")\n",
        "else:\n",
        "    print(\"Neplatná známka.\")\n"
      ],
      "metadata": {
        "colab": {
          "base_uri": "https://localhost:8080/"
        },
        "id": "YwtvE65rHdGf",
        "outputId": "cded4288-cef9-4fbf-d993-d730934f1bc0"
      },
      "execution_count": null,
      "outputs": [
        {
          "output_type": "stream",
          "name": "stdout",
          "text": [
            "Zadejte známku (1-5): 5\n",
            "Nedostatečně.\n"
          ]
        }
      ]
    },
    {
      "cell_type": "markdown",
      "source": [
        "### Př. 4 jmeno & heslo\n",
        "využití logických funkcí 'and' a 'or'"
      ],
      "metadata": {
        "id": "KO9Hr1eeH-yR"
      }
    },
    {
      "cell_type": "code",
      "source": [
        "uživatelské_jméno = input(\"Zadejte uživatelské jméno: \")\n",
        "heslo = input(\"Zadejte heslo: \")\n",
        "\n",
        "if (uživatelské_jméno == \"admin\" and heslo == \"tajne123\") or (uživatelské_jméno == \"host\" and heslo == \"host123\"):\n",
        "    print(\"Přístup povolen.\")\n",
        "else:\n",
        "    print(\"Přístup odepřen.\")\n"
      ],
      "metadata": {
        "colab": {
          "base_uri": "https://localhost:8080/"
        },
        "id": "my_uSd4FI82B",
        "outputId": "88c243fb-24ed-4f37-b13f-81875d568055"
      },
      "execution_count": null,
      "outputs": [
        {
          "output_type": "stream",
          "name": "stdout",
          "text": [
            "Zadejte uživatelské jméno: admin\n",
            "Zadejte heslo: host123\n",
            "Přístup odepřen.\n"
          ]
        }
      ]
    },
    {
      "cell_type": "markdown",
      "source": [
        "### Př. 5 DÚ vstup do kina na horor\n",
        "vstupy: věk, doprovod (ano/ne)\n",
        "\n",
        "---\n",
        "\n",
        "\n",
        "výstup - pokud je návštěvníkovi 18+,\n",
        "nebo pokud je návštěvníkovi 15+ a má doprovod, pak je vstup povolen, jinak ne."
      ],
      "metadata": {
        "id": "63JaZHG3KUp5"
      }
    },
    {
      "cell_type": "code",
      "source": [
        "pomocny_pocet=0\n",
        "while pomocny_pocet<3:\n",
        "  pomocny_pocet=pomocny_pocet+1\n",
        "  vek=int(input(\"Zadejte věk: \"))\n",
        "  if vek<18:\n",
        "    doprovod=input(\"Máte doprovod? Odpovězte ano/ne \")\n",
        "\n",
        "  if vek>=18 or (vek>=15 and doprovod==\"ano\"):\n",
        "    print(\"Přístup povolen.\")\n",
        "  else:\n",
        "    print(\"Přístup odepřen.\")"
      ],
      "metadata": {
        "colab": {
          "base_uri": "https://localhost:8080/"
        },
        "id": "dbXJj-S0Kbh7",
        "outputId": "5f31fec5-301e-4cd2-8ed1-e6b3e2faf366"
      },
      "execution_count": null,
      "outputs": [
        {
          "output_type": "stream",
          "name": "stdout",
          "text": [
            "Zadejte věk: 22\n",
            "Přístup povolen.\n",
            "Zadejte věk: 17\n",
            "Máte doprovod? Odpovězte ano/ne ano\n",
            "Přístup povolen.\n",
            "Zadejte věk: 1\n",
            "Máte doprovod? Odpovězte ano/ne ne\n",
            "Přístup odepřen.\n"
          ]
        }
      ]
    },
    {
      "cell_type": "code",
      "source": [
        "vek=int(input(\"Zadejte věk: \"))\n",
        "if vek >= 18:\n",
        "    print(\"Vstup povolen.\")\n",
        "else:\n",
        "    doprovod = input(\"Máte doprovod? (ano/ne): \")\n",
        "    if vek >= 15 and doprovod == \"ano\":\n",
        "        print(\"Vstup povolen.\")\n",
        "    else:\n",
        "        print(\"Vstup zamítnut.\")"
      ],
      "metadata": {
        "colab": {
          "base_uri": "https://localhost:8080/"
        },
        "id": "IAjTcKT5gc7o",
        "outputId": "d8b4b710-619f-4fc8-acf3-cf308dd57590"
      },
      "execution_count": null,
      "outputs": [
        {
          "output_type": "stream",
          "name": "stdout",
          "text": [
            "Zadejte věk: 15\n",
            "Máte doprovod? (ano/ne): ne\n",
            "Vstup zamítnut.\n"
          ]
        }
      ]
    },
    {
      "cell_type": "markdown",
      "source": [
        "## List\n"
      ],
      "metadata": {
        "id": "7oS8skSnhWSE"
      }
    },
    {
      "cell_type": "markdown",
      "source": [
        "### Př. 6 výpis ovoce"
      ],
      "metadata": {
        "id": "1eGcKPPencF7"
      }
    },
    {
      "cell_type": "code",
      "source": [
        "ovoce1 = \"jablko\"\n",
        "ovoce2= \"banán\"\n",
        "ovoce3= \"pomeranč\"\n",
        "ovoce4= \"hruška\"\n",
        "\n",
        "print(f\"Mám rád {ovoce1}.\")\n",
        "print(f\"Mám rád {ovoce2}.\")\n",
        "print(f\"Mám rád {ovoce3}.\")\n",
        "print(f\"Mám rád {ovoce4}.\")"
      ],
      "metadata": {
        "colab": {
          "base_uri": "https://localhost:8080/"
        },
        "id": "5u8yvIvUhgZ6",
        "outputId": "50eada9b-cd16-47fb-fe82-177cc0f16f77"
      },
      "execution_count": null,
      "outputs": [
        {
          "output_type": "stream",
          "name": "stdout",
          "text": [
            "Mám rád jablko.\n",
            "Mám rád banán.\n",
            "Mám rád pomeranč.\n",
            "Mám rád hruška.\n"
          ]
        }
      ]
    },
    {
      "cell_type": "markdown",
      "source": [
        "### Př. 7 výpis ovoce pomocí listu\n",
        "pomocí listu list ve formě list=[a,b,c,d...]\n",
        "index začíná od 0, tj list[0]=a, list[1]=b..."
      ],
      "metadata": {
        "id": "QRMkxh6KnrFZ"
      }
    },
    {
      "cell_type": "code",
      "source": [
        "ovoce = [\"jablko\", \"banán\", \"pomeranč\", \"hruška\"]\n",
        "\n",
        "print(f\"Mám rád {ovoce[0]}.\") # indexace\n",
        "print(f\"Mám rád {ovoce[1]}.\") # indexace"
      ],
      "metadata": {
        "id": "UKo-OeDNh6Ir"
      },
      "execution_count": null,
      "outputs": []
    },
    {
      "cell_type": "markdown",
      "source": [
        "## For cyklus\n",
        "slouží především k procházení polem"
      ],
      "metadata": {
        "id": "AsrUq6BKjG0c"
      }
    },
    {
      "cell_type": "markdown",
      "source": [
        "### Př. 8 výpis ovoce pomocí for cyklu"
      ],
      "metadata": {
        "id": "xSbxF7-MnVpH"
      }
    },
    {
      "cell_type": "code",
      "source": [
        "ovoce = [\"jablko\", \"banán\", \"pomeranč\", \"hruška\"]\n",
        "\n",
        "for druh in ovoce: #druh je pro nás jednotlivý index v listu\n",
        "    print(f\"Mám rád {druh}.\")"
      ],
      "metadata": {
        "colab": {
          "base_uri": "https://localhost:8080/"
        },
        "id": "-ToiklEjhZzo",
        "outputId": "8ba194cf-ec5a-4f64-8cc0-a2413c8dff26"
      },
      "execution_count": null,
      "outputs": [
        {
          "output_type": "stream",
          "name": "stdout",
          "text": [
            "Mám rád jablko.\n",
            "Mám rád banán.\n",
            "Mám rád pomeranč.\n",
            "Mám rád hruška.\n"
          ]
        }
      ]
    },
    {
      "cell_type": "markdown",
      "source": [
        "### Př. 9 výpis ovoce\n",
        "hledám specifické ovoce v seznamu"
      ],
      "metadata": {
        "id": "UpqPshehoK_g"
      }
    },
    {
      "cell_type": "code",
      "source": [
        "hledane = \"banán\"\n",
        "ovoce = [\"jablko\", \"banán\", \"pomeranč\", \"hruška\"]\n",
        "\n",
        "for druh in ovoce:\n",
        "    if druh == hledane:\n",
        "        print(f\"Našel jsem: {hledane}\")\n",
        "        break"
      ],
      "metadata": {
        "id": "C-YoEBsynUkT"
      },
      "execution_count": null,
      "outputs": []
    },
    {
      "cell_type": "markdown",
      "source": [
        "### Př. 10 součet čísel"
      ],
      "metadata": {
        "id": "Kd-Qmq_oqg3Y"
      }
    },
    {
      "cell_type": "code",
      "source": [
        "cisla = [1, 2, 3, 4, 5]\n",
        "soucet = 0\n",
        "\n",
        "for cislo in cisla:\n",
        "    soucet += cislo # ekvivalentně soucet=soucet+cislo\n",
        "\n",
        "print(f\"Součet čísel je: {soucet}\")"
      ],
      "metadata": {
        "id": "KroJvxhdqflR"
      },
      "execution_count": null,
      "outputs": []
    },
    {
      "cell_type": "markdown",
      "source": [
        "### Př. 10 procházení textem"
      ],
      "metadata": {
        "id": "k3TcgxFQ0_Sq"
      }
    },
    {
      "cell_type": "code",
      "source": [
        "text = \"Python\"\n",
        "\n",
        "for znak in text:\n",
        "    print(f\"Písmeno: {znak}\")"
      ],
      "metadata": {
        "colab": {
          "base_uri": "https://localhost:8080/"
        },
        "id": "CuOHGMK10-If",
        "outputId": "d9038de8-a1f0-43bf-e4a0-029753fc40fd"
      },
      "execution_count": null,
      "outputs": [
        {
          "output_type": "stream",
          "name": "stdout",
          "text": [
            "Písmeno: P\n",
            "Písmeno: y\n",
            "Písmeno: t\n",
            "Písmeno: h\n",
            "Písmeno: o\n",
            "Písmeno: n\n"
          ]
        }
      ]
    },
    {
      "cell_type": "markdown",
      "source": [
        "### Př. 11 Dělitelná třemi\n",
        "kombinace podmínek if a for"
      ],
      "metadata": {
        "id": "ay-QE3ra1MHS"
      }
    },
    {
      "cell_type": "code",
      "source": [
        "čísla = [3, 7, 9, 12, 15, 20]\n",
        "\n",
        "for číslo in čísla:\n",
        "    if číslo % 3 == 0:\n",
        "        print(f\"Číslo {číslo} je dělitelné třemi.\")"
      ],
      "metadata": {
        "id": "4Qg3ZtK_1Hrh"
      },
      "execution_count": null,
      "outputs": []
    },
    {
      "cell_type": "markdown",
      "source": [
        "### Př. 12 DÚ čísla dělitelná třemi, nebo pěti\n",
        "vstup: range(1, 21)\n",
        "\n",
        "---\n",
        "výstup: vytisknutí čísel např.\n",
        "\n",
        "\"číslo 3 je dělitelné třemi\"\n",
        "\"číslo 5 je dělitelné pěti\"\n",
        "\"číslo 15 je dělitelné třemi nebo pěti\"\n"
      ],
      "metadata": {
        "id": "8muPr0nn3SDD"
      }
    },
    {
      "cell_type": "code",
      "source": [
        "for i in range(1,21):\n",
        "  if i%15==0:\n",
        "    print(f\"číslo {i} je dělitelné třemi nebo pěti\")\n",
        "  elif i%3==0:\n",
        "    print(f\"číslo {i} je dělitelné třemi\")\n",
        "  elif i%5==0:\n",
        "    print(f\"číslo {i} je dělitelné pěti\")\n",
        "  else:\n",
        "    print(f\"číslo {i} není dělitelné třemi ani pěti ani patnácti\")"
      ],
      "metadata": {
        "id": "Meff9zXkjTF_"
      },
      "execution_count": null,
      "outputs": []
    },
    {
      "cell_type": "markdown",
      "source": [
        "### Př. 13 DÚ počet samohlásek\n",
        "vstup: text daný uživatelem\n",
        "---\n",
        "výstup: počet samohlásek\n",
        "\n"
      ],
      "metadata": {
        "id": "e9IfPGuA26Iq"
      }
    },
    {
      "cell_type": "code",
      "source": [],
      "metadata": {
        "id": "w5h_EHcl58XB"
      },
      "execution_count": null,
      "outputs": []
    },
    {
      "cell_type": "markdown",
      "source": [
        "## While cyklus\n",
        "nekonečný cyklus, dokud není splněna podmínka"
      ],
      "metadata": {
        "id": "k9PDCWKM58xS"
      }
    },
    {
      "cell_type": "markdown",
      "source": [
        "### Př. 14 while cyklus\n",
        "\n",
        "dokud není splněna podmínka, cyklus běží"
      ],
      "metadata": {
        "id": "XBScj5Tt6lro"
      }
    },
    {
      "cell_type": "code",
      "source": [
        "i = 0\n",
        "while i <= 5:\n",
        "  print(i)\n",
        "  i += 1"
      ],
      "metadata": {
        "colab": {
          "base_uri": "https://localhost:8080/"
        },
        "id": "hot_zG_g7S8x",
        "outputId": "07c0aae7-c776-49bd-d1f2-bc6d35d01989"
      },
      "execution_count": null,
      "outputs": [
        {
          "output_type": "stream",
          "name": "stdout",
          "text": [
            "0\n",
            "1\n",
            "2\n",
            "3\n",
            "4\n",
            "5\n"
          ]
        }
      ]
    },
    {
      "cell_type": "markdown",
      "source": [
        "### Př. 15 while cyklus\n",
        "\n",
        "podmínka není splněna, cyklus běží do nekonečna"
      ],
      "metadata": {
        "id": "OM9GkXlH3h-M"
      }
    },
    {
      "cell_type": "code",
      "source": [
        "i = 0\n",
        "z = 0\n",
        "while z <= 5:\n",
        "  print(i)\n",
        "  i += 1"
      ],
      "metadata": {
        "id": "HW0mrBRo3op0"
      },
      "execution_count": null,
      "outputs": []
    },
    {
      "cell_type": "markdown",
      "source": [
        "### Př. 16 čísla dělitelná třemi\n",
        "podmínka není splněna, cyklus běží do nekonečna"
      ],
      "metadata": {
        "id": "_GvS7mZZ5Mmu"
      }
    },
    {
      "cell_type": "code",
      "source": [
        "start = 1\n",
        "konec=500\n",
        "while start <= konec:\n",
        "    if start % 3 == 0:\n",
        "        print(f\"{start} je dělitelné třemi.\")\n",
        "    start += 1\n"
      ],
      "metadata": {
        "id": "cL_gppQk45yl"
      },
      "execution_count": null,
      "outputs": []
    },
    {
      "cell_type": "markdown",
      "source": [
        "### Př. 17 DÚ součet čísel od 1 do 50 pomocí\n",
        "a) while cyklu\n",
        "\n",
        "b) for cyklu"
      ],
      "metadata": {
        "id": "Bv1F4XSn6N2B"
      }
    },
    {
      "cell_type": "code",
      "source": [
        "\n"
      ],
      "metadata": {
        "id": "gVtA7gV36b3w"
      },
      "execution_count": null,
      "outputs": []
    },
    {
      "cell_type": "markdown",
      "source": [
        "##List comprehensions"
      ],
      "metadata": {
        "id": "ihhCXU-fJ7Sy"
      }
    },
    {
      "cell_type": "markdown",
      "source": [
        "### Př. 18 List sudých čísel z range(1,11)"
      ],
      "metadata": {
        "id": "qm_gdo0AKvn5"
      }
    },
    {
      "cell_type": "code",
      "source": [
        "seznam=[]\n",
        "for x in range(1, 11): #pomocí for cyklu\n",
        "  if x % 2 == 0:\n",
        "    seznam.append(x)\n",
        "print(seznam)"
      ],
      "metadata": {
        "colab": {
          "base_uri": "https://localhost:8080/"
        },
        "id": "FURzXvQSLAUJ",
        "outputId": "907437da-db9b-4b68-9f4b-4cb1c6ea460b"
      },
      "execution_count": null,
      "outputs": [
        {
          "output_type": "stream",
          "name": "stdout",
          "text": [
            "[2, 4, 6, 8, 10]\n"
          ]
        }
      ]
    },
    {
      "cell_type": "code",
      "source": [
        "sudá_čísla = [x for x in range(1, 11) if x % 2 == 0] #pomocí komprehenze\n",
        "print(sudá_čísla)"
      ],
      "metadata": {
        "colab": {
          "base_uri": "https://localhost:8080/"
        },
        "id": "F-5L8b9cK9La",
        "outputId": "a8af4698-9e13-4922-c87d-53e38c28abd2"
      },
      "execution_count": null,
      "outputs": [
        {
          "output_type": "stream",
          "name": "stdout",
          "text": [
            "[2, 4, 6, 8, 10]\n"
          ]
        }
      ]
    },
    {
      "cell_type": "markdown",
      "source": [
        "### Př. 19 Převedení jmen na velká písmena"
      ],
      "metadata": {
        "id": "UV3eOepjL9sl"
      }
    },
    {
      "cell_type": "code",
      "source": [
        "dir([])"
      ],
      "metadata": {
        "id": "r-LMUWvdrXV8"
      },
      "execution_count": null,
      "outputs": []
    },
    {
      "cell_type": "code",
      "source": [
        "jména = [\"Jan\", \"Petr\", \"Eva\", \"Anna\"]\n",
        "jména_velka = [jmeno.upper() for jmeno in jména]\n",
        "print(jména_velka)"
      ],
      "metadata": {
        "colab": {
          "base_uri": "https://localhost:8080/"
        },
        "id": "E7bvHJeyL4v_",
        "outputId": "8ad5f83e-06f0-4c32-f36e-09e5c84f09a0"
      },
      "execution_count": null,
      "outputs": [
        {
          "output_type": "stream",
          "name": "stdout",
          "text": [
            "['JAN', 'PETR', 'EVA', 'ANNA']\n"
          ]
        }
      ]
    },
    {
      "cell_type": "markdown",
      "source": [
        "### Př. 20 Vnořená komprehenze"
      ],
      "metadata": {
        "id": "TmAI0wIXMr4d"
      }
    },
    {
      "cell_type": "code",
      "source": [
        "for x in range(1,3):\n",
        "  for y in range(1,9):\n",
        "    print(x*y)"
      ],
      "metadata": {
        "id": "nWcjrK9Rso0X"
      },
      "execution_count": null,
      "outputs": []
    },
    {
      "cell_type": "code",
      "source": [
        "násobilka = [[x * y for y in range(1, 9)] for x in range(1, 3)]\n",
        "print(násobilka)"
      ],
      "metadata": {
        "colab": {
          "base_uri": "https://localhost:8080/"
        },
        "id": "P9bM0vriMo70",
        "outputId": "acece0cd-abb0-4845-d078-9100d7d014b9"
      },
      "execution_count": null,
      "outputs": [
        {
          "output_type": "stream",
          "name": "stdout",
          "text": [
            "[[1, 2, 3, 4, 5, 6, 7, 8], [2, 4, 6, 8, 10, 12, 14, 16]]\n"
          ]
        }
      ]
    },
    {
      "cell_type": "markdown",
      "source": [
        "### Př. 21 kombinace seznamů"
      ],
      "metadata": {
        "id": "7B7a3qJpNAy-"
      }
    },
    {
      "cell_type": "code",
      "source": [
        "a = [1, 2, 3]\n",
        "b = [4, 5, 6]\n",
        "kombinace = [(x, y) for x in a for y in b]\n",
        "print(kombinace)  # Výstup: [(1, 4), (1, 5), ..., (3, 6)]"
      ],
      "metadata": {
        "colab": {
          "base_uri": "https://localhost:8080/"
        },
        "id": "CcAyswY2M_nR",
        "outputId": "5b25e80f-1767-4f44-c331-73882c982072"
      },
      "execution_count": null,
      "outputs": [
        {
          "output_type": "stream",
          "name": "stdout",
          "text": [
            "[(1, 4), (1, 5), (1, 6), (2, 4), (2, 5), (2, 6), (3, 4), (3, 5), (3, 6)]\n"
          ]
        }
      ]
    },
    {
      "cell_type": "markdown",
      "source": [
        "### Př. 22 DÚ\n",
        "\n",
        "Vypiš seznam zvířat s více než třemi znaky\n",
        "\n",
        "slova = [\"pes\", \"kočka\", \"lev\", \"tygr\", \"havran\", \"čáp\"]\n",
        "\n",
        "*nápověda - použij funkci len()"
      ],
      "metadata": {
        "id": "Ct4LuMwbNNQw"
      }
    },
    {
      "cell_type": "code",
      "source": [
        "slova = [\"pes\", \"kočka\", \"lev\", \"tygr\", \"havran\", \"čáp\"]\n",
        "zvirata=[x for x in slova if len(x)>3]\n",
        "print(zvirata)"
      ],
      "metadata": {
        "colab": {
          "base_uri": "https://localhost:8080/"
        },
        "id": "sJm6tXzzNn5O",
        "outputId": "fcc44c0e-a603-4712-b1af-bacbdf271109"
      },
      "execution_count": null,
      "outputs": [
        {
          "output_type": "stream",
          "name": "stdout",
          "text": [
            "['kočka', 'tygr', 'havran']\n"
          ]
        }
      ]
    },
    {
      "cell_type": "code",
      "source": [
        "slova = [\"pes\", \"kocka\", \"lev\", \"tygr\", \"havran\", \"cap\"]\n",
        "\n",
        "delsi_nez_5 = [zvire for zvire in slova if len(zvire) > 3]\n",
        "print(delsi_nez_5)"
      ],
      "metadata": {
        "colab": {
          "base_uri": "https://localhost:8080/"
        },
        "id": "k1wZiFA6v_bD",
        "outputId": "def55d4d-fb7b-4028-eeef-0475cf725b79"
      },
      "execution_count": null,
      "outputs": [
        {
          "output_type": "stream",
          "name": "stdout",
          "text": [
            "['kocka', 'tygr', 'havran']\n"
          ]
        }
      ]
    },
    {
      "cell_type": "markdown",
      "source": [
        "##Funkce args, kwargs\n",
        "\n",
        "*args - slouží pro načítání libovolného množství argumentů\n",
        "\n",
        "**kwargs - slouží pro načítání libovolného množství typu dictionary\n",
        "\n",
        "V kódu není třeba držet názvy\n",
        "lze nazvat třeba *pokus,\n",
        "\n",
        "**pokus2\n",
        "\n"
      ],
      "metadata": {
        "id": "fl-LJgVA9SMx"
      }
    },
    {
      "cell_type": "markdown",
      "source": [
        "### Př. 23 součet čísel"
      ],
      "metadata": {
        "id": "oENyRFFH9Zmx"
      }
    },
    {
      "cell_type": "code",
      "source": [
        "def ahoj_svete():\n",
        "  print(\"ahoj světe!!\")"
      ],
      "metadata": {
        "id": "RB_0E57AwdUd"
      },
      "execution_count": null,
      "outputs": []
    },
    {
      "cell_type": "code",
      "source": [
        "ahoj_svete()"
      ],
      "metadata": {
        "colab": {
          "base_uri": "https://localhost:8080/"
        },
        "id": "k0qAOBIYwi0W",
        "outputId": "6a958b4c-d8a2-46d7-8596-f3321a4b381e"
      },
      "execution_count": null,
      "outputs": [
        {
          "output_type": "stream",
          "name": "stdout",
          "text": [
            "ahoj světe!!\n"
          ]
        }
      ]
    },
    {
      "cell_type": "code",
      "source": [
        "def soucet(a, b):\n",
        "    return a + b"
      ],
      "metadata": {
        "id": "pePABhrAw8kc"
      },
      "execution_count": null,
      "outputs": []
    },
    {
      "cell_type": "code",
      "source": [
        "print(soucet(3,2))"
      ],
      "metadata": {
        "colab": {
          "base_uri": "https://localhost:8080/",
          "height": 141
        },
        "collapsed": true,
        "id": "Jazg3CVcw_rx",
        "outputId": "a1b6a8f8-c62e-4ffe-d70e-a5b988745128"
      },
      "execution_count": null,
      "outputs": [
        {
          "output_type": "error",
          "ename": "TypeError",
          "evalue": "soucet() takes 2 positional arguments but 3 were given",
          "traceback": [
            "\u001b[0;31m---------------------------------------------------------------------------\u001b[0m",
            "\u001b[0;31mTypeError\u001b[0m                                 Traceback (most recent call last)",
            "\u001b[0;32m<ipython-input-53-67233aa044e8>\u001b[0m in \u001b[0;36m<cell line: 1>\u001b[0;34m()\u001b[0m\n\u001b[0;32m----> 1\u001b[0;31m \u001b[0mprint\u001b[0m\u001b[0;34m(\u001b[0m\u001b[0msoucet\u001b[0m\u001b[0;34m(\u001b[0m\u001b[0;36m3\u001b[0m\u001b[0;34m,\u001b[0m\u001b[0;36m2\u001b[0m\u001b[0;34m,\u001b[0m\u001b[0;36m2\u001b[0m\u001b[0;34m)\u001b[0m\u001b[0;34m)\u001b[0m\u001b[0;34m\u001b[0m\u001b[0;34m\u001b[0m\u001b[0m\n\u001b[0m",
            "\u001b[0;31mTypeError\u001b[0m: soucet() takes 2 positional arguments but 3 were given"
          ]
        }
      ]
    },
    {
      "cell_type": "markdown",
      "source": [
        "### vizitka\n",
        "\n",
        "obsahuje: jméno, příjmení, pohlaví"
      ],
      "metadata": {
        "id": "L7EdEkwOxYDw"
      }
    },
    {
      "cell_type": "code",
      "source": [
        "def vizitka(jmeno, prijmeni, pohlavi=\"Neuvedeno\"):\n",
        "    print(f\"Jméno: {jmeno}!!\")\n",
        "    print(f\"Příjmení: {prijmeni}?\")\n",
        "    print(f\"Pohlaví: {pohlavi}*?!\")\n",
        "    ahoj_svete()"
      ],
      "metadata": {
        "id": "qZ1cDZM1xURz"
      },
      "execution_count": null,
      "outputs": []
    },
    {
      "cell_type": "code",
      "source": [
        "#vizitka(\"Garegin\", \"Minasjan\", \"muž\")\n",
        "vizitka(\"Petr\", \"Pavel\")"
      ],
      "metadata": {
        "colab": {
          "base_uri": "https://localhost:8080/"
        },
        "id": "kDM7KHBPxkL2",
        "outputId": "5eac6491-ebae-4bc9-d11e-abdc2f1d89fd"
      },
      "execution_count": null,
      "outputs": [
        {
          "output_type": "stream",
          "name": "stdout",
          "text": [
            "Jméno: Petr!!\n",
            "Příjmení: Pavel?\n",
            "Pohlaví: Neuvedeno*?!\n",
            "ahoj světe!!\n"
          ]
        }
      ]
    },
    {
      "cell_type": "markdown",
      "source": [
        "rekurze - faktoriál\n",
        "5!=5.4.3.2.1"
      ],
      "metadata": {
        "id": "uMc8P8t7yaxB"
      }
    },
    {
      "cell_type": "code",
      "source": [
        "def faktorial(n):\n",
        "  def rekurze(n):\n",
        "    if n==1:\n",
        "      return 1\n",
        "    else:\n",
        "      return n*rekurze(n-1)\n",
        "  return rekurze(n)"
      ],
      "metadata": {
        "id": "L08IfwfTyjEv"
      },
      "execution_count": null,
      "outputs": []
    },
    {
      "cell_type": "code",
      "source": [
        "faktorial(6)"
      ],
      "metadata": {
        "colab": {
          "base_uri": "https://localhost:8080/"
        },
        "id": "pxVQNbqkypeZ",
        "outputId": "dd48d501-b5e3-40fc-dad4-a2431ec24ef6"
      },
      "execution_count": null,
      "outputs": [
        {
          "output_type": "execute_result",
          "data": {
            "text/plain": [
              "720"
            ]
          },
          "metadata": {},
          "execution_count": 70
        }
      ]
    },
    {
      "cell_type": "code",
      "source": [
        "def soucet(*promenne):\n",
        "    print(type(promenne))\n",
        "    return sum(promenne)\n",
        "\n",
        "print(soucet(1, 2, 3, 4,5,6,7,8,9,10,11))\n",
        "print(soucet(10, -20, 30,-40))"
      ],
      "metadata": {
        "colab": {
          "base_uri": "https://localhost:8080/"
        },
        "id": "4p_2owyn9FVm",
        "outputId": "26d6a521-e2cb-48c8-db4d-33760cec72aa"
      },
      "execution_count": null,
      "outputs": [
        {
          "output_type": "stream",
          "name": "stdout",
          "text": [
            "<class 'tuple'>\n",
            "66\n",
            "<class 'tuple'>\n",
            "-20\n"
          ]
        }
      ]
    },
    {
      "cell_type": "markdown",
      "source": [
        "### Př. 24 operace kalkulačky"
      ],
      "metadata": {
        "id": "4TqaOo_VEuaN"
      }
    },
    {
      "cell_type": "code",
      "source": [
        "def scitani(*hodnoty):\n",
        "    return sum(hodnoty)\n",
        "\n",
        "def odcitani(*args):\n",
        "    if not args:\n",
        "        return \"Nebyla zadána žádná čísla.\"\n",
        "    vysledek = args[0]\n",
        "    for cislo in args[1:]:\n",
        "        vysledek -= cislo\n",
        "    return vysledek\n",
        "\n",
        "def kalkulacka(operace, *args):\n",
        "    return operace(*args)\n",
        "\n",
        "print(kalkulacka(scitani, 10, 5))\n",
        "print(kalkulacka(odcitani, 10, 5))\n"
      ],
      "metadata": {
        "id": "EuGbeKdPAWpi"
      },
      "execution_count": null,
      "outputs": []
    },
    {
      "cell_type": "markdown",
      "source": [
        "### Př. 25 **kwargs - jméno a příjmení"
      ],
      "metadata": {
        "id": "JfMUGh2gH3tz"
      }
    },
    {
      "cell_type": "code",
      "source": [
        "def print_named_arguments(**kwargs):\n",
        "\n",
        "  print(kwargs, type(kwargs))\n",
        "\n",
        "  for key, value in kwargs.items():\n",
        "    print(key,\":\", value)\n",
        "\n",
        "print_named_arguments(Jmeno=\"Garegin\", Prijmeni=\"Minasjan\")"
      ],
      "metadata": {
        "colab": {
          "base_uri": "https://localhost:8080/"
        },
        "id": "C2WYo4cVGLet",
        "outputId": "2c36e8ea-a8f4-4382-bb3c-2835b262eaef"
      },
      "execution_count": null,
      "outputs": [
        {
          "output_type": "stream",
          "name": "stdout",
          "text": [
            "{'Jmeno': 'Garegin', 'Prijmeni': 'Minasjan'} <class 'dict'>\n",
            "Jmeno : Garegin\n",
            "Prijmeni : Minasjan\n"
          ]
        }
      ]
    },
    {
      "cell_type": "markdown",
      "source": [
        "### Př. 26 **kwargs - jméno a příjmení a koníčky"
      ],
      "metadata": {
        "id": "uerF_3DnILdk"
      }
    },
    {
      "cell_type": "code",
      "source": [
        "def vypis_jmeno_a_hobby(*args, **kwargs):\n",
        "    jmeno = kwargs.get(\"jmeno\", \"Neznámé\")\n",
        "    prijmeni = kwargs.get(\"prijmeni\", \"Neznámé\")\n",
        "    print(f\"Jméno: {jmeno}, Příjmení: {prijmeni}\")\n",
        "    if args:\n",
        "        print(\"Koníčky:\")\n",
        "        for hobby in args:\n",
        "            print(f\"- {hobby}\")\n",
        "\n",
        "vypis_jmeno_a_hobby(\"fotbal\", \"cestování\", jmeno=\"Anna\", prijmeni=\"Dvořáková\")\n"
      ],
      "metadata": {
        "colab": {
          "base_uri": "https://localhost:8080/"
        },
        "id": "eKhPeyp-HDJx",
        "outputId": "1de4885e-8e58-4417-87bd-e4c981ec11c5"
      },
      "execution_count": null,
      "outputs": [
        {
          "output_type": "stream",
          "name": "stdout",
          "text": [
            "Jméno: Anna, Příjmení: Neznámé\n",
            "Koníčky:\n",
            "- fotbal\n",
            "- cestování\n"
          ]
        }
      ]
    },
    {
      "cell_type": "markdown",
      "source": [
        "### Př. 27 DÚ\n",
        "\n",
        "vytvořte slovník s vaším jménem, příjmením, věkem a váhou, pokud něco z toho nebude zadáno, tak píšeme \"XXX\""
      ],
      "metadata": {
        "id": "SF67CBWGJEJT"
      }
    },
    {
      "cell_type": "code",
      "source": [
        "def vypis_jmeno_vek_vaha(*args, **kwargs):\n",
        "    jmeno = kwargs.get(\"jmeno\", \"Neznámé\")\n",
        "    prijmeni = kwargs.get(\"prijmeni\", \"Neznámé\")\n",
        "    vek = kwargs.get(\"vek\", \"XXX\")\n",
        "    vaha = kwargs.get(\"vaha\", \"XXX\")\n",
        "    print(f\"Jméno: {jmeno}, Příjmení: {prijmeni}, Věk: {vek}, Váha: {vaha}\")\n",
        "\n",
        "\n",
        "vypis_jmeno_vek_vaha(jmeno=\"Marie\", prijmeni=\"Habáňová\", vek= \"neuvedeno\", vaha = \"neuvedeno\")"
      ],
      "metadata": {
        "colab": {
          "base_uri": "https://localhost:8080/"
        },
        "id": "WDQRlncFJaCp",
        "outputId": "9ce5f98c-1aeb-49af-8885-7c104dc89a07"
      },
      "execution_count": null,
      "outputs": [
        {
          "output_type": "stream",
          "name": "stdout",
          "text": [
            "Jméno: Marie, Příjmení: Habáňová, Věk: XXX, Váha: XXX\n"
          ]
        }
      ]
    },
    {
      "cell_type": "markdown",
      "source": [
        "## Dekorátor\n",
        "\n",
        "Dekorátor obaluje dříve definovanou funkci a umožňuje přidávat kód před a po jejím spuštění."
      ],
      "metadata": {
        "id": "qgnKYATOPfCa"
      }
    },
    {
      "cell_type": "markdown",
      "source": [
        "Syntaxe\n",
        "\n",
        "    @dekorator\n",
        "    def funkce():\n",
        "      #tělo funkce\n",
        "\n"
      ],
      "metadata": {
        "id": "NhlXp9HcPo-I"
      }
    },
    {
      "cell_type": "markdown",
      "source": [
        "### Př. 28 \"Ahoj Světe\" zjednodušeno"
      ],
      "metadata": {
        "id": "N5DBLENgQwFL"
      }
    },
    {
      "cell_type": "code",
      "source": [
        "def hello_world(*args, **kwargs):\n",
        "  return \"hello world\""
      ],
      "metadata": {
        "id": "nDvO9NKfSeQA"
      },
      "execution_count": null,
      "outputs": []
    },
    {
      "cell_type": "code",
      "source": [
        "def decorator(func):\n",
        "  def wrapper(*args, **kwargs):\n",
        "    return f\"2024-01-04 - {func(*args, **kwargs)} ->rozšířeno o tento text\"\n",
        "\n",
        "  return wrapper"
      ],
      "metadata": {
        "id": "YDYCoZ1aSlLY"
      },
      "execution_count": null,
      "outputs": []
    },
    {
      "cell_type": "code",
      "source": [
        "print(decorator(hello_world)())"
      ],
      "metadata": {
        "colab": {
          "base_uri": "https://localhost:8080/"
        },
        "id": "Hhz0pMsFS9zb",
        "outputId": "16dc7606-7f04-4bc7-80c7-c493710527d5"
      },
      "execution_count": null,
      "outputs": [
        {
          "output_type": "stream",
          "name": "stdout",
          "text": [
            "2024-01-04 - hello world ->rozšířeno o tento text\n"
          ]
        }
      ]
    },
    {
      "cell_type": "code",
      "source": [
        "print(hello_world())"
      ],
      "metadata": {
        "colab": {
          "base_uri": "https://localhost:8080/"
        },
        "id": "0EGoSwLbSvo8",
        "outputId": "9dc4e4a1-9206-4e33-f23b-f4d99f2b46c2"
      },
      "execution_count": null,
      "outputs": [
        {
          "output_type": "stream",
          "name": "stdout",
          "text": [
            "hello world\n"
          ]
        }
      ]
    },
    {
      "cell_type": "markdown",
      "source": [
        "### Př. 29 \"Ahoj Světe\""
      ],
      "metadata": {
        "id": "_0TLNFu1TXjm"
      }
    },
    {
      "cell_type": "code",
      "source": [
        "def jednoduchy_decorator(func):\n",
        "    def wrapper():\n",
        "        print(\"Před voláním funkce\")\n",
        "        func()\n",
        "        print(\"Po volání funkce\")\n",
        "    return wrapper\n",
        "\n",
        "@jednoduchy_decorator #volání dekorátoru\n",
        "def pozdrav():\n",
        "    print(\"Ahoj světe!\")\n",
        "\n",
        "pozdrav()"
      ],
      "metadata": {
        "colab": {
          "base_uri": "https://localhost:8080/"
        },
        "id": "su-fJx6kPm-b",
        "outputId": "cdac6f03-429f-4fe8-b07b-d53290aa147b"
      },
      "execution_count": null,
      "outputs": [
        {
          "output_type": "stream",
          "name": "stdout",
          "text": [
            "Ahoj světe!\n"
          ]
        }
      ]
    },
    {
      "cell_type": "markdown",
      "source": [
        "###Př. 30 Doba trvání funkce"
      ],
      "metadata": {
        "id": "92naC5Uucf4_"
      }
    },
    {
      "cell_type": "code",
      "source": [
        "import time\n",
        "\n",
        "def doba_trvani(func):\n",
        "\n",
        "  def wrapper(*arg, **kwargs):\n",
        "      t0 = time.time() # začátek měření času\n",
        "      result = func(*arg, **kwargs)\n",
        "      t1 = time.time() # konec měření času\n",
        "      print(\"Doba trvání funkce (sekundy): \" + str(t1 - t0))\n",
        "      return result\n",
        "  return wrapper\n",
        "\n",
        "@doba_trvani\n",
        "def soucet(a, b, n):\n",
        "  time.sleep(n) #funkce sleep mi zastaví program na daný počet vteřin\n",
        "  return a + b\n",
        "\n",
        "soucet(500,600,10)"
      ],
      "metadata": {
        "colab": {
          "base_uri": "https://localhost:8080/"
        },
        "id": "bluIXYZOcVB4",
        "outputId": "7ccc62f4-839f-468b-8254-b3858b0e3343"
      },
      "execution_count": null,
      "outputs": [
        {
          "output_type": "stream",
          "name": "stdout",
          "text": [
            "1735988408.39902\n",
            "1735988418.4092455\n",
            "Doba trvání funkce (sekundy): 10.010225534439087\n"
          ]
        },
        {
          "output_type": "execute_result",
          "data": {
            "text/plain": [
              "1100"
            ]
          },
          "metadata": {},
          "execution_count": 104
        }
      ]
    },
    {
      "cell_type": "code",
      "source": [
        "time.localtime() #funkce mi řekne, jaký je aktuální čas"
      ],
      "metadata": {
        "colab": {
          "base_uri": "https://localhost:8080/"
        },
        "id": "QNKNHAqk9P-u",
        "outputId": "d0e21664-293a-4205-b59d-0d81725582a3"
      },
      "execution_count": null,
      "outputs": [
        {
          "output_type": "execute_result",
          "data": {
            "text/plain": [
              "time.struct_time(tm_year=2025, tm_mon=1, tm_mday=4, tm_hour=10, tm_min=56, tm_sec=31, tm_wday=5, tm_yday=4, tm_isdst=0)"
            ]
          },
          "metadata": {},
          "execution_count": 101
        }
      ]
    },
    {
      "cell_type": "markdown",
      "source": [
        "###Př. 31 DÚ\n",
        "vstup: list čísel\n",
        "\n",
        "výstup: funkce součin, která vrátí výsledek,\n",
        "\n",
        "výstup2: dekorátor, který za součin přidá formuli \"vytvořeno na kurzu SDA\""
      ],
      "metadata": {
        "id": "qMEby0q7exP1"
      }
    },
    {
      "cell_type": "code",
      "source": [
        "def dekorator(func):\n",
        "    def wrapper(*args, **kwargs):\n",
        "        result = func(*args, **kwargs)\n",
        "        return f\"{result} - vytvořeno na kurzu SDA\"\n",
        "    return wrapper\n",
        "\n",
        "@dekorator\n",
        "def soucin(*n):\n",
        "    suma = 1\n",
        "    for x in n:\n",
        "        suma = suma * x\n",
        "    return suma\n",
        "print(soucin(-1,2,3,4))"
      ],
      "metadata": {
        "colab": {
          "base_uri": "https://localhost:8080/"
        },
        "id": "53I0c0-RLcPi",
        "outputId": "1117fcf0-bb19-42b9-a161-35f12e24f164"
      },
      "execution_count": null,
      "outputs": [
        {
          "output_type": "stream",
          "name": "stdout",
          "text": [
            "-24 - vytvořeno na kurzu SDA\n"
          ]
        }
      ]
    },
    {
      "cell_type": "markdown",
      "source": [
        "### Př. 32 DÚ\n",
        "udělejte kalkulačku\n",
        "\n",
        "vstupy: tři hodnoty\n",
        "\n",
        "funkce kalkulačky: součet, rozdíl, součin, podíl, mocnina,\n",
        "\n",
        "pomocí dekorátoru spočítat dobu operace\n",
        "extra - error handling\n",
        "\n"
      ],
      "metadata": {
        "id": "3GY_-MwdhOLe"
      }
    },
    {
      "cell_type": "code",
      "source": [
        "import time\n",
        "\n",
        "def doba_trvani2(func):\n",
        "  def wrapper(*arg, **kwargs):\n",
        "      t0 = time.time() # začátek\n",
        "      result = func(*arg, **kwargs)\n",
        "      t1 = time.time()\n",
        "      print(\"Doba trvání funkce (sekundy): \" + str(t1 - t0))\n",
        "      return result\n",
        "  return wrapper\n",
        "\n",
        "@doba_trvani2\n",
        "def kalkulacka(a,b,c):\n",
        "  try:\n",
        "    def soucet(a,b,c):\n",
        "      return f\"Součet je {a+b+c}\"\n",
        "    def rozdil(a,b,c):\n",
        "      return f\"Rozdíl je {a-b-c}\"\n",
        "    def soucin(a,b,c):\n",
        "      return f\"Součin je {a*b*c}\"\n",
        "    def podil(a,b,c):\n",
        "      if b==0 or c==0:\n",
        "        return f\"Podíl nebyl spočítán z důvodu dělení nulou\"\n",
        "      else:\n",
        "        return f\"Podíl je {a/b/c}\"\n",
        "    def mocnina(a,b,c):\n",
        "      return f\"Mocnina je {a**b**c}\"\n",
        "\n",
        "    return soucet(a,b,c), rozdil(a,b,c), soucin(a,b,c), podil(a,b,c), mocnina(a,b,c)\n",
        "  except:\n",
        "    return \"Byla vyhozena chyba\""
      ],
      "metadata": {
        "id": "I3z4aUqelHe5"
      },
      "execution_count": null,
      "outputs": []
    },
    {
      "cell_type": "code",
      "source": [
        "print(kalkulacka(1,2,3))"
      ],
      "metadata": {
        "colab": {
          "base_uri": "https://localhost:8080/"
        },
        "id": "ahlOw020mAP8",
        "outputId": "04be53bd-14dc-4aa4-b728-bc9dbd640bb0"
      },
      "execution_count": null,
      "outputs": [
        {
          "output_type": "stream",
          "name": "stdout",
          "text": [
            "Doba trvání funkce (sekundy): 2.86102294921875e-05\n",
            "('Součet je 6', 'Rozdíl je -4', 'Součin je 6', 'Podíl je 0.16666666666666666', 'Mocnina je 1')\n"
          ]
        }
      ]
    },
    {
      "cell_type": "markdown",
      "source": [
        "## Ošetřování chyb\n",
        "\n",
        "Chyby a výjimky jsou situace, kdy program narazí na problém, který zabrání dalšímu provádění kódu."
      ],
      "metadata": {
        "id": "_AlTESbkg03X"
      }
    },
    {
      "cell_type": "markdown",
      "source": [
        "### Typy chyb"
      ],
      "metadata": {
        "id": "rHlRB5_CiFWM"
      }
    },
    {
      "cell_type": "markdown",
      "source": [
        "**TypeError** - Když operace nebo funkce je použita na nevhodný typ."
      ],
      "metadata": {
        "id": "TFCG05IjhfBW"
      }
    },
    {
      "cell_type": "code",
      "source": [
        "print(5 + \"text\") #TypeError"
      ],
      "metadata": {
        "colab": {
          "base_uri": "https://localhost:8080/",
          "height": 141
        },
        "id": "ov1Az5_-g0Rs",
        "outputId": "938678e5-ce16-4d80-b67c-de09e95f3e28"
      },
      "execution_count": null,
      "outputs": [
        {
          "output_type": "error",
          "ename": "TypeError",
          "evalue": "unsupported operand type(s) for +: 'int' and 'str'",
          "traceback": [
            "\u001b[0;31m---------------------------------------------------------------------------\u001b[0m",
            "\u001b[0;31mTypeError\u001b[0m                                 Traceback (most recent call last)",
            "\u001b[0;32m<ipython-input-127-c860547d3903>\u001b[0m in \u001b[0;36m<cell line: 1>\u001b[0;34m()\u001b[0m\n\u001b[0;32m----> 1\u001b[0;31m \u001b[0mprint\u001b[0m\u001b[0;34m(\u001b[0m\u001b[0;36m5\u001b[0m \u001b[0;34m+\u001b[0m \u001b[0;34m\"text\"\u001b[0m\u001b[0;34m)\u001b[0m \u001b[0;31m#TypeError\u001b[0m\u001b[0;34m\u001b[0m\u001b[0;34m\u001b[0m\u001b[0m\n\u001b[0m",
            "\u001b[0;31mTypeError\u001b[0m: unsupported operand type(s) for +: 'int' and 'str'"
          ]
        }
      ]
    },
    {
      "cell_type": "markdown",
      "source": [
        "**AssertionError** - Když výraz je nepravdivý."
      ],
      "metadata": {
        "id": "rHeu75griLPU"
      }
    },
    {
      "cell_type": "code",
      "source": [
        "assert 2 + 2 == 5  # AssertionError"
      ],
      "metadata": {
        "colab": {
          "base_uri": "https://localhost:8080/",
          "height": 141
        },
        "id": "ekfc2RVLiQg2",
        "outputId": "e1dd29b0-107f-4128-bd50-36e5f72d3ae3"
      },
      "execution_count": null,
      "outputs": [
        {
          "output_type": "error",
          "ename": "AssertionError",
          "evalue": "",
          "traceback": [
            "\u001b[0;31m---------------------------------------------------------------------------\u001b[0m",
            "\u001b[0;31mAssertionError\u001b[0m                            Traceback (most recent call last)",
            "\u001b[0;32m<ipython-input-128-391613ba69e7>\u001b[0m in \u001b[0;36m<cell line: 1>\u001b[0;34m()\u001b[0m\n\u001b[0;32m----> 1\u001b[0;31m \u001b[0;32massert\u001b[0m \u001b[0;36m2\u001b[0m \u001b[0;34m+\u001b[0m \u001b[0;36m2\u001b[0m \u001b[0;34m==\u001b[0m \u001b[0;36m5\u001b[0m  \u001b[0;31m# AssertionError\u001b[0m\u001b[0;34m\u001b[0m\u001b[0;34m\u001b[0m\u001b[0m\n\u001b[0m",
            "\u001b[0;31mAssertionError\u001b[0m: "
          ]
        }
      ]
    },
    {
      "cell_type": "markdown",
      "source": [
        "**KeyError** - Při pokusu o přístup ke klíči, který neexistuje ve slovníku."
      ],
      "metadata": {
        "id": "Jhg7_XNfi5RV"
      }
    },
    {
      "cell_type": "code",
      "source": [
        "slovnik = {\"klic\": \"hodnota\"}\n",
        "print(slovnik[\"neexistujici_klic\"])  # KeyError"
      ],
      "metadata": {
        "colab": {
          "base_uri": "https://localhost:8080/",
          "height": 158
        },
        "id": "x3RvB6MJjBw4",
        "outputId": "f7d24f3c-5511-4045-eb64-450a35dd6c59"
      },
      "execution_count": null,
      "outputs": [
        {
          "output_type": "error",
          "ename": "KeyError",
          "evalue": "'neexistujici_klic'",
          "traceback": [
            "\u001b[0;31m---------------------------------------------------------------------------\u001b[0m",
            "\u001b[0;31mKeyError\u001b[0m                                  Traceback (most recent call last)",
            "\u001b[0;32m<ipython-input-131-11b668a76028>\u001b[0m in \u001b[0;36m<cell line: 2>\u001b[0;34m()\u001b[0m\n\u001b[1;32m      1\u001b[0m \u001b[0mslovnik\u001b[0m \u001b[0;34m=\u001b[0m \u001b[0;34m{\u001b[0m\u001b[0;34m\"klic\"\u001b[0m\u001b[0;34m:\u001b[0m \u001b[0;34m\"hodnota\"\u001b[0m\u001b[0;34m}\u001b[0m\u001b[0;34m\u001b[0m\u001b[0;34m\u001b[0m\u001b[0m\n\u001b[0;32m----> 2\u001b[0;31m \u001b[0mprint\u001b[0m\u001b[0;34m(\u001b[0m\u001b[0mslovnik\u001b[0m\u001b[0;34m[\u001b[0m\u001b[0;34m\"neexistujici_klic\"\u001b[0m\u001b[0;34m]\u001b[0m\u001b[0;34m)\u001b[0m  \u001b[0;31m# KeyError\u001b[0m\u001b[0;34m\u001b[0m\u001b[0;34m\u001b[0m\u001b[0m\n\u001b[0m",
            "\u001b[0;31mKeyError\u001b[0m: 'neexistujici_klic'"
          ]
        }
      ]
    },
    {
      "cell_type": "markdown",
      "source": [
        "**ModuleNotFoundError** - Když importovaný modul neexistuje."
      ],
      "metadata": {
        "id": "bshgcMCnjI0n"
      }
    },
    {
      "cell_type": "code",
      "source": [
        "import neexistujici_modul  # ModuleNotFoundError"
      ],
      "metadata": {
        "id": "qusr4fwOjR9-"
      },
      "execution_count": null,
      "outputs": []
    },
    {
      "cell_type": "markdown",
      "source": [
        "**IndexError** - Při pokusu o přístup k neexistujícímu indexu v seznamu."
      ],
      "metadata": {
        "id": "erAuzUMRjVvm"
      }
    },
    {
      "cell_type": "code",
      "source": [
        "seznam = [1, 2, 3]\n",
        "print(seznam[10])  # IndexError"
      ],
      "metadata": {
        "colab": {
          "base_uri": "https://localhost:8080/",
          "height": 158
        },
        "id": "B9BH-ywpjZ9J",
        "outputId": "5f4f10d5-b638-477e-ea79-74fa385a8a8f"
      },
      "execution_count": null,
      "outputs": [
        {
          "output_type": "error",
          "ename": "IndexError",
          "evalue": "list index out of range",
          "traceback": [
            "\u001b[0;31m---------------------------------------------------------------------------\u001b[0m",
            "\u001b[0;31mIndexError\u001b[0m                                Traceback (most recent call last)",
            "\u001b[0;32m<ipython-input-133-2b811d7e85b2>\u001b[0m in \u001b[0;36m<cell line: 2>\u001b[0;34m()\u001b[0m\n\u001b[1;32m      1\u001b[0m \u001b[0mseznam\u001b[0m \u001b[0;34m=\u001b[0m \u001b[0;34m[\u001b[0m\u001b[0;36m1\u001b[0m\u001b[0;34m,\u001b[0m \u001b[0;36m2\u001b[0m\u001b[0;34m,\u001b[0m \u001b[0;36m3\u001b[0m\u001b[0;34m]\u001b[0m\u001b[0;34m\u001b[0m\u001b[0;34m\u001b[0m\u001b[0m\n\u001b[0;32m----> 2\u001b[0;31m \u001b[0mprint\u001b[0m\u001b[0;34m(\u001b[0m\u001b[0mseznam\u001b[0m\u001b[0;34m[\u001b[0m\u001b[0;36m10\u001b[0m\u001b[0;34m]\u001b[0m\u001b[0;34m)\u001b[0m  \u001b[0;31m# IndexError\u001b[0m\u001b[0;34m\u001b[0m\u001b[0;34m\u001b[0m\u001b[0m\n\u001b[0m",
            "\u001b[0;31mIndexError\u001b[0m: list index out of range"
          ]
        }
      ]
    },
    {
      "cell_type": "markdown",
      "source": [
        "**NameError** - Když se pokusíte použít proměnnou, která není definovaná."
      ],
      "metadata": {
        "id": "pPWnWZPkjc8-"
      }
    },
    {
      "cell_type": "code",
      "source": [
        "print(neexistujici_promenna)  # NameError"
      ],
      "metadata": {
        "colab": {
          "base_uri": "https://localhost:8080/",
          "height": 141
        },
        "id": "8tAd8kl-ji9j",
        "outputId": "b8cb69bf-552c-4860-f64e-4c7c362a83af"
      },
      "execution_count": null,
      "outputs": [
        {
          "output_type": "error",
          "ename": "NameError",
          "evalue": "name 'neexistujici_promenna' is not defined",
          "traceback": [
            "\u001b[0;31m---------------------------------------------------------------------------\u001b[0m",
            "\u001b[0;31mNameError\u001b[0m                                 Traceback (most recent call last)",
            "\u001b[0;32m<ipython-input-134-92bc27544659>\u001b[0m in \u001b[0;36m<cell line: 1>\u001b[0;34m()\u001b[0m\n\u001b[0;32m----> 1\u001b[0;31m \u001b[0mprint\u001b[0m\u001b[0;34m(\u001b[0m\u001b[0mneexistujici_promenna\u001b[0m\u001b[0;34m)\u001b[0m  \u001b[0;31m# NameError\u001b[0m\u001b[0;34m\u001b[0m\u001b[0;34m\u001b[0m\u001b[0m\n\u001b[0m",
            "\u001b[0;31mNameError\u001b[0m: name 'neexistujici_promenna' is not defined"
          ]
        }
      ]
    },
    {
      "cell_type": "markdown",
      "source": [
        "**ZeroDivisionError** - Při pokusu o dělení nulou."
      ],
      "metadata": {
        "id": "ysd4VtP9jl0i"
      }
    },
    {
      "cell_type": "code",
      "source": [
        "print(10 / 0)  # ZeroDivisionError"
      ],
      "metadata": {
        "id": "Oj7wjIxzjlQ5"
      },
      "execution_count": null,
      "outputs": []
    },
    {
      "cell_type": "markdown",
      "source": [
        "**SyntaxError** - Když je v kódu syntaktická chyba."
      ],
      "metadata": {
        "id": "MBwzpgIwjzTz"
      }
    },
    {
      "cell_type": "code",
      "source": [
        "eval(If True print('chyba'))  # SyntaxError"
      ],
      "metadata": {
        "colab": {
          "base_uri": "https://localhost:8080/",
          "height": 106
        },
        "id": "RuOTKA6Ojy38",
        "outputId": "a624f5b3-d64e-491d-98c5-7dfbc1af2a14"
      },
      "execution_count": null,
      "outputs": [
        {
          "output_type": "error",
          "ename": "SyntaxError",
          "evalue": "invalid syntax. Perhaps you forgot a comma? (<ipython-input-137-2e456eeaa1df>, line 1)",
          "traceback": [
            "\u001b[0;36m  File \u001b[0;32m\"<ipython-input-137-2e456eeaa1df>\"\u001b[0;36m, line \u001b[0;32m1\u001b[0m\n\u001b[0;31m    eval(If True print('chyba'))  # SyntaxError\u001b[0m\n\u001b[0m         ^\u001b[0m\n\u001b[0;31mSyntaxError\u001b[0m\u001b[0;31m:\u001b[0m invalid syntax. Perhaps you forgot a comma?\n"
          ]
        }
      ]
    },
    {
      "cell_type": "markdown",
      "source": [
        "### Try-except\n",
        "\n",
        "Blok try-except umožňuje zachytit chyby a zpracovat je tak, aby program nepřestal fungovat."
      ],
      "metadata": {
        "id": "blaF9OOtkKz6"
      }
    },
    {
      "cell_type": "code",
      "source": [
        "x = 10 / 0"
      ],
      "metadata": {
        "colab": {
          "base_uri": "https://localhost:8080/",
          "height": 141
        },
        "id": "wEP4VmGHPnO-",
        "outputId": "d92bb608-8aa2-4920-8b8b-5aa8d0c18ade"
      },
      "execution_count": null,
      "outputs": [
        {
          "output_type": "error",
          "ename": "ZeroDivisionError",
          "evalue": "division by zero",
          "traceback": [
            "\u001b[0;31m---------------------------------------------------------------------------\u001b[0m",
            "\u001b[0;31mZeroDivisionError\u001b[0m                         Traceback (most recent call last)",
            "\u001b[0;32m<ipython-input-139-b7ca4c095d4f>\u001b[0m in \u001b[0;36m<cell line: 1>\u001b[0;34m()\u001b[0m\n\u001b[0;32m----> 1\u001b[0;31m \u001b[0mx\u001b[0m \u001b[0;34m=\u001b[0m \u001b[0;36m10\u001b[0m \u001b[0;34m/\u001b[0m \u001b[0;36m0\u001b[0m\u001b[0;34m\u001b[0m\u001b[0;34m\u001b[0m\u001b[0m\n\u001b[0m",
            "\u001b[0;31mZeroDivisionError\u001b[0m: division by zero"
          ]
        }
      ]
    },
    {
      "cell_type": "code",
      "source": [
        "try:\n",
        "    x = 10 / 0\n",
        "except ZeroDivisionError:\n",
        "    print(\"Chyba: Pokus o dělení nulou.\")"
      ],
      "metadata": {
        "colab": {
          "base_uri": "https://localhost:8080/"
        },
        "id": "YJUYn0nkkP21",
        "outputId": "9117f4d0-164a-4bae-df0d-26fbebccb4c3"
      },
      "execution_count": null,
      "outputs": [
        {
          "output_type": "stream",
          "name": "stdout",
          "text": [
            "Chyba: Pokus o dělení nulou.\n"
          ]
        }
      ]
    },
    {
      "cell_type": "markdown",
      "source": [
        "### Else a finally\n",
        "\n",
        "Blok else se spouští, pokud v bloku try není žádná chyba. Blok finally se spouští vždy, bez ohledu na to, zda chyba nastala.\n",
        "\n"
      ],
      "metadata": {
        "id": "65M_w5kskzcs"
      }
    },
    {
      "cell_type": "code",
      "source": [
        "try:\n",
        "    x = 10 / 2\n",
        "except ZeroDivisionError:\n",
        "    print(\"Chyba: Pokus o dělení nulou.\")\n",
        "else:\n",
        "    print(\"Dělení proběhlo úspěšně.\")\n",
        "finally:\n",
        "    print(\"Tento text se zobrazí vždy.\")"
      ],
      "metadata": {
        "colab": {
          "base_uri": "https://localhost:8080/"
        },
        "id": "1pxRbIg_ky6r",
        "outputId": "635b3a6c-a192-45c9-be27-c9d7ddac26a3"
      },
      "execution_count": null,
      "outputs": [
        {
          "output_type": "stream",
          "name": "stdout",
          "text": [
            "Dělení proběhlo úspěšně.\n",
            "Tento text se zobrazí vždy.\n"
          ]
        }
      ]
    },
    {
      "cell_type": "markdown",
      "source": [
        "Mohu specifikovat chyby a jejich hlášky"
      ],
      "metadata": {
        "id": "TCbemBxTnkMW"
      }
    },
    {
      "cell_type": "code",
      "source": [
        "try:\n",
        " import timesy\n",
        "except IndexError:\n",
        "  print('IndexError')\n",
        "except KeyError:\n",
        "  print('Toto je KeyError')\n",
        "except Exception as e:\n",
        "  print(f\"Chyba: {e}\")\n",
        "else:\n",
        "  print('Žádná výjimka')\n",
        "finally:\n",
        "  print('pokračujeme')"
      ],
      "metadata": {
        "colab": {
          "base_uri": "https://localhost:8080/"
        },
        "id": "5mphcP3knPMc",
        "outputId": "25793db6-e6cb-4370-88cb-cc0e09c0d77a"
      },
      "execution_count": null,
      "outputs": [
        {
          "output_type": "stream",
          "name": "stdout",
          "text": [
            "Chyba: No module named 'timesy'\n",
            "pokračujeme\n"
          ]
        }
      ]
    },
    {
      "cell_type": "markdown",
      "source": [
        "Více výjimek dohromady"
      ],
      "metadata": {
        "id": "Qf5K725GoVmg"
      }
    },
    {
      "cell_type": "code",
      "source": [
        "try:\n",
        "    print(10/\"3\")  # '3' is a user input\n",
        "except (ZeroDivisionError, TypeError):\n",
        "    print(\"Nedělte nulou a údaje musí být číselné\")"
      ],
      "metadata": {
        "colab": {
          "base_uri": "https://localhost:8080/"
        },
        "id": "9i1zOSo4oTZ2",
        "outputId": "779d67e6-ae8f-48e0-b9ea-cf881ade24a1"
      },
      "execution_count": null,
      "outputs": [
        {
          "output_type": "stream",
          "name": "stdout",
          "text": [
            "Nedělte nulou a údaje musí být číselné\n"
          ]
        }
      ]
    },
    {
      "cell_type": "markdown",
      "source": [
        "###Př. 33 DÚ\n",
        "Napište program, který požaduje od uživatele zadat číslo, a ošetřete chyby, pokud uživatel zadá text."
      ],
      "metadata": {
        "id": "Qn7GN1Fgum_z"
      }
    },
    {
      "cell_type": "code",
      "source": [
        "try:\n",
        "    cislo = int(input(\"Zadejte cislo \"))\n",
        "    print(cislo)\n",
        "\n",
        "except ValueError:\n",
        "    print(\"Vstupem musi byt cislo, nikoliv text\")\n",
        "except Exception as e:\n",
        "  print(f\"Chyba: {e}\")"
      ],
      "metadata": {
        "colab": {
          "base_uri": "https://localhost:8080/"
        },
        "id": "MBHz1BzPuvCu",
        "outputId": "1e8f70c5-f1e3-4e6a-9428-df3d68e07eea"
      },
      "execution_count": null,
      "outputs": [
        {
          "output_type": "stream",
          "name": "stdout",
          "text": [
            "Zadejte cislo 123\n",
            "123\n"
          ]
        }
      ]
    },
    {
      "cell_type": "markdown",
      "source": [
        "# Objektově orientované programování (OOP) v Pythonu\n",
        "\n",
        "Objektově orientované programování (OOP) je programovací paradigma, které organizuje kód kolem objektů. Objekt je instance třídy, která obsahuje data (atributy) a chování (metody).\n",
        "\n",
        "Hlavní principy OOP:\n",
        "- **Zapouzdření:** Sdružování dat a metod, které s nimi pracují, a ochrana před neoprávněným přístupem.\n",
        "- **Dědičnost:** Možnost odvodit nové třídy z existujících.\n",
        "- **Polymorfismus:** Schopnost různých objektů reagovat odlišně na stejnou metodu.\n",
        "- **Abstrakce:** Skrytí detailů implementace a zobrazení pouze podstatných vlastností."
      ],
      "metadata": {
        "id": "HvLqVdwHSK9i"
      }
    },
    {
      "cell_type": "markdown",
      "source": [
        "## Názvosloví\n",
        "Třída je šablona pro vytváření objektů. Obsahuje atributy a metody, které definují chování a vlastnosti objektu.\n"
      ],
      "metadata": {
        "id": "v5xCTEEjTSI4"
      }
    },
    {
      "cell_type": "markdown",
      "source": [
        "class(třída) -> šablonu\n",
        "\n",
        "metody -> funkce\n",
        "\n",
        "atributy -> proměnné"
      ],
      "metadata": {
        "id": "l8uKqqsOVjB5"
      }
    },
    {
      "cell_type": "markdown",
      "source": [
        "### Př. 34 Můj pes\n",
        "definování konstruktoru"
      ],
      "metadata": {
        "id": "JDVZtmt62FV6"
      }
    },
    {
      "cell_type": "code",
      "source": [
        "class Dog:\n",
        "    def __init__(self, name):\n",
        "      \"\"\" inicializace objektu pomocí konstruktoru\"\"\"\n",
        "        self.name = name\n",
        "\n",
        "my_dog = Dog(\"Buddy\")\n",
        "print(my_dog.name)"
      ],
      "metadata": {
        "colab": {
          "base_uri": "https://localhost:8080/"
        },
        "id": "k6F83ZkQ2DeQ",
        "outputId": "173a200b-861e-414f-bfff-68aaa0fa7495"
      },
      "execution_count": null,
      "outputs": [
        {
          "output_type": "stream",
          "name": "stdout",
          "text": [
            "Buddy\n"
          ]
        }
      ]
    },
    {
      "cell_type": "markdown",
      "source": [
        "###Př. 34 Studenti\n",
        "konstruktor s povinnými i nepovinnými proměnnými (pohlaví) a předem nastavenou hodnotou (self.student=True)"
      ],
      "metadata": {
        "id": "7hoSvJrAPG2R"
      }
    },
    {
      "cell_type": "code",
      "source": [
        "class Studenti:\n",
        "  def __init__(self,jmeno, prijmeni, rok_narozeni, pohlavi=\"XXX\"):\n",
        "    \"\"\" inicializace objektu \"\"\"\n",
        "    self.jmeno = jmeno\n",
        "    self.prijmeni = prijmeni\n",
        "    self.rok_narozeni = rok_narozeni\n",
        "    self.pohlavi=pohlavi\n",
        "    self.student=True"
      ],
      "metadata": {
        "id": "M_Hv5PoBWsV6"
      },
      "execution_count": null,
      "outputs": []
    },
    {
      "cell_type": "code",
      "source": [
        "id1=Studenti(\"Garegin\", \"Minasjan\", 1993, \"muž\")\n",
        "id2=Studenti(\"Anna\", \"Dvořáková\", 1998, \"žena\")\n",
        "id3=Studenti(\"Petr\", \"Pavel\", 2000)"
      ],
      "metadata": {
        "id": "hee4vnNAXGTZ"
      },
      "execution_count": null,
      "outputs": []
    },
    {
      "cell_type": "code",
      "source": [
        "print(id3.pohlavi, id3.rok_narozeni)"
      ],
      "metadata": {
        "colab": {
          "base_uri": "https://localhost:8080/"
        },
        "id": "1ITlaWCbXrdJ",
        "outputId": "a2ccc413-e148-4a55-a94a-69c711953cf8"
      },
      "execution_count": null,
      "outputs": [
        {
          "output_type": "stream",
          "name": "stdout",
          "text": [
            "XXX 2000\n"
          ]
        }
      ]
    },
    {
      "cell_type": "markdown",
      "source": [
        "### Př. 35 Můj pes 2"
      ],
      "metadata": {
        "id": "VGrCieIH2wRD"
      }
    },
    {
      "cell_type": "code",
      "source": [
        "dir([]) #zobrazí mi všechny možné funkce pro daný typ"
      ],
      "metadata": {
        "colab": {
          "base_uri": "https://localhost:8080/"
        },
        "collapsed": true,
        "id": "da_OLABsWet7",
        "outputId": "cda20227-c85d-4fa1-e706-524b51aa531b"
      },
      "execution_count": null,
      "outputs": [
        {
          "output_type": "execute_result",
          "data": {
            "text/plain": [
              "['__add__',\n",
              " '__class__',\n",
              " '__class_getitem__',\n",
              " '__contains__',\n",
              " '__delattr__',\n",
              " '__delitem__',\n",
              " '__dir__',\n",
              " '__doc__',\n",
              " '__eq__',\n",
              " '__format__',\n",
              " '__ge__',\n",
              " '__getattribute__',\n",
              " '__getitem__',\n",
              " '__gt__',\n",
              " '__hash__',\n",
              " '__iadd__',\n",
              " '__imul__',\n",
              " '__init__',\n",
              " '__init_subclass__',\n",
              " '__iter__',\n",
              " '__le__',\n",
              " '__len__',\n",
              " '__lt__',\n",
              " '__mul__',\n",
              " '__ne__',\n",
              " '__new__',\n",
              " '__reduce__',\n",
              " '__reduce_ex__',\n",
              " '__repr__',\n",
              " '__reversed__',\n",
              " '__rmul__',\n",
              " '__setattr__',\n",
              " '__setitem__',\n",
              " '__sizeof__',\n",
              " '__str__',\n",
              " '__subclasshook__',\n",
              " 'append',\n",
              " 'clear',\n",
              " 'copy',\n",
              " 'count',\n",
              " 'extend',\n",
              " 'index',\n",
              " 'insert',\n",
              " 'pop',\n",
              " 'remove',\n",
              " 'reverse',\n",
              " 'sort']"
            ]
          },
          "metadata": {},
          "execution_count": 156
        }
      ]
    },
    {
      "cell_type": "code",
      "source": [
        "class Dog2:\n",
        "    # Konstruktor (__init__) pro inicializaci instance\n",
        "    def __init__(self, jmeno, vek):\n",
        "        self.jmeno = jmeno  # Atribut instance\n",
        "        self.vek = vek\n",
        "\n",
        "    # Metoda instance\n",
        "    def stekot(self):\n",
        "        return f\"{self.jmeno}, zaštěkej!\"\n"
      ],
      "metadata": {
        "id": "eUhnVcc_2zTn"
      },
      "execution_count": null,
      "outputs": []
    },
    {
      "cell_type": "code",
      "source": [
        "my_dog = Dog2(\"Buddy\", 3)\n",
        "my_dog.stekot()\n"
      ],
      "metadata": {
        "colab": {
          "base_uri": "https://localhost:8080/",
          "height": 36
        },
        "id": "1gAsm7QQ3D_V",
        "outputId": "ba43f7e3-64c7-431a-f219-90ac8489cce5"
      },
      "execution_count": null,
      "outputs": [
        {
          "output_type": "execute_result",
          "data": {
            "text/plain": [
              "'Buddy, zaštěkej!'"
            ],
            "application/vnd.google.colaboratory.intrinsic+json": {
              "type": "string"
            }
          },
          "metadata": {},
          "execution_count": 7
        }
      ]
    },
    {
      "cell_type": "markdown",
      "source": [
        "### Př. 36 Zaměstanci\n",
        "\n",
        "vytvořte třídu zamestanci_skoly: Jméno, Příjmení, Rok narození, pocet_let_praxe, platova_trida, Uzivatelske_jmeno, heslo"
      ],
      "metadata": {
        "id": "AyeY1AQX6bqh"
      }
    },
    {
      "cell_type": "code",
      "source": [
        "class Zamestanci_skoly:\n",
        "  koeficient_zvyseni_platu=1.05\n",
        "\n",
        "  def __init__(self, jmeno, prijmeni, rok_narozeni, pocet_let_praxe, plat, uzivatelske_jmeno, heslo):\n",
        "    self.jmeno = jmeno\n",
        "    self.prijmeni = prijmeni\n",
        "    self.rok_narozeni = rok_narozeni\n",
        "    self.pocet_let_praxe = pocet_let_praxe\n",
        "    self.__plat = plat\n",
        "    self.__uzivatelske_jmeno = uzivatelske_jmeno\n",
        "    self.__heslo = heslo\n",
        "\n",
        "  def zobraz_plat(self):\n",
        "    return self.__plat\n",
        "\n",
        "  def pridej_mi(self):\n",
        "    self.__plat=round(self.__plat*self.koeficient_zvyseni_platu,2)\n",
        "    return self.__plat\n",
        "\n",
        "  @classmethod\n",
        "  def novy_koeficient_platu(cls, novy_koeficient):\n",
        "    cls.koeficient_zvyseni_platu = novy_koeficient\n",
        "    return cls.koeficient_zvyseni_platu\n",
        "\n",
        "  @staticmethod\n",
        "  def extra_funkce1(*args, **kwargs):\n",
        "    return True\n",
        "\n",
        "  @staticmethod\n",
        "  def extra_funkce2(*args, **kwargs):\n",
        "    return True\n",
        "\n"
      ],
      "metadata": {
        "id": "g1pi0dXO7Gfd"
      },
      "execution_count": null,
      "outputs": []
    },
    {
      "cell_type": "code",
      "source": [
        "id01=Zamestanci_skoly(\"Garegin\", \"Minasjan\", 1993,5,25000,\"gminasjan\",\"1234BAF\")"
      ],
      "metadata": {
        "id": "r0K0gvCM9Stg"
      },
      "execution_count": null,
      "outputs": []
    },
    {
      "cell_type": "code",
      "source": [
        "id01.zobraz_plat()"
      ],
      "metadata": {
        "id": "_hCxdpo3L2S_",
        "outputId": "ae2f7c7e-6de6-4634-a00e-26a8ee1e858a",
        "colab": {
          "base_uri": "https://localhost:8080/"
        }
      },
      "execution_count": null,
      "outputs": [
        {
          "output_type": "execute_result",
          "data": {
            "text/plain": [
              "25000"
            ]
          },
          "metadata": {},
          "execution_count": 12
        }
      ]
    },
    {
      "cell_type": "code",
      "source": [
        "id01.novy_koeficient_platu(2.5)"
      ],
      "metadata": {
        "colab": {
          "base_uri": "https://localhost:8080/"
        },
        "id": "wWbQYwbS9kZ5",
        "outputId": "3af2b525-4775-409c-eb41-6e40b5813dd2"
      },
      "execution_count": null,
      "outputs": [
        {
          "output_type": "execute_result",
          "data": {
            "text/plain": [
              "2.5"
            ]
          },
          "metadata": {},
          "execution_count": 19
        }
      ]
    },
    {
      "cell_type": "code",
      "source": [
        "id01.koeficient_zvyseni_platu"
      ],
      "metadata": {
        "colab": {
          "base_uri": "https://localhost:8080/"
        },
        "id": "PUxipTY3-wVQ",
        "outputId": "616ad72b-ecfe-4add-e164-bd9a3aa8c1bd"
      },
      "execution_count": null,
      "outputs": [
        {
          "output_type": "execute_result",
          "data": {
            "text/plain": [
              "2.2"
            ]
          },
          "metadata": {},
          "execution_count": 18
        }
      ]
    },
    {
      "cell_type": "markdown",
      "source": [
        "### Př. 37 základní třída Auto\n",
        "\n",
        "a k němu dědičná funkce osobní auto"
      ],
      "metadata": {
        "id": "CGM_8Vs1TdC_"
      }
    },
    {
      "cell_type": "code",
      "source": [
        "class Auto:\n",
        "    def __init__(self, znacka, model, rok):\n",
        "        \"\"\"Konstruktor třídy Auto.\"\"\"\n",
        "        self.znacka = znacka  # Značka auta\n",
        "        self.model = model    # Model auta\n",
        "        self.rok = rok        # Rok výroby\n",
        "\n",
        "    def info(self):\n",
        "        \"\"\"Metoda, která vrací informace o autě.\"\"\"\n",
        "        return f\"Značka: {self.znacka} \\nModel: {self.model}\\nRok: ({self.rok})\""
      ],
      "metadata": {
        "id": "vNayuUn_SfKp"
      },
      "execution_count": null,
      "outputs": []
    },
    {
      "cell_type": "code",
      "source": [
        "class osobni_auto(Auto):\n",
        "    pass"
      ],
      "metadata": {
        "id": "T1r6I8xYJ26j"
      },
      "execution_count": null,
      "outputs": []
    },
    {
      "cell_type": "code",
      "source": [
        "moje_auto1 = Auto(\"Škoda\", \"Octavia\", 2020)\n",
        "moje_auto1 = osobni_auto(\"BMW\", \"M3\", 1999)\n",
        "\n",
        "moje_auto1.info()\n"
      ],
      "metadata": {
        "id": "5_48i-a-SpqU",
        "colab": {
          "base_uri": "https://localhost:8080/",
          "height": 36
        },
        "outputId": "df97ef60-2e0c-469a-a472-37126001c4d8"
      },
      "execution_count": null,
      "outputs": [
        {
          "output_type": "execute_result",
          "data": {
            "text/plain": [
              "'Značka: BMW \\nModel: M3\\nRok: (1999)'"
            ],
            "application/vnd.google.colaboratory.intrinsic+json": {
              "type": "string"
            }
          },
          "metadata": {},
          "execution_count": 24
        }
      ]
    },
    {
      "cell_type": "code",
      "source": [
        "print(moje_auto2.info())"
      ],
      "metadata": {
        "id": "z-QTjTxuSu0L"
      },
      "execution_count": null,
      "outputs": []
    },
    {
      "cell_type": "markdown",
      "source": [
        "- `__init__` je speciální metoda (konstruktor), která inicializuje objekt při jeho vytvoření.\n",
        "- Atributy `znacka`, `model` a `rok` jsou uloženy v objektu.\n",
        "- Metoda `info` vrací formátované informace o objektu."
      ],
      "metadata": {
        "id": "Dj7fRaE_SpMW"
      }
    },
    {
      "cell_type": "markdown",
      "source": [
        "## Zapouzdření (Encapsulation)\n",
        "\n",
        "Zapouzdření chrání data třídy před neoprávněným přístupem a umožňuje kontrolu nad jejich modifikací.\n"
      ],
      "metadata": {
        "id": "gFSv-yTTS606"
      }
    },
    {
      "cell_type": "markdown",
      "source": [
        "### Př. 38 Bankovní účet"
      ],
      "metadata": {
        "id": "OUUzjzySH9o_"
      }
    },
    {
      "cell_type": "code",
      "source": [
        "class BankovniUcet1:\n",
        "    def __init__(self, jmeno_majitele, prijmeni_majitele, rok_narozeni, stat, zamestnany, cislo_uctu, zustatek,heslo):\n",
        "        self.jmeno_majitele=jmeno_majitele\n",
        "        self.prijmeni_majitele=prijmeni_majitele\n",
        "        self.rok_narozeni=rok_narozeni\n",
        "        self.stat=stat\n",
        "        self.zamestnany=zamestnany\n",
        "        self.cislo_uctu = cislo_uctu\n",
        "        self.__zustatek = zustatek\n",
        "        self.__heslo=heslo\n",
        "\n",
        "    def zmena_hesla(self)\n",
        "      \"\"\" zeptám na aktuální heslo, pokud je správné, vyzvat k zadání nového heslo, které se uloží do atributu\"\"\"\n",
        "      heslo = input(\"Zadej stavajici heslo:  \")\n",
        "      if heslo == self.__heslo:\n",
        "        noveHeslo = input(\"Zadej nove heslo:  \")\n",
        "        if self.__heslo==noveHeslo:\n",
        "          return (\"Heslo musi se lisit od stavajiciho\")\n",
        "        noveHeslo2 = input(\"Opakuj nove heslo:  \")\n",
        "        if noveHeslo==noveHeslo2:\n",
        "          self.__heslo=noveHeslo\n",
        "          return \"Heslo bylo zmeneno\"\n",
        "      else:\n",
        "        return \"Heslo je špatné\"\n",
        "\n",
        "\n",
        "    def zustatek_na_uctu(self):\n",
        "      \"\"\"Po zadání správného hesla se zobrazí zůstatek na účtu\"\"\"\n",
        "      heslo=input(\"Zadej heslo k účtu: \")\n",
        "      if heslo==self.__heslo:\n",
        "        return f\"Aktuální zůstatek je {self.__zustatek} Kč\"\n",
        "      else:\n",
        "        return \"Heslo je špatné\"\n",
        "\n",
        "    def vklad_na_bankovni_ucet(self,vklad):\n",
        "      \"\"\" Zadej hodnotu větší než nula \"\"\"\n",
        "      if vklad <= 0:\n",
        "        return \"Nemůžeme vkládat zápornou hodnotu\"\n",
        "      else:\n",
        "        self.__zustatek=self.__zustatek + vklad\n",
        "        return self.__zustatek\n",
        "    def vyber_z_uctu(self,vyber):\n",
        "      \"\"\" Zadej hodnotu větší než nula \"\"\"\n",
        "      if vyber <= 0:\n",
        "        return \"Nemůžeme vybírat zápornou hodnotu\"\n",
        "      elif vyber > self.__zustatek:\n",
        "        return f\"Transakce zablokována - nedostatečné prostředky, aktuálně na účtu {self.__zustatek}\"\n",
        "      else:\n",
        "        self.__zustatek=self.__zustatek - vyber\n",
        "        return f\" Aktuální zůstatek je: {self.__zustatek}\"\n"
      ],
      "metadata": {
        "id": "m7PBhwXbq3yN"
      },
      "execution_count": null,
      "outputs": []
    },
    {
      "cell_type": "code",
      "source": [
        "id01=BankovniUcet1(\"Garegin\",\"Minasjan\",1993,\"Česko\",True, 123456789,500000,\"1234BAF\")"
      ],
      "metadata": {
        "id": "F8OdvxtJrdVS"
      },
      "execution_count": null,
      "outputs": []
    },
    {
      "cell_type": "code",
      "source": [
        "id01.zustatek_na_uctu()"
      ],
      "metadata": {
        "colab": {
          "base_uri": "https://localhost:8080/",
          "height": 53
        },
        "id": "bXginak6seTH",
        "outputId": "f6fb6212-a28f-406f-ce06-cd0e56b972fc"
      },
      "execution_count": null,
      "outputs": [
        {
          "name": "stdout",
          "output_type": "stream",
          "text": [
            "Zadej heslo k účtu: 1234BAF\n"
          ]
        },
        {
          "output_type": "execute_result",
          "data": {
            "text/plain": [
              "'Aktuální zůstatek je 500000 Kč'"
            ],
            "application/vnd.google.colaboratory.intrinsic+json": {
              "type": "string"
            }
          },
          "metadata": {},
          "execution_count": 90
        }
      ]
    },
    {
      "cell_type": "code",
      "source": [
        "id01.vyber_z_uctu(300000)"
      ],
      "metadata": {
        "colab": {
          "base_uri": "https://localhost:8080/",
          "height": 36
        },
        "id": "4wUdpUoNrw4F",
        "outputId": "4305d7d6-ce61-42c1-df18-24124e68814f"
      },
      "execution_count": null,
      "outputs": [
        {
          "output_type": "execute_result",
          "data": {
            "text/plain": [
              "' Aktuální zůstatek je: 200000'"
            ],
            "application/vnd.google.colaboratory.intrinsic+json": {
              "type": "string"
            }
          },
          "metadata": {},
          "execution_count": 83
        }
      ]
    },
    {
      "cell_type": "markdown",
      "source": [
        "### Př. 39 Zaměstnanec"
      ],
      "metadata": {
        "id": "zNGPZ0IfZwEs"
      }
    },
    {
      "cell_type": "code",
      "source": [
        "class Employee:\n",
        "\n",
        "  zvyseni_platu = 1.025\n",
        "\n",
        "  def __init__(self, jmeno, prijmeni, vek, plat):\n",
        "    self.jmeno = jmeno\n",
        "    self.prijmeni = prijmeni\n",
        "    self.vek = vek\n",
        "    self.__plat = plat\n",
        "\n",
        "  @classmethod\n",
        "  def novy_koeficient_platu(cls, novy_koeficient):\n",
        "    cls.zvyseni_platu = novy_koeficient\n",
        "    return cls.zvyseni_platu\n",
        "\n",
        "  def HR_info(self,heslo):\n",
        "    \"\"\" musím zadat správné heslo\"\"\"\n",
        "    if heslo==\"KGB123\":\n",
        "      return f\"{self.jmeno} {self.prijmeni} {self.vek} {self.__plat}\"\n",
        "    else:\n",
        "      return \"Heslo je špatné\"\n",
        "\n",
        "  def cele_jmeno(self):\n",
        "    return f\"{self.jmeno} {self.prijmeni}\"\n",
        "\n",
        "  def pridej_plat(self):\n",
        "    self.salary = round(self.__plat * self.zvyseni_platu,2)\n",
        "\n",
        "\n",
        "  @staticmethod\n",
        "  def extra_funkce1(*args, **kwargs):\n",
        "    return True\n",
        "\n",
        "  @staticmethod\n",
        "  def extra_funkce2(*args, **kwargs):\n",
        "    return True"
      ],
      "metadata": {
        "id": "j3g7CjwpZAjF"
      },
      "execution_count": null,
      "outputs": []
    },
    {
      "cell_type": "code",
      "source": [
        "id01=Employee(\"Garegin\", \"Minasjan\", 1993, 35000)"
      ],
      "metadata": {
        "id": "JTV6NCY4a_Fo"
      },
      "execution_count": null,
      "outputs": []
    },
    {
      "cell_type": "markdown",
      "source": [
        "## Dědičnost (Inheritance)\n",
        "\n",
        "Dědičnost umožňuje vytvářet nové třídy na základě existujících tříd."
      ],
      "metadata": {
        "id": "VskTAc8od6RL"
      }
    },
    {
      "cell_type": "markdown",
      "source": [
        "### Př. 40 Zvíře - dědičnost"
      ],
      "metadata": {
        "id": "Ko-a6oigSqXc"
      }
    },
    {
      "cell_type": "code",
      "source": [
        "import random\n",
        "class Zvire:\n",
        "    def __init__(self, jmeno):\n",
        "        self.jmeno = jmeno\n",
        "\n",
        "    def zvuk(self):\n",
        "        return \"123\"\n",
        "    def ockovani(self):\n",
        "        return \"dej se naockovat!\"\n",
        "\n",
        "class Pes(Zvire):\n",
        "    def zvuk(self):\n",
        "        return \"Štěkání\"\n",
        "\n",
        "class Kocka(Zvire):\n",
        "    def zvuk(self):\n",
        "        return \"Mňoukání\"\n",
        "    def pocet_zivotu(self):\n",
        "        return \"9\"\n",
        "\n",
        "class Krava(Zvire):\n",
        "    def zvuk(self):\n",
        "        return \"Bůůůů\"\n",
        "\n",
        "    def ockovani(self):\n",
        "        return \"nepotřebuje\"\n",
        "\n",
        "    def kolik_mas_mleka(self):\n",
        "\n",
        "        return f\"Kráva dává {random.randint(2, 30)} litrů mléka.\""
      ],
      "metadata": {
        "id": "H6sCferTdvCL"
      },
      "execution_count": null,
      "outputs": []
    },
    {
      "cell_type": "code",
      "source": [
        "krava_01=Krava(\"Milka\")\n",
        "print(krava_01.zvuk())\n",
        "print(krava_01.ockovani())\n",
        "print(krava_01.kolik_mas_mleka())"
      ],
      "metadata": {
        "colab": {
          "base_uri": "https://localhost:8080/"
        },
        "id": "vpw6gwcDD_Tq",
        "outputId": "8d3c7709-a6d4-4110-e9db-631979c5d5bb"
      },
      "execution_count": null,
      "outputs": [
        {
          "output_type": "stream",
          "name": "stdout",
          "text": [
            "Bůůůů\n",
            "nepotřebuje\n",
            "Kráva dává 29 litrů mléka.\n"
          ]
        }
      ]
    },
    {
      "cell_type": "code",
      "source": [
        "pes = Pes(\"Rex\")\n",
        "pes.ockovani()\n",
        "pes.pocet_zivotu()"
      ],
      "metadata": {
        "colab": {
          "base_uri": "https://localhost:8080/",
          "height": 176
        },
        "id": "2bL9uWQnCjOP",
        "outputId": "a2b4ec5b-66ce-468c-a96c-d1d7197dd886"
      },
      "execution_count": null,
      "outputs": [
        {
          "output_type": "error",
          "ename": "AttributeError",
          "evalue": "'Pes' object has no attribute 'pocet_zivotu'",
          "traceback": [
            "\u001b[0;31m---------------------------------------------------------------------------\u001b[0m",
            "\u001b[0;31mAttributeError\u001b[0m                            Traceback (most recent call last)",
            "\u001b[0;32m<ipython-input-124-e831049cd8cc>\u001b[0m in \u001b[0;36m<cell line: 3>\u001b[0;34m()\u001b[0m\n\u001b[1;32m      1\u001b[0m \u001b[0mpes\u001b[0m \u001b[0;34m=\u001b[0m \u001b[0mPes\u001b[0m\u001b[0;34m(\u001b[0m\u001b[0;34m\"Rex\"\u001b[0m\u001b[0;34m)\u001b[0m\u001b[0;34m\u001b[0m\u001b[0;34m\u001b[0m\u001b[0m\n\u001b[1;32m      2\u001b[0m \u001b[0mpes\u001b[0m\u001b[0;34m.\u001b[0m\u001b[0mockovani\u001b[0m\u001b[0;34m(\u001b[0m\u001b[0;34m)\u001b[0m\u001b[0;34m\u001b[0m\u001b[0;34m\u001b[0m\u001b[0m\n\u001b[0;32m----> 3\u001b[0;31m \u001b[0mpes\u001b[0m\u001b[0;34m.\u001b[0m\u001b[0mpocet_zivotu\u001b[0m\u001b[0;34m(\u001b[0m\u001b[0;34m)\u001b[0m\u001b[0;34m\u001b[0m\u001b[0;34m\u001b[0m\u001b[0m\n\u001b[0m",
            "\u001b[0;31mAttributeError\u001b[0m: 'Pes' object has no attribute 'pocet_zivotu'"
          ]
        }
      ]
    },
    {
      "cell_type": "code",
      "source": [
        "pes = Pes(\"Rex\")\n",
        "kocka = Kocka(\"Micka\")\n",
        "print(f\"{pes.jmeno}: {pes.zvuk()}\")\n",
        "print(f\"{kocka.jmeno}: {kocka.zvuk()}\")"
      ],
      "metadata": {
        "id": "gEC1N2gSeGlN",
        "colab": {
          "base_uri": "https://localhost:8080/"
        },
        "outputId": "db71795a-9020-40b3-c4e0-6527d55d0515"
      },
      "execution_count": null,
      "outputs": [
        {
          "output_type": "stream",
          "name": "stdout",
          "text": [
            "Rex: Štěkání\n",
            "Micka: Mňoukání\n"
          ]
        }
      ]
    },
    {
      "cell_type": "markdown",
      "source": [
        "- Třída `Zvire` je rodičovská třída.\n",
        "- Třídy `Pes`, `Kocka` a `Kráva` dědí vlastnosti a metody třídy `Zvire`."
      ],
      "metadata": {
        "id": "PKXpK4zveMIb"
      }
    },
    {
      "cell_type": "markdown",
      "source": [
        "## 5. Polymorfismus\n",
        "\n",
        "Polymorfismus umožňuje použít stejnou metodu pro různé typy objektů."
      ],
      "metadata": {
        "id": "GVMrs1NCu8jg"
      }
    },
    {
      "cell_type": "markdown",
      "source": [
        "### Př. 41 Zvuky zvířat"
      ],
      "metadata": {
        "id": "5fgBFUQoTIv-"
      }
    },
    {
      "cell_type": "code",
      "source": [
        "def zviratka_zvuky(zvirata):\n",
        "    for zvire in zvirata:\n",
        "        print(f\"{zvire.jmeno}: {zvire.zvuk()}\")\n",
        "\n",
        "zvirata = [Pes(\"Rex\"), Kocka(\"Micka\"),Krava(\"Milka\")]\n",
        "zviratka_zvuky(zvirata)"
      ],
      "metadata": {
        "id": "xdV6ycPkeYuc",
        "colab": {
          "base_uri": "https://localhost:8080/"
        },
        "outputId": "d23aa193-fbd3-43d1-8c7e-2b1da98fb81c"
      },
      "execution_count": null,
      "outputs": [
        {
          "output_type": "stream",
          "name": "stdout",
          "text": [
            "Rex: Štěkání\n",
            "Micka: Mňoukání\n",
            "Milka: Bůůůů\n"
          ]
        }
      ]
    },
    {
      "cell_type": "markdown",
      "source": [
        "- Stejná metoda `zvuk` funguje odlišně v závislosti na třídě objektu."
      ],
      "metadata": {
        "id": "4M4UqEe9vIKy"
      }
    },
    {
      "cell_type": "markdown",
      "source": [
        "## Abstrakce\n",
        "\n",
        "Abstrakce umožňuje definovat obecné chování bez konkrétní implementace. V Pythonu se k tomu používá modul `abc`."
      ],
      "metadata": {
        "id": "Zf9db9XuvKda"
      }
    },
    {
      "cell_type": "code",
      "source": [
        "from abc import ABC, abstractmethod\n",
        "\n",
        "class Zvire(ABC):\n",
        "\n",
        "    @abstractmethod\n",
        "    def zvuk(self):\n",
        "        pass\n",
        "\n",
        "class Pes(Zvire):\n",
        "    def zvuk(self):\n",
        "        return \"Štěkání\"\n",
        "\n",
        "# Pes = Zvire(), Zvire nemůže být voláno přímo."
      ],
      "metadata": {
        "id": "kJXTcmg6vGXJ"
      },
      "execution_count": null,
      "outputs": []
    },
    {
      "cell_type": "code",
      "source": [
        "Pes01=Pes(\"Rex\")"
      ],
      "metadata": {
        "id": "uEup4U3VbFCg"
      },
      "execution_count": null,
      "outputs": []
    },
    {
      "cell_type": "markdown",
      "source": [
        "- Třídy, které dědí z abstraktní třídy, musí implementovat všechny abstraktní metody.\n",
        "\n"
      ],
      "metadata": {
        "id": "p31S38advYTo"
      }
    },
    {
      "cell_type": "markdown",
      "source": [
        "### Př. 42 Evidence knih\n",
        "Evidence knih a na to navázání dědičné funkce \"Elektronická kniha\" za použití super()"
      ],
      "metadata": {
        "id": "qpNEzwrcvg8C"
      }
    },
    {
      "cell_type": "code",
      "source": [
        "class Kniha:\n",
        "    def __init__(self, nazev, autor):\n",
        "        self.nazev = nazev\n",
        "        self.autor = autor\n",
        "\n",
        "    def info(self):\n",
        "        return f\"{self.nazev} od {self.autor}\""
      ],
      "metadata": {
        "id": "tt6a6-1ovkJm"
      },
      "execution_count": null,
      "outputs": []
    },
    {
      "cell_type": "code",
      "source": [
        "kniha_01 = Kniha(\"1984\", \"George Orwell\")\n",
        "print(kniha_01.info())\n"
      ],
      "metadata": {
        "id": "cjhN3tTavoZa",
        "colab": {
          "base_uri": "https://localhost:8080/"
        },
        "outputId": "f7d18472-b704-4382-d3b4-0072b9656d3c"
      },
      "execution_count": null,
      "outputs": [
        {
          "output_type": "stream",
          "name": "stdout",
          "text": [
            "1984 od George Orwell\n"
          ]
        }
      ]
    },
    {
      "cell_type": "code",
      "source": [
        "class ElektronickaKniha(Kniha):\n",
        "    def __init__(self, nazev, autor, format):\n",
        "        super().__init__(nazev, autor) # příkaz super()\n",
        "        self.format = format\n",
        "\n",
        "    def info(self):\n",
        "        return f\"{super().info()} ve formátu {self.format}\""
      ],
      "metadata": {
        "id": "uUCiXmWNvrxs"
      },
      "execution_count": null,
      "outputs": []
    },
    {
      "cell_type": "code",
      "source": [
        "ebook = ElektronickaKniha(\"1984\", \"George Orwell\", \"PDF\")\n",
        "print(ebook.info())"
      ],
      "metadata": {
        "id": "BsmXxVxd1Gb_",
        "colab": {
          "base_uri": "https://localhost:8080/"
        },
        "outputId": "4560fcd5-f564-450f-eee1-29c6e6609aba"
      },
      "execution_count": null,
      "outputs": [
        {
          "output_type": "stream",
          "name": "stdout",
          "text": [
            "1984 od George Orwell ve formátu PDF\n"
          ]
        }
      ]
    },
    {
      "cell_type": "markdown",
      "source": [
        "\n",
        "### Př. 43 DÚ\n",
        "\n",
        "Vytvořte třídu `DataScience` s atributy `jmeno`, `pozice`,\n",
        "\n",
        "`uživatelské_jméno` a `heslo` - soukromé atributy\n",
        "\n",
        "Metodu `info`, která vrátí informace o studentovi DataScience.\n",
        "\n",
        "\n",
        "---\n",
        "Metodu `účast_studenta`, která pomocí funkce random vrátí docházku studenta - účast je 56 %\n",
        "\n",
        "dědičná třída učitel přidat seznam_studentů [Marie, Anna, Petr]\n",
        "+plat"
      ],
      "metadata": {
        "id": "HAUZaj0b1MII"
      }
    },
    {
      "cell_type": "code",
      "source": [
        "import random\n",
        "class DataScience:\n",
        "    def __init__(self, jmeno, pozice,uzivatel_jmeno,heslo):\n",
        "        self.jmeno=jmeno\n",
        "        self.pozice=pozice\n",
        "        self.__uzivatel_jmeno=uzivatel_jmeno\n",
        "        self.__heslo=heslo\n",
        "\n",
        "    def info(self):\n",
        "        return f\"{self.jmeno} pracuje jako {self.pozice}.\"\n",
        "\n",
        "    def ucast_studenta(self):\n",
        "        return f\"Vase ucast je {random.randint(0,100)} %.\"\n",
        "\n",
        "S1 = DataScience(\"Josef\", \"zak\", \"jose\", 123)\n",
        "print(S1.ucast_studenta())"
      ],
      "metadata": {
        "id": "iEk4mCvZ1LLg",
        "outputId": "c171b5b8-dcf9-4167-fce8-7652f51e757a",
        "colab": {
          "base_uri": "https://localhost:8080/"
        }
      },
      "execution_count": null,
      "outputs": [
        {
          "output_type": "stream",
          "name": "stdout",
          "text": [
            "Vase ucast je 90 %.\n"
          ]
        }
      ]
    },
    {
      "cell_type": "code",
      "source": [
        "class ucitel(DataScience):\n",
        "    def __init__(self, jmeno, pozice, uzivatelske_jmeno,heslo,students=[]):\n",
        "        super().__init__(jmeno, pozice, uzivatelske_jmeno,heslo)\n",
        "        self.students=students\n",
        "    def info(self):\n",
        "        return f\"{self.jmeno} pracuje jako {self.pozice} a má {self.students} jako studenti\""
      ],
      "metadata": {
        "id": "O6uLYDJaYwwz"
      },
      "execution_count": null,
      "outputs": []
    },
    {
      "cell_type": "code",
      "source": [
        "S4 = ucitel(\"Marie Habáňová\",\"ďas\",\"marie\",\"1234MH\",[\"Garik\"])"
      ],
      "metadata": {
        "id": "1TiYmbR8Y99c"
      },
      "execution_count": null,
      "outputs": []
    },
    {
      "cell_type": "code",
      "source": [
        "S4.info()"
      ],
      "metadata": {
        "id": "LFB0TQMNZbBI",
        "outputId": "95a591c2-91dd-4da0-8aad-c0e989149804",
        "colab": {
          "base_uri": "https://localhost:8080/",
          "height": 36
        }
      },
      "execution_count": null,
      "outputs": [
        {
          "output_type": "execute_result",
          "data": {
            "text/plain": [
              "\"Marie Habáňová pracuje jako ďas a má ['Garik'] jako studenti\""
            ],
            "application/vnd.google.colaboratory.intrinsic+json": {
              "type": "string"
            }
          },
          "metadata": {},
          "execution_count": 43
        }
      ]
    },
    {
      "cell_type": "code",
      "source": [
        "S1 = DataScience(\"Marie Habáňová\",\"ďas\",\"marie\",\"1234MH\")\n",
        "S2 = DataScience(\"Anna Dvořáková\",\"student\",\"anna\",\"1234AD\")\n",
        "S3 = DataScience(\"Petr Pavel\",\"student\",\"petr\",\"1234PP\")"
      ],
      "metadata": {
        "id": "v90Dm7s9T6QP"
      },
      "execution_count": null,
      "outputs": []
    },
    {
      "cell_type": "code",
      "source": [
        "S3.info()"
      ],
      "metadata": {
        "id": "mLyc8IuoUBp-",
        "outputId": "0fb7935b-0303-4ba4-a9ee-2d52fa5421b7",
        "colab": {
          "base_uri": "https://localhost:8080/",
          "height": 36
        }
      },
      "execution_count": null,
      "outputs": [
        {
          "output_type": "execute_result",
          "data": {
            "text/plain": [
              "'Petr Pavel pracuje jako student.'"
            ],
            "application/vnd.google.colaboratory.intrinsic+json": {
              "type": "string"
            }
          },
          "metadata": {},
          "execution_count": 33
        }
      ]
    },
    {
      "cell_type": "code",
      "source": [
        "import random\n",
        "\n"
      ],
      "metadata": {
        "id": "ZdHEArhAUSW0"
      },
      "execution_count": null,
      "outputs": []
    },
    {
      "cell_type": "markdown",
      "source": [],
      "metadata": {
        "id": "OA56s-daUO24"
      }
    },
    {
      "cell_type": "markdown",
      "source": [
        "### Př. 44 DÚ\n",
        "\n",
        "Vytvořte třídu BankovniUcet, a dědičné třídy BeznyUcet, SporiciUcet, citlivé údaje jsou cislo_uctu, zustatek, majitel\n",
        "zohledněte úrokovou sazbu, nemožnost výběru do záporu.\n"
      ],
      "metadata": {
        "id": "flaFI0Cr1T8Q"
      }
    },
    {
      "cell_type": "code",
      "source": [
        "\n"
      ],
      "metadata": {
        "id": "_Ol1CI9x1Tju"
      },
      "execution_count": null,
      "outputs": []
    },
    {
      "cell_type": "markdown",
      "source": [
        "### Př. 45 DÚ\n",
        "Vytvořte program, který vytvoří seznam zaměstnanců a manažerů a vypíše jejich detaily."
      ],
      "metadata": {
        "id": "b0PgU-jK1b1K"
      }
    },
    {
      "cell_type": "code",
      "source": [
        "class Zamestnanec_01:\n",
        "    def __init__(self, jmeno, pozice,plat):\n",
        "        self.jmeno = jmeno\n",
        "        self.pozice = pozice\n",
        "        self.__plat=plat\n",
        "\n",
        "    def info(self):\n",
        "        return f\"{self.jmeno} pracuje jako {self.pozice}\"\n",
        "\n",
        "    def pozdrav(self):\n",
        "        return f\"Ahoj já jsem {self.jmeno}\"\n",
        "class manager_01(Zamestnanec_01):\n",
        "    def __init__(self, jmeno, pozice,plat,tym):\n",
        "        super().__init__(jmeno, pozice,plat)\n",
        "        self.tym=tym\n",
        "    def info(self):\n",
        "        return f\"{self.jmeno} pracuje jako {self.pozice} a řídí tým {', '.join(self.tym)}\"\n",
        "    def pozdrav(self):\n",
        "        zakladni_pozdrav=super().pozdrav()\n",
        "        return f\"{zakladni_pozdrav}, jsem manažer a řídím tým {', '.join(self.tym)}\""
      ],
      "metadata": {
        "id": "A4mUEJty1goq"
      },
      "execution_count": null,
      "outputs": []
    },
    {
      "cell_type": "code",
      "source": [
        "id01=Zamestnanec_01(\"Garegin Minasjan\",\"operátor\",1000000)\n",
        "print(id01.info())\n",
        "print(id01.pozdrav())"
      ],
      "metadata": {
        "colab": {
          "base_uri": "https://localhost:8080/"
        },
        "id": "MjvH0EYtcXyZ",
        "outputId": "a39b15d4-0f11-4681-efc1-4bb6c8b54d16"
      },
      "execution_count": null,
      "outputs": [
        {
          "output_type": "stream",
          "name": "stdout",
          "text": [
            "Garegin Minasjan pracuje jako operátor\n",
            "Ahoj já jsem Garegin Minasjan\n"
          ]
        }
      ]
    },
    {
      "cell_type": "code",
      "source": [
        "man_01=manager_01(\"Anton\",\"CEO\",600000,[\"Garik\", \"Patrik\", \"Hanca\"])\n",
        "print(man_01.info())\n",
        "print(man_01.pozdrav())"
      ],
      "metadata": {
        "colab": {
          "base_uri": "https://localhost:8080/"
        },
        "id": "eD0YOaa3dFLg",
        "outputId": "2bed8484-d622-4946-fa50-5ccce584a4cf"
      },
      "execution_count": null,
      "outputs": [
        {
          "output_type": "stream",
          "name": "stdout",
          "text": [
            "Anton pracuje jako CEO a řídí tým Garik, Patrik, Hanca\n",
            "Ahoj já jsem Anton, jsem manažer a řídím tým Garik, Patrik, Hanca\n"
          ]
        }
      ]
    },
    {
      "cell_type": "markdown",
      "source": [
        "### Př. 46 DÚ\n",
        "více dědičná funkce zivocich->ptak->ryba"
      ],
      "metadata": {
        "id": "mHZBCnUXg40-"
      }
    },
    {
      "cell_type": "code",
      "source": [
        "class Zivocich:\n",
        "    def __init__(self, rodove_jmeno, druhove_jmeno=\"XXX\"):\n",
        "        self.rodove_jmeno = rodove_jmeno\n",
        "    def pohyb(self):\n",
        "        return \"Pohybuje se.\"\n",
        "\n",
        "class Ptak(Zivocich):\n",
        "    def pohyb(self):\n",
        "        return \"Létá.\"\n",
        "\n",
        "class Ryba(Zivocich):\n",
        "    def pohyb(self):\n",
        "        return \"Plave\""
      ],
      "metadata": {
        "id": "3ypiuqiDiVNu"
      },
      "execution_count": null,
      "outputs": []
    },
    {
      "cell_type": "code",
      "source": [
        "ptak = Ptak(\"Orel\",\"Skalní\")\n",
        "ryba = Ryba(\"Kapr\",\"chutný\")\n",
        "zivocich = Zivocich(\"mlok\",\"žlutooký\")\n",
        "\n",
        "print(ptak.pohyb())\n",
        "print(ryba.pohyb())\n",
        "print(zivocich.pohyb())"
      ],
      "metadata": {
        "colab": {
          "base_uri": "https://localhost:8080/"
        },
        "id": "bqssjGSziUHR",
        "outputId": "0942d1b6-ae50-4900-87e8-b203360d5ff4"
      },
      "execution_count": null,
      "outputs": [
        {
          "output_type": "stream",
          "name": "stdout",
          "text": [
            "Létá.\n",
            "Plave\n",
            "Pohybuje se.\n"
          ]
        }
      ]
    }
  ]
}