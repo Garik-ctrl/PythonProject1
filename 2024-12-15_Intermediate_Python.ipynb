{
  "cells": [
    {
      "cell_type": "markdown",
      "metadata": {
        "id": "view-in-github",
        "colab_type": "text"
      },
      "source": [
        "<a href=\"https://colab.research.google.com/github/Garik-ctrl/PythonProject1/blob/feature/2024-12-15_Intermediate_Python.ipynb\" target=\"_parent\"><img src=\"https://colab.research.google.com/assets/colab-badge.svg\" alt=\"Open In Colab\"/></a>"
      ]
    },
    {
      "cell_type": "markdown",
      "id": "6dJqdR9YtWDy",
      "metadata": {
        "id": "6dJqdR9YtWDy"
      },
      "source": [
        "<img height=\"180px\" src=\"https://drive.google.com/uc?export=view&id=141XOz6N4nk8Ru1sAl7vOsAToCLrSFCAX\" alt=\"SDA logo\" align=\"left\" hspace=\"30px\" vspace=\"50px\"/>\n",
        "\n",
        "# Vítejte ve vašem dalším notebooku se SDA!\n",
        "\n",
        "Během výuky budeme převážně používat [Google Colaboratory](https://colab.research.google.com/?hl=en), což je bezplatné prostředí Jupyter notebooku, které nevyžaduje žádnou instalaci a běží zcela v cloudu.\n",
        "\n",
        "Nicméně, pro větší projekty, zejména pokud se jedná o hluboké učení (deep learning) a/nebo čtení velkých dat (big data), může být lepší volbou nastavení Jupyter Notebooku nebo Jupyter Labu na vašem počítači. Je také dobré si uvědomit, že existuje velké množství užitečných rozšíření (viz [nbextensions](https://jupyter-contrib-nbextensions.readthedocs.io/en/latest/index.html) a [jupyter-labextension](https://jupyterlab.readthedocs.io/en/stable/user/extensions.html)), která nejsou dostupná pro uživatele Colabu."
      ]
    },
    {
      "cell_type": "markdown",
      "source": [
        "fnsalkfnakfjanf"
      ],
      "metadata": {
        "id": "8jfokYEowise"
      },
      "id": "8jfokYEowise"
    },
    {
      "cell_type": "code",
      "source": [
        "def pozdrav():\n",
        "  print(\"Ahoj\")"
      ],
      "metadata": {
        "id": "mw9MnJHywoS4"
      },
      "id": "mw9MnJHywoS4",
      "execution_count": null,
      "outputs": []
    },
    {
      "cell_type": "code",
      "source": [
        "pozdrav()"
      ],
      "metadata": {
        "colab": {
          "base_uri": "https://localhost:8080/"
        },
        "id": "9sHsC2xQw8NO",
        "outputId": "2b2f1da9-ec25-45c2-8f01-c47cd01dc392"
      },
      "id": "9sHsC2xQw8NO",
      "execution_count": null,
      "outputs": [
        {
          "output_type": "stream",
          "name": "stdout",
          "text": [
            "Ahoj\n"
          ]
        }
      ]
    },
    {
      "cell_type": "markdown",
      "id": "n3sn2Nznub2L",
      "metadata": {
        "id": "n3sn2Nznub2L"
      },
      "source": [
        "<img src=\"https://drive.google.com/uc?export=view&id=1dsAUFOwIXMI154D75M5VCXLdnZYoK7gz\" alt=\"Kde jsme?\" title=\"Kde jsme? Středně pokročilý Python\" align=\"left\" width=\"1000px\" hspace=\"10px\" vspace=\"10px\"/>"
      ]
    },
    {
      "cell_type": "markdown",
      "id": "b6IzX2TZuwic",
      "metadata": {
        "id": "b6IzX2TZuwic"
      },
      "source": [
        "<img src=\"https://drive.google.com/uc?export=view&id=1UO2urRciECzoKE_vHy4RMGfFbkOWOGlW\" alt=\"SDA logo\" align=\"left\" width=\"100px\" hspace=\"10px\" vspace=\"10px\"/>\n",
        "\n",
        "# Pokročilý Python\n",
        "Začněte tím, že si prostudujete prezentaci [zde](https://docs.google.com/presentation/d/1p8PZdhL2BWQmuEmltzzXw-4Yp5hPFv22/edit#slide=id.p1).\n",
        "\n",
        "<br>\n",
        "\n",
        "Po absolvování kurzu **<font color='#ed7d31'>Pokročilý Python</font>** se ponoříte do Pythonu a seznámíte se s následujícím:\n",
        "* pokročilé funkce\n",
        "* generátorová notace - comprehensions (list/dict/set)\n",
        "* iterátory a generátory\n",
        "* objektově orientované programování (OOP)\n",
        "* testy řízený vývoj (TDD)\n",
        "* dokumentace\n",
        "* Procvičování 1❗\n",
        "* Procvičování 2❗"
      ]
    },
    {
      "cell_type": "markdown",
      "id": "45aojuqkv4BE",
      "metadata": {
        "id": "45aojuqkv4BE"
      },
      "source": [
        "<img src=\"https://drive.google.com/uc?export=view&id=141XOz6N4nk8Ru1sAl7vOsAToCLrSFCAX\" alt=\"SDA logo\" width=\"150\" align='right'/>\n",
        "\n",
        "## Pokročilé funkce\n",
        "\n",
        "**<font color='#306998'>FUNKČNÍ </font><font color='#ffd33b'>PROGRAMOVÁNÍ</font>**\n",
        "\n",
        "Již jste se seznámili s [základy funkčního programování](https://colab.research.google.com/drive/1ouf_oxTGQc-PJDD6PjyTleB9YKM52hz5#scrollTo=7GRPmY9kkjw9). Předpokládáme, že víte:\n",
        "* co je funkce\n",
        "* proč potřebujeme funkce\n",
        "* jak deklarovat funkci, včetně:  \n",
        "    * syntaxe funkce  \n",
        "    * konvence pojmenovávání  \n",
        "    * parametr(y)   \n",
        "        * žádný parametr\n",
        "        * jeden parametr\n",
        "        * více parametrů    \n",
        "        * výchozí argument(y)  \n",
        "    * tělo funkce  \n",
        "    * klauzule `return`\n",
        "* jak spustit funkci"
      ]
    },
    {
      "cell_type": "markdown",
      "id": "4UyWQmr7yQii",
      "metadata": {
        "id": "4UyWQmr7yQii"
      },
      "source": [
        "**<font color='#ed7d31'>Jednoduchý úkol pro začátek</font>**\n",
        "\n",
        "Napište funkci, která vezme jako vstupní parametr dvě reálná čísla a vrátí celkový počet prvočísel patřících do uzavřeného intervalu definovaného vstupními čísly. Pořadí argumentů by nemělo mít vliv, tj. jak `a, b = 5, 10`, tak `a, b = 10, 5` by mělo vrátit 2."
      ]
    },
    {
      "cell_type": "code",
      "execution_count": null,
      "id": "P8I-J9BryWoV",
      "metadata": {
        "id": "P8I-J9BryWoV"
      },
      "outputs": [],
      "source": []
    },
    {
      "cell_type": "markdown",
      "id": "92MxJanHxVOX",
      "metadata": {
        "id": "92MxJanHxVOX"
      },
      "source": [
        "### Vnořené funkce\n",
        "\n",
        "**<font color='#306998'>VNITŘNÍ </font><font color='#ffd33b'>FUNKCE</font>** nebo také **<font color='#306998'>VNOŘENÉ </font><font color='#ffd33b'>FUNKCE</font>**\n",
        "jsou funkce, které definujete v těle jiné funkce. Tyto funkce mají přístup ke všem proměnným a jménům definovaným ve vnější funkci."
      ]
    },
    {
      "cell_type": "code",
      "execution_count": null,
      "id": "IA4z7Jn7tP96",
      "metadata": {
        "colab": {
          "base_uri": "https://localhost:8080/"
        },
        "id": "IA4z7Jn7tP96",
        "outputId": "1a033146-5e2c-4619-ee01-86b99fd5f631"
      },
      "outputs": [
        {
          "output_type": "stream",
          "name": "stdout",
          "text": [
            "Hello, World!\n"
          ]
        }
      ],
      "source": [
        "def outer_func():\n",
        "    def inner_func():\n",
        "         print(\"Hello, World!\")\n",
        "    inner_func()\n",
        "\n",
        "outer_func()"
      ]
    },
    {
      "cell_type": "markdown",
      "id": "xbA-vel7DZRd",
      "metadata": {
        "id": "xbA-vel7DZRd"
      },
      "source": [
        "Pro použití vnitřní funkce ji stále musíte zavolat!"
      ]
    },
    {
      "cell_type": "code",
      "execution_count": null,
      "id": "ytU8uF0oDgQx",
      "metadata": {
        "id": "ytU8uF0oDgQx"
      },
      "outputs": [],
      "source": [
        "def outer_func():\n",
        "    def inner_func():\n",
        "         print(\"Hello, World!\")\n",
        "    # inner_func()\n",
        "\n",
        "outer_func()"
      ]
    },
    {
      "cell_type": "markdown",
      "id": "OgQEVisADkGZ",
      "metadata": {
        "id": "OgQEVisADkGZ"
      },
      "source": [
        "Type Markdown and LaTeX:  𝛼2"
      ]
    },
    {
      "cell_type": "code",
      "execution_count": null,
      "id": "6S3EKbqhDjh5",
      "metadata": {
        "id": "6S3EKbqhDjh5"
      },
      "outputs": [],
      "source": [
        "def say_hello_to_user(name, surname):\n",
        "    _name = \" \".join([name, surname]).title() #propojení pomocí funkce .join\n",
        "    print(_name)\n",
        "    def greet_user():\n",
        "        print(f\"Hello {_name}, nice to meet you!\")\n",
        "\n",
        "    greet_user()\n",
        "\n",
        "    # outer function body"
      ]
    },
    {
      "cell_type": "code",
      "execution_count": null,
      "id": "RXVeAwy3EQom",
      "metadata": {
        "colab": {
          "base_uri": "https://localhost:8080/"
        },
        "id": "RXVeAwy3EQom",
        "outputId": "ff16791f-ce53-4d6d-a833-949372bd0924"
      },
      "outputs": [
        {
          "output_type": "stream",
          "name": "stdout",
          "text": [
            "Harry Potter\n",
            "Hello Harry Potter, nice to meet you!\n"
          ]
        }
      ],
      "source": [
        "say_hello_to_user('harry', 'pOtter')"
      ]
    },
    {
      "cell_type": "code",
      "execution_count": null,
      "id": "Z2Dj5A_lE-CT",
      "metadata": {
        "colab": {
          "base_uri": "https://localhost:8080/",
          "height": 141
        },
        "id": "Z2Dj5A_lE-CT",
        "outputId": "3f7b6e70-5f4f-4699-be7f-2a3578aeda4e"
      },
      "outputs": [
        {
          "output_type": "error",
          "ename": "NameError",
          "evalue": "name 'greet_user' is not defined",
          "traceback": [
            "\u001b[0;31m---------------------------------------------------------------------------\u001b[0m",
            "\u001b[0;31mNameError\u001b[0m                                 Traceback (most recent call last)",
            "\u001b[0;32m<ipython-input-17-dbfe9269c9e1>\u001b[0m in \u001b[0;36m<cell line: 1>\u001b[0;34m()\u001b[0m\n\u001b[0;32m----> 1\u001b[0;31m \u001b[0mgreet_user\u001b[0m\u001b[0;34m(\u001b[0m\u001b[0;34m)\u001b[0m\u001b[0;34m\u001b[0m\u001b[0;34m\u001b[0m\u001b[0m\n\u001b[0m",
            "\u001b[0;31mNameError\u001b[0m: name 'greet_user' is not defined"
          ]
        }
      ],
      "source": [
        "greet_user()"
      ]
    },
    {
      "cell_type": "code",
      "execution_count": null,
      "id": "GCBotYYdE-1v",
      "metadata": {
        "id": "GCBotYYdE-1v"
      },
      "outputs": [],
      "source": [
        "def greet_user_ext():\n",
        "    print(f\"Hello {_name}, nice to meet you!\")"
      ]
    },
    {
      "cell_type": "code",
      "execution_count": null,
      "id": "BYrZddo5FEo2",
      "metadata": {
        "colab": {
          "base_uri": "https://localhost:8080/",
          "height": 211
        },
        "id": "BYrZddo5FEo2",
        "outputId": "ddbfee27-01eb-44b4-b385-6d4aa6a121ac"
      },
      "outputs": [
        {
          "output_type": "error",
          "ename": "NameError",
          "evalue": "name '_name' is not defined",
          "traceback": [
            "\u001b[0;31m---------------------------------------------------------------------------\u001b[0m",
            "\u001b[0;31mNameError\u001b[0m                                 Traceback (most recent call last)",
            "\u001b[0;32m<ipython-input-20-f8848bf07605>\u001b[0m in \u001b[0;36m<cell line: 1>\u001b[0;34m()\u001b[0m\n\u001b[0;32m----> 1\u001b[0;31m \u001b[0mgreet_user_ext\u001b[0m\u001b[0;34m(\u001b[0m\u001b[0;34m)\u001b[0m\u001b[0;34m\u001b[0m\u001b[0;34m\u001b[0m\u001b[0m\n\u001b[0m",
            "\u001b[0;32m<ipython-input-19-b93bd84e9b66>\u001b[0m in \u001b[0;36mgreet_user_ext\u001b[0;34m()\u001b[0m\n\u001b[1;32m      1\u001b[0m \u001b[0;32mdef\u001b[0m \u001b[0mgreet_user_ext\u001b[0m\u001b[0;34m(\u001b[0m\u001b[0;34m)\u001b[0m\u001b[0;34m:\u001b[0m\u001b[0;34m\u001b[0m\u001b[0;34m\u001b[0m\u001b[0m\n\u001b[0;32m----> 2\u001b[0;31m     \u001b[0mprint\u001b[0m\u001b[0;34m(\u001b[0m\u001b[0;34mf\"Hello {_name}, nice to meet you!\"\u001b[0m\u001b[0;34m)\u001b[0m\u001b[0;34m\u001b[0m\u001b[0;34m\u001b[0m\u001b[0m\n\u001b[0m",
            "\u001b[0;31mNameError\u001b[0m: name '_name' is not defined"
          ]
        }
      ],
      "source": [
        "greet_user_ext()"
      ]
    },
    {
      "cell_type": "markdown",
      "id": "qFDpCONFxZHC",
      "metadata": {
        "id": "qFDpCONFxZHC"
      },
      "source": [
        "### Proměnný počet argumentů (*args/**kwargs)\n",
        "\n",
        "Někdy, když píšeme funkci, chceme umožnit, aby byla volána s libovolným počtem pojmenovaných a pozičních argumentů.\n",
        "\n",
        "```python\n",
        "# sečti dvě čísla\n",
        "def my_sum(a, b):\n",
        "    return a + b\n",
        "\n",
        "# sečti tři čísla\n",
        "def my_sum(a, b, c):\n",
        "    return a + b + c\n",
        "\n",
        "# sečti čtyři čísla\n",
        "def my_sum(a, b, c, d):\n",
        "    return a + b + c + d\n",
        "```\n",
        "\n",
        "A co uživatel, který chce sečíst 10 nebo více čísel? 😵V takovém případě místo vypisování všech pozičních parametrů můžeme použít `*args`. Společné jméno pro pojmenované parametry je `**kwargs`. Jména argumentů (args, kwargs) můžete změnit na cokoli, ale z důvodů čitelnosti se to nedoporučuje. Je třeba si pamatovat, že args a kwargs jsou pouze tradičně používané názvy těchto parametrů (stejně jako `self` nebo `cls` u tříd) ale až hvězdičky před názvem parametru určují, že plní svou roli, nikoli samotné jméno. Uživatelem zadané argumenty vstoupí do tuplu `args` a budou k dispozici ve funkci samotné."
      ]
    },
    {
      "cell_type": "code",
      "execution_count": null,
      "id": "5czm3x1YxdrH",
      "metadata": {
        "id": "5czm3x1YxdrH"
      },
      "outputs": [],
      "source": [
        "def my_sum(*args):\n",
        "    result = 0\n",
        "    for arg in args:\n",
        "        result += arg\n",
        "    return result"
      ]
    },
    {
      "cell_type": "code",
      "execution_count": null,
      "id": "-No7Xb_EzUwj",
      "metadata": {
        "colab": {
          "base_uri": "https://localhost:8080/"
        },
        "id": "-No7Xb_EzUwj",
        "outputId": "7a1b8160-c229-44c9-b475-20a6971a8779"
      },
      "outputs": [
        {
          "output_type": "execute_result",
          "data": {
            "text/plain": [
              "1"
            ]
          },
          "metadata": {},
          "execution_count": 26
        }
      ],
      "source": [
        "my_sum(1)"
      ]
    },
    {
      "cell_type": "markdown",
      "id": "h_jSHJ4X-l2h",
      "metadata": {
        "id": "h_jSHJ4X-l2h"
      },
      "source": [
        "Stejně tak místo vytváření funkcí s velkým počtem pojmenovaných argumentů můžete přidat parametr `**kwargs`. Argumenty pojmenované uživatelem se uloží do **slovníku s názvem kwargs** a budou dostupné ve funkci."
      ]
    },
    {
      "cell_type": "code",
      "execution_count": null,
      "id": "yvUaKI7vzXY1",
      "metadata": {
        "id": "yvUaKI7vzXY1"
      },
      "outputs": [],
      "source": [
        "def my_sum(**slovnik):\n",
        "    print(slovnik, type(slovnik))\n",
        "    result = 0\n",
        "    result2=[slovnik[key] for key in slovnik]\n",
        "    print(result2, sum(result2))\n",
        "    for key in slovnik:\n",
        "        result += slovnik[key]\n",
        "    return result"
      ]
    },
    {
      "cell_type": "code",
      "execution_count": null,
      "id": "77SH8VQYzdfr",
      "metadata": {
        "colab": {
          "base_uri": "https://localhost:8080/"
        },
        "id": "77SH8VQYzdfr",
        "outputId": "a9154afe-e938-4f5e-be76-4c92c156ee2b"
      },
      "outputs": [
        {
          "output_type": "stream",
          "name": "stdout",
          "text": [
            "{'eggs': 3, 'spam': 4, 'cheese': 7} <class 'dict'>\n",
            "[3, 4, 7] 14\n"
          ]
        },
        {
          "output_type": "execute_result",
          "data": {
            "text/plain": [
              "14"
            ]
          },
          "metadata": {},
          "execution_count": 32
        }
      ],
      "source": [
        "my_sum(\n",
        "    eggs=3,\n",
        "    spam=4,\n",
        "    cheese=7\n",
        ")"
      ]
    },
    {
      "cell_type": "markdown",
      "id": "Hf4ZZ6eV-yIi",
      "metadata": {
        "id": "Hf4ZZ6eV-yIi"
      },
      "source": [
        "Libovolný počet pozičních `*args` a pojmenovaných `**kwargs` argumentů může být kombinován do jedné funkce:"
      ]
    },
    {
      "cell_type": "code",
      "execution_count": null,
      "id": "AljWzvcIzmuE",
      "metadata": {
        "id": "AljWzvcIzmuE"
      },
      "outputs": [],
      "source": [
        "def my_sum_all(*args, **kwargs):\n",
        "    result = 0\n",
        "    for arg in args:\n",
        "        result += arg\n",
        "    for key in kwargs:\n",
        "        result += kwargs[key]\n",
        "    return result"
      ]
    },
    {
      "cell_type": "code",
      "execution_count": null,
      "id": "rU5UXlofzu-7",
      "metadata": {
        "colab": {
          "base_uri": "https://localhost:8080/"
        },
        "id": "rU5UXlofzu-7",
        "outputId": "b2039e28-0f3c-4d7d-8ffb-51a3b173b5c7"
      },
      "outputs": [
        {
          "output_type": "execute_result",
          "data": {
            "text/plain": [
              "24"
            ]
          },
          "metadata": {},
          "execution_count": 38
        }
      ],
      "source": [
        "my_sum_all(1, 2, 3, 4, eggs=3, spam=4, cheese=7)"
      ]
    },
    {
      "cell_type": "markdown",
      "id": "YK1G29nXxhRj",
      "metadata": {
        "id": "YK1G29nXxhRj"
      },
      "source": [
        "### Lambda výrazy / funkce\n",
        "\n",
        "**<font color='#306998'>ANONYMNÍ </font><font color='#ffd33b'>FUNKCE</font>**\n",
        "\n",
        "Lambda výraz je **anonymní funkce**, protože typicky nemá jméno a je definována \"za letu\" (těsně před samotným použitím). Nepoužívá klíčové slovo `def`.\n",
        "\n",
        "Pro vytvoření používáme klíčové slovo `lambda`. Následuje seznam argumentů oddělený čárkou, dále dvojtečka a nakonec jediný výraz, který vrací hodnotu funkce."
      ]
    },
    {
      "cell_type": "code",
      "source": [
        "dir(\"HA Ha HA\")"
      ],
      "metadata": {
        "colab": {
          "base_uri": "https://localhost:8080/"
        },
        "collapsed": true,
        "id": "wbqAQ2Jd3jlT",
        "outputId": "661c8247-0d20-4aa5-f39d-dcefc84e2408"
      },
      "id": "wbqAQ2Jd3jlT",
      "execution_count": null,
      "outputs": [
        {
          "output_type": "execute_result",
          "data": {
            "text/plain": [
              "['__add__',\n",
              " '__class__',\n",
              " '__contains__',\n",
              " '__delattr__',\n",
              " '__dir__',\n",
              " '__doc__',\n",
              " '__eq__',\n",
              " '__format__',\n",
              " '__ge__',\n",
              " '__getattribute__',\n",
              " '__getitem__',\n",
              " '__getnewargs__',\n",
              " '__gt__',\n",
              " '__hash__',\n",
              " '__init__',\n",
              " '__init_subclass__',\n",
              " '__iter__',\n",
              " '__le__',\n",
              " '__len__',\n",
              " '__lt__',\n",
              " '__mod__',\n",
              " '__mul__',\n",
              " '__ne__',\n",
              " '__new__',\n",
              " '__reduce__',\n",
              " '__reduce_ex__',\n",
              " '__repr__',\n",
              " '__rmod__',\n",
              " '__rmul__',\n",
              " '__setattr__',\n",
              " '__sizeof__',\n",
              " '__str__',\n",
              " '__subclasshook__',\n",
              " 'capitalize',\n",
              " 'casefold',\n",
              " 'center',\n",
              " 'count',\n",
              " 'encode',\n",
              " 'endswith',\n",
              " 'expandtabs',\n",
              " 'find',\n",
              " 'format',\n",
              " 'format_map',\n",
              " 'index',\n",
              " 'isalnum',\n",
              " 'isalpha',\n",
              " 'isascii',\n",
              " 'isdecimal',\n",
              " 'isdigit',\n",
              " 'isidentifier',\n",
              " 'islower',\n",
              " 'isnumeric',\n",
              " 'isprintable',\n",
              " 'isspace',\n",
              " 'istitle',\n",
              " 'isupper',\n",
              " 'join',\n",
              " 'ljust',\n",
              " 'lower',\n",
              " 'lstrip',\n",
              " 'maketrans',\n",
              " 'partition',\n",
              " 'removeprefix',\n",
              " 'removesuffix',\n",
              " 'replace',\n",
              " 'rfind',\n",
              " 'rindex',\n",
              " 'rjust',\n",
              " 'rpartition',\n",
              " 'rsplit',\n",
              " 'rstrip',\n",
              " 'split',\n",
              " 'splitlines',\n",
              " 'startswith',\n",
              " 'strip',\n",
              " 'swapcase',\n",
              " 'title',\n",
              " 'translate',\n",
              " 'upper',\n",
              " 'zfill']"
            ]
          },
          "metadata": {},
          "execution_count": 44
        }
      ]
    },
    {
      "cell_type": "code",
      "execution_count": null,
      "id": "dN5hJka9xpDp",
      "metadata": {
        "colab": {
          "base_uri": "https://localhost:8080/",
          "height": 36
        },
        "id": "dN5hJka9xpDp",
        "outputId": "b0c93ae6-734b-4f31-df0d-abf117888112"
      },
      "outputs": [
        {
          "output_type": "execute_result",
          "data": {
            "text/plain": [
              "'HA HA HA'"
            ],
            "application/vnd.google.colaboratory.intrinsic+json": {
              "type": "string"
            }
          },
          "metadata": {},
          "execution_count": 43
        }
      ],
      "source": [
        "my_lambda = lambda x: x.lower()\n",
        "my_lambda(\"HA Ha HA\")"
      ]
    },
    {
      "cell_type": "code",
      "execution_count": null,
      "id": "W2rFsZtr_m4y",
      "metadata": {
        "colab": {
          "base_uri": "https://localhost:8080/"
        },
        "id": "W2rFsZtr_m4y",
        "outputId": "5b0cf484-b702-411e-f66d-8de38477144c"
      },
      "outputs": [
        {
          "output_type": "execute_result",
          "data": {
            "text/plain": [
              "625"
            ]
          },
          "metadata": {},
          "execution_count": 46
        }
      ],
      "source": [
        "square_lambda = lambda x: x ** 2\n",
        "square_lambda(25)"
      ]
    },
    {
      "cell_type": "code",
      "execution_count": null,
      "id": "4GnIYSVG_sne",
      "metadata": {
        "colab": {
          "base_uri": "https://localhost:8080/"
        },
        "id": "4GnIYSVG_sne",
        "outputId": "55f3f5b9-1708-4895-a47b-f28e9bd0ccc9"
      },
      "outputs": [
        {
          "output_type": "execute_result",
          "data": {
            "text/plain": [
              "True"
            ]
          },
          "metadata": {},
          "execution_count": 51
        }
      ],
      "source": [
        "equals_lambda = lambda x, y: x == y\n",
        "equals_lambda(\"Ahoj\".lower(), \"ahoj\")"
      ]
    },
    {
      "cell_type": "markdown",
      "source": [
        "Zadám 3 čísla a vy mi spočítáte průměr"
      ],
      "metadata": {
        "id": "MYKcZ9Hz4eud"
      },
      "id": "MYKcZ9Hz4eud"
    },
    {
      "cell_type": "code",
      "source": [
        "average3_lambda = lambda x, y,z: round((x+y+z)/3,2)\n",
        "average3_lambda(1,2.5,3)"
      ],
      "metadata": {
        "colab": {
          "base_uri": "https://localhost:8080/"
        },
        "id": "9mjSz7__4c77",
        "outputId": "1278a625-f355-49a2-a270-05b7fe87ca48"
      },
      "id": "9mjSz7__4c77",
      "execution_count": null,
      "outputs": [
        {
          "output_type": "execute_result",
          "data": {
            "text/plain": [
              "2.17"
            ]
          },
          "metadata": {},
          "execution_count": 54
        }
      ]
    },
    {
      "cell_type": "code",
      "source": [
        "average3_lambda = lambda x=int(input(\"zadej X:\")), y=int(input(\"zadej Y:\")),z=int(input(\"zadej Z:\")): round((x+y+z)/3,2)\n",
        "average3_lambda()"
      ],
      "metadata": {
        "colab": {
          "base_uri": "https://localhost:8080/"
        },
        "id": "R6KSa9vA7ELa",
        "outputId": "b8efe747-212c-49ab-8843-5d7147ef8823"
      },
      "id": "R6KSa9vA7ELa",
      "execution_count": null,
      "outputs": [
        {
          "name": "stdout",
          "output_type": "stream",
          "text": [
            "zadej X:10\n",
            "zadej Y:5\n",
            "zadej Z:4\n"
          ]
        },
        {
          "output_type": "execute_result",
          "data": {
            "text/plain": [
              "6.33"
            ]
          },
          "metadata": {},
          "execution_count": 59
        }
      ]
    },
    {
      "cell_type": "code",
      "source": [
        "average3_lambda = lambda x,y,z: round((x+y+z)/3,2)\n",
        "average3_lambda(int(input(\"zadej X:\")), int(input(\"zadej Y:\")),int(input(\"zadej Z:\")))"
      ],
      "metadata": {
        "colab": {
          "base_uri": "https://localhost:8080/"
        },
        "id": "o7v8v7De7x3U",
        "outputId": "fd3a75a8-63de-44fd-efce-4619d44a1bb9"
      },
      "id": "o7v8v7De7x3U",
      "execution_count": null,
      "outputs": [
        {
          "name": "stdout",
          "output_type": "stream",
          "text": [
            "zadej X:10\n",
            "zadej Y:5\n",
            "zadej Z:4\n"
          ]
        },
        {
          "output_type": "execute_result",
          "data": {
            "text/plain": [
              "6.33"
            ]
          },
          "metadata": {},
          "execution_count": 60
        }
      ]
    },
    {
      "cell_type": "markdown",
      "source": [],
      "metadata": {
        "id": "ROdHmST773nl"
      },
      "id": "ROdHmST773nl"
    },
    {
      "cell_type": "markdown",
      "source": [
        "Nepovinný paramentr"
      ],
      "metadata": {
        "id": "n-Ulk79W8Us4"
      },
      "id": "n-Ulk79W8Us4"
    },
    {
      "cell_type": "code",
      "source": [
        "average3_lambda = lambda x=0, y=0,z=0: round((x+y+z)/3,2)\n",
        "average3_lambda(1,2.5)"
      ],
      "metadata": {
        "colab": {
          "base_uri": "https://localhost:8080/"
        },
        "id": "3-gecIgo7cf1",
        "outputId": "6dbe0122-4709-4016-892a-de5d7f3e9247"
      },
      "id": "3-gecIgo7cf1",
      "execution_count": null,
      "outputs": [
        {
          "output_type": "execute_result",
          "data": {
            "text/plain": [
              "1.17"
            ]
          },
          "metadata": {},
          "execution_count": 63
        }
      ]
    },
    {
      "cell_type": "code",
      "source": [
        "def average3_lambda(x=0, y=0,z=0):\n",
        "    return round((x+y+z)/3,2)\n",
        "\n",
        "average3_lambda(3,4,5)\n",
        "\n",
        "prumer3=(3+4+5)/3"
      ],
      "metadata": {
        "colab": {
          "base_uri": "https://localhost:8080/"
        },
        "id": "dk6qw5sy8syH",
        "outputId": "a4e1c044-5799-4072-f537-47eefae1ee1c"
      },
      "id": "dk6qw5sy8syH",
      "execution_count": null,
      "outputs": [
        {
          "output_type": "execute_result",
          "data": {
            "text/plain": [
              "4.0"
            ]
          },
          "metadata": {},
          "execution_count": 73
        }
      ]
    },
    {
      "cell_type": "code",
      "source": [
        "average3_lambda = lambda: (int(input(\"zadej X:\"))+int(input(\"zadej Y:\"))+int(input(\"zadej Z:\")))/3\n",
        "average3_lambda()"
      ],
      "metadata": {
        "colab": {
          "base_uri": "https://localhost:8080/"
        },
        "id": "l0M5b1npJnF2",
        "outputId": "06305f17-9f96-4a17-b714-8514ea901818"
      },
      "id": "l0M5b1npJnF2",
      "execution_count": null,
      "outputs": [
        {
          "name": "stdout",
          "output_type": "stream",
          "text": [
            "zadej X:5\n",
            "zadej Y:10\n",
            "zadej Z:15\n"
          ]
        },
        {
          "output_type": "execute_result",
          "data": {
            "text/plain": [
              "10.0"
            ]
          },
          "metadata": {},
          "execution_count": 85
        }
      ]
    },
    {
      "cell_type": "markdown",
      "id": "dhUdKASRxpdI",
      "metadata": {
        "id": "dhUdKASRxpdI"
      },
      "source": [
        "#### map/filter/reduce\n",
        "\n",
        "Nejběžnější `lambda` výrazy jsou spárovány s funkcemi `map`, `reduce` a/nebo `filter`.\n",
        "\n",
        "Tyto funkce mají následující parametry `map(fun,seq)`, kde funkce je použita k aplikaci konkrétní funkce (zde je to funkce `fun` předaná jako argument) na všechny prvky seznamu uvedeného v předané sekvenci."
      ]
    },
    {
      "cell_type": "code",
      "execution_count": null,
      "id": "N_7ITJX_x9tE",
      "metadata": {
        "colab": {
          "base_uri": "https://localhost:8080/"
        },
        "id": "N_7ITJX_x9tE",
        "outputId": "5d51ed75-a229-444e-c1fd-8e93b8b59ece"
      },
      "outputs": [
        {
          "output_type": "execute_result",
          "data": {
            "text/plain": [
              "[1, 4, 9, 16, 25]"
            ]
          },
          "metadata": {},
          "execution_count": 68
        }
      ],
      "source": [
        "items = [1, 2, 3, 4, 5]\n",
        "\n",
        "squared = list(map(lambda x: x ** 2, items))\n",
        "squared"
      ]
    },
    {
      "cell_type": "code",
      "execution_count": null,
      "id": "mIBkAEwdATk-",
      "metadata": {
        "colab": {
          "base_uri": "https://localhost:8080/"
        },
        "id": "mIBkAEwdATk-",
        "outputId": "8d139791-b3f6-4884-ed8e-1a54c7ea6c41"
      },
      "outputs": [
        {
          "output_type": "execute_result",
          "data": {
            "text/plain": [
              "[1, 0, 1, 0, 1]"
            ]
          },
          "metadata": {},
          "execution_count": 69
        }
      ],
      "source": [
        "is_odd = list(map(lambda x: x % 2, items))\n",
        "is_odd"
      ]
    },
    {
      "cell_type": "code",
      "execution_count": null,
      "id": "ZPIyYb4lAK7R",
      "metadata": {
        "colab": {
          "base_uri": "https://localhost:8080/"
        },
        "id": "ZPIyYb4lAK7R",
        "outputId": "3270e57e-e548-4d45-86ad-d43e4c67ab54"
      },
      "outputs": [
        {
          "output_type": "execute_result",
          "data": {
            "text/plain": [
              "[2, 4]"
            ]
          },
          "metadata": {},
          "execution_count": 72
        }
      ],
      "source": [
        "odds = list(filter(lambda x: x % 2==False, items)) #1=True 0=False\n",
        "odds"
      ]
    },
    {
      "cell_type": "markdown",
      "source": [
        "Zobrazte hodnoty, které jsou větší než 3\n",
        "Zobrazte hodnoty, které jsou menší než 2 a větší než 3"
      ],
      "metadata": {
        "id": "O2nUaN6LIgmv"
      },
      "id": "O2nUaN6LIgmv"
    },
    {
      "cell_type": "code",
      "source": [
        "vetsi_nez_3 = list(filter(lambda x: x >3, items))\n",
        "vetsi_nez_3"
      ],
      "metadata": {
        "colab": {
          "base_uri": "https://localhost:8080/"
        },
        "id": "PRnJjkbIIrxc",
        "outputId": "663e8851-1753-4780-ea84-2d78299d529f"
      },
      "id": "PRnJjkbIIrxc",
      "execution_count": null,
      "outputs": [
        {
          "output_type": "execute_result",
          "data": {
            "text/plain": [
              "[4, 5]"
            ]
          },
          "metadata": {},
          "execution_count": 74
        }
      ]
    },
    {
      "cell_type": "code",
      "source": [
        "mensi_nez_2_a_vetsi_nez_3 = list(filter(lambda x: x>=2 and x<=3, items))\n",
        "mensi_nez_2_a_vetsi_nez_3"
      ],
      "metadata": {
        "colab": {
          "base_uri": "https://localhost:8080/"
        },
        "id": "tp67zV7OJGU4",
        "outputId": "140ffbeb-d2f3-4631-9a6a-0dfc6543bdb9"
      },
      "id": "tp67zV7OJGU4",
      "execution_count": null,
      "outputs": [
        {
          "output_type": "execute_result",
          "data": {
            "text/plain": [
              "[2, 3]"
            ]
          },
          "metadata": {},
          "execution_count": 86
        }
      ]
    },
    {
      "cell_type": "markdown",
      "id": "c3J9Cm6_BGMY",
      "metadata": {
        "id": "c3J9Cm6_BGMY"
      },
      "source": [
        "`reduce` je definováno v modulu `functools`, takže musí být před použitím importována. Je zvláště užitečná pro zpracování velkých dat a pro funkce, které přijímají pouze dva argumenty:\n",
        "* Na začátku jsou vybrány první dva prvky a získává se výsledek\n",
        "* Dalším krokem je použití funkce `fun` na předchozí získaný výsledek a na následující číslo\n",
        "* Tento proces pokračuje, dokud nejsou v kontejneru žádné další prvky.\n",
        "\n",
        "Finální výsledek je vrácen a vytisknut v konzoli."
      ]
    },
    {
      "cell_type": "code",
      "execution_count": null,
      "id": "7WK6ANsAASMo",
      "metadata": {
        "colab": {
          "base_uri": "https://localhost:8080/"
        },
        "id": "7WK6ANsAASMo",
        "outputId": "43cb355e-a80f-4a5b-ec8c-314b26d715b7"
      },
      "outputs": [
        {
          "output_type": "stream",
          "name": "stdout",
          "text": [
            "[-6, -5, -4, -3, -2, -1, 0, 1, 2, 3, 4]\n"
          ]
        },
        {
          "output_type": "execute_result",
          "data": {
            "text/plain": [
              "-1"
            ]
          },
          "metadata": {},
          "execution_count": 93
        }
      ],
      "source": [
        "from functools import reduce\n",
        "items2=range(-6,5)\n",
        "items = list(items2)\n",
        "print(items)\n",
        "items_sum = reduce(lambda x, y: x -y, items)\n",
        "items_sum"
      ]
    },
    {
      "cell_type": "code",
      "source": [
        "pole=[lambda x: x**2, lambda x: x**3, lambda x: x**4]\n",
        "for i in pole:\n",
        "    print(i(2))"
      ],
      "metadata": {
        "colab": {
          "base_uri": "https://localhost:8080/"
        },
        "id": "PzKTHqRiNqVY",
        "outputId": "21e10a74-fccd-46a8-ee5c-8fe11e1c58e3"
      },
      "id": "PzKTHqRiNqVY",
      "execution_count": null,
      "outputs": [
        {
          "output_type": "stream",
          "name": "stdout",
          "text": [
            "4\n",
            "8\n",
            "16\n"
          ]
        }
      ]
    },
    {
      "cell_type": "markdown",
      "id": "SX_n37a0BzOc",
      "metadata": {
        "id": "SX_n37a0BzOc"
      },
      "source": [
        "#### sorted, max, min\n",
        "\n",
        "Už jsme se učili o vestavěných funkcích `sorted()`, `min()` a `max()`. Nezmínili jsme však, že všechny tyto funkce mají volitelný argument nazvaný `key`."
      ]
    },
    {
      "cell_type": "code",
      "execution_count": null,
      "id": "I2zr4gFCBym2",
      "metadata": {
        "id": "I2zr4gFCBym2"
      },
      "outputs": [],
      "source": [
        "pairs = [ (2, 9,5), (3, 8,7),(1, 10)]"
      ]
    },
    {
      "cell_type": "markdown",
      "id": "bV4Q_SICCGlZ",
      "metadata": {
        "id": "bV4Q_SICCGlZ"
      },
      "source": [
        "Například, rádi bychom seřadili seznam záznamů podle hodnot ve druhé pozici. K tomu můžeme předat lambda výraz do parametru `key`, který transformuje prvky kolekce správným způsobem."
      ]
    },
    {
      "cell_type": "code",
      "execution_count": null,
      "id": "Cy3ug7tSCKQp",
      "metadata": {
        "colab": {
          "base_uri": "https://localhost:8080/"
        },
        "id": "Cy3ug7tSCKQp",
        "outputId": "f53967e9-0b8c-44ce-8b92-e3adaa294f51"
      },
      "outputs": [
        {
          "output_type": "execute_result",
          "data": {
            "text/plain": [
              "[(1, 10, 6), (2, 9, 5), (3, 8, 7)]"
            ]
          },
          "metadata": {},
          "execution_count": 111
        }
      ],
      "source": [
        "sorted(pairs)"
      ]
    },
    {
      "cell_type": "code",
      "source": [
        "sorted(pairs,reverse=True)"
      ],
      "metadata": {
        "colab": {
          "base_uri": "https://localhost:8080/"
        },
        "id": "oVYJyxZLPJEp",
        "outputId": "d60116d6-f4db-43b3-aafd-239feff9d669"
      },
      "id": "oVYJyxZLPJEp",
      "execution_count": null,
      "outputs": [
        {
          "output_type": "execute_result",
          "data": {
            "text/plain": [
              "[(3, 8, 7), (2, 9, 5), (1, 10, 6)]"
            ]
          },
          "metadata": {},
          "execution_count": 112
        }
      ]
    },
    {
      "cell_type": "code",
      "execution_count": null,
      "id": "UgujMzT_CMBq",
      "metadata": {
        "colab": {
          "base_uri": "https://localhost:8080/"
        },
        "id": "UgujMzT_CMBq",
        "outputId": "13bf87ce-c104-422f-8e63-d7f63896a792"
      },
      "outputs": [
        {
          "output_type": "execute_result",
          "data": {
            "text/plain": [
              "[(2, 9, 5), (3, 8, 7), (1, 10)]"
            ]
          },
          "metadata": {},
          "execution_count": 118
        }
      ],
      "source": [
        "sorted(pairs, key=lambda x: x[-1])"
      ]
    },
    {
      "cell_type": "code",
      "source": [
        "sorted(pairs, key=lambda x: x[1], reverse=True)"
      ],
      "metadata": {
        "colab": {
          "base_uri": "https://localhost:8080/"
        },
        "id": "97r_pxmpPSfA",
        "outputId": "b9569fc8-d4aa-45e3-f5ac-d49f4ec0f1c9"
      },
      "id": "97r_pxmpPSfA",
      "execution_count": null,
      "outputs": [
        {
          "output_type": "execute_result",
          "data": {
            "text/plain": [
              "[(1, 10), (2, 9), (3, 8)]"
            ]
          },
          "metadata": {},
          "execution_count": 109
        }
      ]
    },
    {
      "cell_type": "code",
      "source": [
        "pairs = [ (4, 9,5), (3, 8,7),(-5, 10)]"
      ],
      "metadata": {
        "id": "WSuOgJBqP-Rc"
      },
      "id": "WSuOgJBqP-Rc",
      "execution_count": null,
      "outputs": []
    },
    {
      "cell_type": "code",
      "execution_count": null,
      "id": "F-2PeqQWCQo9",
      "metadata": {
        "colab": {
          "base_uri": "https://localhost:8080/"
        },
        "id": "F-2PeqQWCQo9",
        "outputId": "aa3e6640-efa7-41d9-a337-d250a5660ab7"
      },
      "outputs": [
        {
          "output_type": "execute_result",
          "data": {
            "text/plain": [
              "(2, 9, 5)"
            ]
          },
          "metadata": {},
          "execution_count": 122
        }
      ],
      "source": [
        "min(pairs)"
      ]
    },
    {
      "cell_type": "code",
      "execution_count": null,
      "id": "r_GFUEE_CTII",
      "metadata": {
        "colab": {
          "base_uri": "https://localhost:8080/"
        },
        "id": "r_GFUEE_CTII",
        "outputId": "af4d3eac-0905-42df-c716-2f53a220409b"
      },
      "outputs": [
        {
          "output_type": "execute_result",
          "data": {
            "text/plain": [
              "(10, 10)"
            ]
          },
          "metadata": {},
          "execution_count": 125
        }
      ],
      "source": [
        "max(pairs, key=lambda x: x[1])"
      ]
    },
    {
      "cell_type": "code",
      "execution_count": null,
      "id": "8FK-sOzFCYT6",
      "metadata": {
        "colab": {
          "base_uri": "https://localhost:8080/"
        },
        "id": "8FK-sOzFCYT6",
        "outputId": "3ee4d24c-9118-4634-d89c-dec9d5b0d877"
      },
      "outputs": [
        {
          "output_type": "execute_result",
          "data": {
            "text/plain": [
              "(4, 9, 5)"
            ]
          },
          "metadata": {},
          "execution_count": 130
        }
      ],
      "source": [
        "max(pairs, key=lambda x: x[0] * x[1])"
      ]
    },
    {
      "cell_type": "markdown",
      "id": "WnxbMGq2iETb",
      "metadata": {
        "id": "WnxbMGq2iETb"
      },
      "source": [
        "<img src=\"https://drive.google.com/uc?export=view&id=141XOz6N4nk8Ru1sAl7vOsAToCLrSFCAX\" alt=\"Logo SDA\" width=\"150\" align='right'/>\n",
        "\n",
        "## Ošetřování chyb / Výjimky\n",
        "\n",
        "<img src=\"https://drive.google.com/uc?export=view&id=1yAaHlDfD4XQtP-E6cqDCqLPn57Y0wAp1\" alt=\"Dark code\" title=\"Dark code - ošetřování chyb\" align=\"right\" width=\"350px\" hspace=\"10px\" vspace=\"10px\"/>\n",
        "\n",
        "**<font color='#306998'>OŠETŘOVÁNÍ </font><font color='#ffd33b'>CHYB</font>**\n",
        "\n",
        "Výjimka je následek nějaké zvláštní situace během běhu programu. Typicky, situace které vedou k vyvolání výjimky, nejsou součástí zamýšleného scénáře provádění programu. Představte si, že píšete funkci, která bere jako vstup cestu k souboru a vrátí počet slov v souboru. V optimistickém a nejčastějším scénáři očekáváme, že soubor, ke kterému je cesta zadána, existuje. Nicméně může nastat situace, kdy někdo udělá chybu a zadá cestu k souboru, který neexistuje. V takovém případě naše funkce selže. Pokud to však předvídáme a vyvoláme výjimku, informujeme volajícího funkce, že nastala speciální situace. Každá speciální situace musí být nějakým způsobem ošetřena. Každá nezachycená výjimka ukončí program."
      ]
    },
    {
      "cell_type": "code",
      "execution_count": null,
      "id": "Idm6iFroiH3G",
      "metadata": {
        "colab": {
          "base_uri": "https://localhost:8080/",
          "height": 141
        },
        "id": "Idm6iFroiH3G",
        "outputId": "431ecc29-6b24-4bb3-e8e5-4c48742e02b2"
      },
      "outputs": [
        {
          "output_type": "error",
          "ename": "ZeroDivisionError",
          "evalue": "division by zero",
          "traceback": [
            "\u001b[0;31m---------------------------------------------------------------------------\u001b[0m",
            "\u001b[0;31mZeroDivisionError\u001b[0m                         Traceback (most recent call last)",
            "\u001b[0;32m<ipython-input-131-cd759d3fcf39>\u001b[0m in \u001b[0;36m<cell line: 1>\u001b[0;34m()\u001b[0m\n\u001b[0;32m----> 1\u001b[0;31m \u001b[0;36m10\u001b[0m \u001b[0;34m/\u001b[0m \u001b[0;36m0\u001b[0m\u001b[0;34m\u001b[0m\u001b[0;34m\u001b[0m\u001b[0m\n\u001b[0m",
            "\u001b[0;31mZeroDivisionError\u001b[0m: division by zero"
          ]
        }
      ],
      "source": [
        "10 / 0"
      ]
    },
    {
      "cell_type": "markdown",
      "id": "r6UM92WOiIR5",
      "metadata": {
        "id": "r6UM92WOiIR5"
      },
      "source": [
        "### Try / except / finally\n",
        "\n",
        "Pokud voláme funkci, o které víme, že může vyvolat výjimku, a chceme tuto situaci ošetřit, voláme ji v bloku `try`. Blok `try` musí být následován blokem `except` a/nebo blokem `finally`."
      ]
    },
    {
      "cell_type": "code",
      "execution_count": null,
      "id": "zMO9Vj2xiNIK",
      "metadata": {
        "colab": {
          "base_uri": "https://localhost:8080/"
        },
        "id": "zMO9Vj2xiNIK",
        "outputId": "9a481d98-e5d3-4d4b-f25c-ded2cfebb3a5"
      },
      "outputs": [
        {
          "output_type": "stream",
          "name": "stdout",
          "text": [
            "Nastala výjimka\n"
          ]
        }
      ],
      "source": [
        "try:\n",
        "    print(\"aů\"/2)\n",
        "except:\n",
        "    print(\"Nastala výjimka\")"
      ]
    },
    {
      "cell_type": "markdown",
      "id": "jcIysK-HiQuU",
      "metadata": {
        "id": "jcIysK-HiQuU"
      },
      "source": [
        "Instrukce uvnitř bloku `finally` budou vykonány vždy, bez ohledu na to, zda byla vyhozená výjimka.\n",
        "Blok `finally` je velmi důležitou konstrukcí, když používáme nějaké zdroje, které musíme uvolnit i v případě výjimečné situace. (připojení do databáze, lock tabulky)"
      ]
    },
    {
      "cell_type": "code",
      "execution_count": null,
      "id": "d7Lyi29MiQVK",
      "metadata": {
        "colab": {
          "base_uri": "https://localhost:8080/"
        },
        "id": "d7Lyi29MiQVK",
        "outputId": "2f51b906-00be-41d5-84d1-8553cd28304a"
      },
      "outputs": [
        {
          "output_type": "stream",
          "name": "stdout",
          "text": [
            "Nastala výjimka\n",
            "Vždy exekuováno\n"
          ]
        }
      ],
      "source": [
        "try:\n",
        "    print(10/0)\n",
        "except:\n",
        "    print(\"Nastala výjimka\")\n",
        "finally:\n",
        "    print(\"Vždy exekuováno\")"
      ]
    },
    {
      "cell_type": "code",
      "execution_count": null,
      "id": "-KekxSTj1Lmo",
      "metadata": {
        "colab": {
          "base_uri": "https://localhost:8080/"
        },
        "id": "-KekxSTj1Lmo",
        "outputId": "78a6e017-4c71-4ba9-facc-be9f464297ae"
      },
      "outputs": [
        {
          "output_type": "stream",
          "name": "stdout",
          "text": [
            "1.0\n",
            "Vždy exekuováno\n"
          ]
        }
      ],
      "source": [
        "try:\n",
        "    print(10/10)\n",
        "except:\n",
        "    print(\"Nastala výjimka\")\n",
        "finally:\n",
        "    print(\"Vždy exekuováno\")"
      ]
    },
    {
      "cell_type": "markdown",
      "id": "bc-EI2JniTyY",
      "metadata": {
        "id": "bc-EI2JniTyY"
      },
      "source": [
        "Bloku `except` obsahuje kód pro zpracování zachycené výjimky. Klíčové slovo `except` může a mělo by být následováno názvem třídy výjimky, která je zpracovávána tímto blokem."
      ]
    },
    {
      "cell_type": "code",
      "execution_count": null,
      "id": "wDsfMxWdiVkU",
      "metadata": {
        "colab": {
          "base_uri": "https://localhost:8080/"
        },
        "id": "wDsfMxWdiVkU",
        "outputId": "9a4c267e-791f-4abd-a520-b2a1c9a2f5bf"
      },
      "outputs": [
        {
          "output_type": "stream",
          "name": "stdout",
          "text": [
            "Nastala výjimka\n"
          ]
        }
      ],
      "source": [
        "try:\n",
        "    print(10/\"3\")\n",
        "except:\n",
        "    print(\"Nastala výjimka\")"
      ]
    },
    {
      "cell_type": "code",
      "execution_count": null,
      "id": "5qZrAUR91gTj",
      "metadata": {
        "colab": {
          "base_uri": "https://localhost:8080/"
        },
        "id": "5qZrAUR91gTj",
        "outputId": "6411212e-fd19-46b1-9b13-b69736118583"
      },
      "outputs": [
        {
          "output_type": "stream",
          "name": "stdout",
          "text": [
            "Type Error!\n",
            "Vždy exekuováno\n"
          ]
        }
      ],
      "source": [
        "try:\n",
        "    print(5/\"a\")\n",
        "except ZeroDivisionError:\n",
        "    print(\"Nedělte nulou!\")\n",
        "except TypeError:\n",
        "    print(\"Type Error!\")\n",
        "finally:\n",
        "    print(\"Vždy exekuováno\")"
      ]
    },
    {
      "cell_type": "code",
      "execution_count": null,
      "id": "pMgKVCFn1mq2",
      "metadata": {
        "colab": {
          "base_uri": "https://localhost:8080/",
          "height": 193
        },
        "id": "pMgKVCFn1mq2",
        "outputId": "0180a502-6d2e-4a66-e623-2848023e5f98"
      },
      "outputs": [
        {
          "output_type": "error",
          "ename": "TypeError",
          "evalue": "unsupported operand type(s) for /: 'int' and 'str'",
          "traceback": [
            "\u001b[0;31m---------------------------------------------------------------------------\u001b[0m",
            "\u001b[0;31mTypeError\u001b[0m                                 Traceback (most recent call last)",
            "\u001b[0;32m<ipython-input-149-7c7eab058f3c>\u001b[0m in \u001b[0;36m<cell line: 1>\u001b[0;34m()\u001b[0m\n\u001b[1;32m      1\u001b[0m \u001b[0;32mtry\u001b[0m\u001b[0;34m:\u001b[0m\u001b[0;34m\u001b[0m\u001b[0;34m\u001b[0m\u001b[0m\n\u001b[0;32m----> 2\u001b[0;31m     \u001b[0mprint\u001b[0m\u001b[0;34m(\u001b[0m\u001b[0;36m10\u001b[0m\u001b[0;34m/\u001b[0m\u001b[0;34m\"3\"\u001b[0m\u001b[0;34m)\u001b[0m\u001b[0;34m\u001b[0m\u001b[0;34m\u001b[0m\u001b[0m\n\u001b[0m\u001b[1;32m      3\u001b[0m \u001b[0;32mexcept\u001b[0m \u001b[0mZeroDivisionError\u001b[0m\u001b[0;34m:\u001b[0m\u001b[0;34m\u001b[0m\u001b[0;34m\u001b[0m\u001b[0m\n\u001b[1;32m      4\u001b[0m     \u001b[0mprint\u001b[0m\u001b[0;34m(\u001b[0m\u001b[0;34m\"Nedělte nulou\"\u001b[0m\u001b[0;34m)\u001b[0m\u001b[0;34m\u001b[0m\u001b[0;34m\u001b[0m\u001b[0m\n",
            "\u001b[0;31mTypeError\u001b[0m: unsupported operand type(s) for /: 'int' and 'str'"
          ]
        }
      ],
      "source": [
        "try:\n",
        "    print(10/\"3\")\n",
        "except ZeroDivisionError:\n",
        "    print(\"Nedělte nulou\")"
      ]
    },
    {
      "cell_type": "code",
      "execution_count": null,
      "id": "ghTV9fai18KO",
      "metadata": {
        "colab": {
          "base_uri": "https://localhost:8080/"
        },
        "id": "ghTV9fai18KO",
        "outputId": "d5f3f184-3829-491b-f2c4-4c59bf5ed32f"
      },
      "outputs": [
        {
          "output_type": "stream",
          "name": "stdout",
          "text": [
            "Pouze čísla mohou dělit 10\n",
            " unsupported operand type(s) for /: 'int' and 'str'\n"
          ]
        }
      ],
      "source": [
        "try:\n",
        "    print(10/\"3\")  # '3' is a user input\n",
        "except ZeroDivisionError:\n",
        "    print(\"Nedělte nulou!\")\n",
        "except TypeError as te:\n",
        "    print(\"Pouze čísla mohou dělit 10\\n\", te)"
      ]
    },
    {
      "cell_type": "markdown",
      "id": "QrtzS2dj1aNT",
      "metadata": {
        "id": "QrtzS2dj1aNT"
      },
      "source": [
        "Všechny výjimky uvedené níže (stejně jako ostatní) dědí ze základní třídy `BaseException`. Při vytváření vlastních výjimek se doporučuje dědit z typu `Exception`.  \n",
        "```python\n",
        "TypeError\n",
        "AssertionError\n",
        "KeyError\n",
        "ModuleNotFoundError\n",
        "IndexError\n",
        "NameError\n",
        "ZeroDivisionError\n",
        "SyntaxError\n",
        "```"
      ]
    },
    {
      "cell_type": "markdown",
      "id": "-IpEctuviWBC",
      "metadata": {
        "id": "-IpEctuviWBC"
      },
      "source": [
        "Programu můžete říct, že očekáváte jednu z dvou nebo více výjimek (je lepší to nepřehánět, pokud nejste jistí)."
      ]
    },
    {
      "cell_type": "code",
      "execution_count": null,
      "id": "p6S7S2nOiX9k",
      "metadata": {
        "colab": {
          "base_uri": "https://localhost:8080/"
        },
        "id": "p6S7S2nOiX9k",
        "outputId": "50f6337e-4bd0-4699-dc3e-1affd255306a"
      },
      "outputs": [
        {
          "output_type": "stream",
          "name": "stdout",
          "text": [
            "Nedělte nulou!\n"
          ]
        }
      ],
      "source": [
        "try:\n",
        "    print(10/\"3\")  # '3' is a user input\n",
        "except (ZeroDivisionError, TypeError):\n",
        "    print(\"Nedělte nulou!\")"
      ]
    },
    {
      "cell_type": "markdown",
      "id": "qBxGV7oR2fAa",
      "metadata": {
        "id": "qBxGV7oR2fAa"
      },
      "source": [
        "#### **<font color='#306998'>ÚKOL </font><font color='#ffd33b'>PRO VÁS</font>**\n",
        "\n",
        "S ohledem na následující typické chyby:\n",
        "1. `TypeError` – operace/funkce provedena s nesprávným typem objektu\n",
        "1. `KeyError` – klíč (např. ve slovníku) nebyl nalezen\n",
        "1. `IndexError` – pokus o přístup k neexistujícímu prvku (např. v seznamu)\n",
        "1. `ModuleNotFoundError` – importovaný (celý) modul nebyl nalezen\n",
        "1. `AssertionError` – selhání assertionu (používá se např. v testech)\n",
        "1. `NameError` – objekt nelze nalézt (např. proměnná před deklarací)\n",
        "1. `SyntaxError` – neplatná syntaxe\n",
        "1. `ZeroDivisionError` – dělení nulou\n",
        "\n",
        "můžete napsat příklady kódu, které vyvolají tyto chyby?"
      ]
    },
    {
      "cell_type": "markdown",
      "source": [
        "TypeError – operace/funkce provedena s nesprávným typem objektu"
      ],
      "metadata": {
        "id": "DyiNljbaYI5y"
      },
      "id": "DyiNljbaYI5y"
    },
    {
      "cell_type": "code",
      "source": [
        "print(10/\"a\")"
      ],
      "metadata": {
        "id": "kryG4YG7YLKN"
      },
      "id": "kryG4YG7YLKN",
      "execution_count": null,
      "outputs": []
    },
    {
      "cell_type": "markdown",
      "source": [
        "KeyError – klíč (např. ve slovníku) nebyl nalezen"
      ],
      "metadata": {
        "id": "73rGqJhPYQ_R"
      },
      "id": "73rGqJhPYQ_R"
    },
    {
      "cell_type": "code",
      "source": [
        "knihy={\"autor\":\"Harry Potter\"}\n",
        "knihy[\"rok\"]"
      ],
      "metadata": {
        "id": "WnK-1_OhYT7d"
      },
      "id": "WnK-1_OhYT7d",
      "execution_count": null,
      "outputs": []
    },
    {
      "cell_type": "markdown",
      "source": [
        "IndexError – pokus o přístup k neexistujícímu prvku (např. v seznamu)"
      ],
      "metadata": {
        "id": "eWNZecZGYfu4"
      },
      "id": "eWNZecZGYfu4"
    },
    {
      "cell_type": "code",
      "source": [
        "seznam=[1,2,3]\n",
        "print(seznam[4])"
      ],
      "metadata": {
        "id": "1Dp1CncpYiFB"
      },
      "id": "1Dp1CncpYiFB",
      "execution_count": null,
      "outputs": []
    },
    {
      "cell_type": "markdown",
      "source": [
        "ModuleNotFoundError – importovaný (celý) modul nebyl nalezen"
      ],
      "metadata": {
        "id": "SCzwU2mkZug8"
      },
      "id": "SCzwU2mkZug8"
    },
    {
      "cell_type": "code",
      "source": [
        "import neexistujici_modul"
      ],
      "metadata": {
        "id": "z8mbFzU6ZrOt"
      },
      "id": "z8mbFzU6ZrOt",
      "execution_count": null,
      "outputs": []
    },
    {
      "cell_type": "code",
      "execution_count": null,
      "id": "4oxWD5LC2VU8",
      "metadata": {
        "id": "4oxWD5LC2VU8"
      },
      "outputs": [],
      "source": [
        "# svůj kód vložte zde"
      ]
    },
    {
      "cell_type": "markdown",
      "id": "b_hNb7oDib1O",
      "metadata": {
        "id": "b_hNb7oDib1O"
      },
      "source": [
        "### Chybová zpráva\n",
        "\n",
        "Abychom ručně vyvolali (vynutili) výjimku v našem kódu, používáme klíčové slovo `raise`. Za ním vypíšeme jméno třídy výjimky, kterou chceme vyvolat, nebo konkrétní instanci této třídy."
      ]
    },
    {
      "cell_type": "code",
      "execution_count": null,
      "id": "7AZd9LKkiaCK",
      "metadata": {
        "colab": {
          "base_uri": "https://localhost:8080/"
        },
        "id": "7AZd9LKkiaCK",
        "outputId": "7ca027ed-3aad-4fd5-a060-063bb9eb6662"
      },
      "outputs": [
        {
          "name": "stdout",
          "output_type": "stream",
          "text": [
            "Nastala syntaktická chyba!\n"
          ]
        }
      ],
      "source": [
        "try:\n",
        "    raise SyntaxError\n",
        "except SyntaxError:\n",
        "    print(\"Nastala syntaktická chyba!\")"
      ]
    },
    {
      "cell_type": "markdown",
      "id": "dya0kzB8iaaS",
      "metadata": {
        "id": "dya0kzB8iaaS"
      },
      "source": [
        "Jak jsme již viděli, můžeme mít několik `except` bloků, přičemž každý blok reprezentuje očekávaný typ výjimky. Pokud jsou v jednom bloku zpracovávány různé typy výjimek, mohou být specifikovány jako n-tice (tuple). Po typu výjimky můžete použít klíčové slovo `as` a **název proměnné**, do které bude přiřazena konkrétní instance vyhozené výjimky. Můžeme to použít v rámci kódu zpracovatele, například k prozkoumání obsahu chybové zprávy."
      ]
    },
    {
      "cell_type": "code",
      "execution_count": null,
      "id": "xlxB-Bw_id2M",
      "metadata": {
        "colab": {
          "base_uri": "https://localhost:8080/"
        },
        "id": "xlxB-Bw_id2M",
        "outputId": "a4cd0511-b913-46bb-bfc9-71e65c8e4a14"
      },
      "outputs": [
        {
          "name": "stdout",
          "output_type": "stream",
          "text": [
            "division by zero\n",
            "('division by zero',)\n",
            "<class 'ZeroDivisionError'>\n"
          ]
        }
      ],
      "source": [
        "try:\n",
        "    print(10/0)\n",
        "except ZeroDivisionError as e:\n",
        "    print(e, e.args, type(e), sep='\\n')"
      ]
    },
    {
      "cell_type": "markdown",
      "id": "8oNgDShHieQ0",
      "metadata": {
        "id": "8oNgDShHieQ0"
      },
      "source": [
        "<img src=\"https://drive.google.com/uc?export=view&id=1UfWj4rsQHBJ1KYtqib6sAJLDIorwB5nV\" alt=\"Dark code\" title=\"Dark code - zpracování chyb\" align=\"right\" width=\"500px\" hspace=\"10px\" vspace=\"10px\"/>\n",
        "\n",
        "<br><br><br>\n",
        "\n",
        "Slovo `except` bez specifikace typu nebo konstrukce `except Exception` se vypořádá s jakoukoliv výjimkou, bez ohledu na její typ. Tento způsob zachytávání všech výjimek, bez ohledu na jejich typ, se nazývá **zpracování výjimek Pokemon** a je běžně považován za antivzor programování!"
      ]
    },
    {
      "cell_type": "markdown",
      "id": "VP6fg14BigWa",
      "metadata": {
        "id": "VP6fg14BigWa"
      },
      "source": [
        "### Vlastní výjimky\n",
        "\n",
        "Vytvoříme si vlastní výjimky tím, že dědíme z třídy Exception. Takové výjimky můžeme vyvolávat stejně jako jakékoliv jiné v našem kódu."
      ]
    },
    {
      "cell_type": "code",
      "execution_count": null,
      "id": "mRb8CKHSihxy",
      "metadata": {
        "id": "mRb8CKHSihxy"
      },
      "outputs": [],
      "source": [
        "class MyNewException(Exception):\n",
        "    pass"
      ]
    },
    {
      "cell_type": "code",
      "execution_count": null,
      "id": "0llChgb15tFc",
      "metadata": {
        "colab": {
          "base_uri": "https://localhost:8080/",
          "height": 165
        },
        "id": "0llChgb15tFc",
        "outputId": "e39f0a96-5e06-4fcc-a1b2-0e9d38d674e4"
      },
      "outputs": [
        {
          "ename": "MyNewException",
          "evalue": "Monday!",
          "output_type": "error",
          "traceback": [
            "\u001b[1;31m---------------------------------------------------------------------------\u001b[0m",
            "\u001b[1;31mMyNewException\u001b[0m                            Traceback (most recent call last)",
            "Cell \u001b[1;32mIn[38], line 1\u001b[0m\n\u001b[1;32m----> 1\u001b[0m \u001b[38;5;28;01mraise\u001b[39;00m MyNewException(\u001b[38;5;124m\"\u001b[39m\u001b[38;5;124mMonday!\u001b[39m\u001b[38;5;124m\"\u001b[39m)\n",
            "\u001b[1;31mMyNewException\u001b[0m: Monday!"
          ]
        }
      ],
      "source": [
        "raise MyNewException(\"Monday!\")"
      ]
    },
    {
      "cell_type": "markdown",
      "id": "Bvp4do0WW1jv",
      "metadata": {
        "id": "Bvp4do0WW1jv"
      },
      "source": [
        "<img src=\"https://drive.google.com/uc?export=view&id=1UO2urRciECzoKE_vHy4RMGfFbkOWOGlW\" alt=\"SDA logo\" align=\"left\" width=\"100px\" hspace=\"10px\" vspace=\"10px\"/>\n",
        "<br>\n",
        "\n",
        "# Generátorová notace (Comprehension)\n",
        "\n",
        "<br><br>\n",
        "Python jako jazyk vyšší úrovně je téměř tak snadno čitelný jako angličtina. Jednou z jeho nejvýraznějších vlastností je **<font color='#306998'>generátorová notace </font><font color='#ffd33b'>seznamů/slovníků/množin</font>**. Umožňuje vytvářet mocnou funkcionalitu v jediném řádku kódu."
      ]
    },
    {
      "cell_type": "markdown",
      "id": "4qDhaR-XWi72",
      "metadata": {
        "id": "4qDhaR-XWi72"
      },
      "source": [
        "<img src=\"https://drive.google.com/uc?export=view&id=141XOz6N4nk8Ru1sAl7vOsAToCLrSFCAX\" alt=\"SDA logo\" width=\"150\" align='right'/>\n",
        "\n",
        "## Comprehension vs. for loops\n",
        "\n",
        "**<font color='#306998'>LIST</font> <font color='#ffd33b'>COMPREHENSIONS</font>**\n",
        "\n",
        "Začněme s generátorovou notací seznamů, což je jiný způsob, jak seznam vytvořit. Nejde tedy jen o vkládání prvků do seznamu. Později uvidíte, jak se podobným způsobem vytváří slovník a množina.\n",
        "\n",
        "* V generátorové notaci seznamu vytváříme nový seznam z nějakého vstupního. Během této operace můžeme každému prvku původního seznamu aplikovat nějakou transformaci.\n",
        "* Navíc můžeme prvky původního seznamu vyfiltrovat.\n",
        "\n",
        "Níže používáme generátorovou notaci seznamu k vytvoření nového seznamu pouze z lichých prvků původního seznamu, přičemž každý prvek, který prošel filtrem, je umocněn na druhou."
      ]
    },
    {
      "cell_type": "code",
      "execution_count": null,
      "id": "eup9CrZqWoQy",
      "metadata": {
        "colab": {
          "base_uri": "https://localhost:8080/"
        },
        "id": "eup9CrZqWoQy",
        "outputId": "7dee426f-9c85-427f-d4f3-3a7a9058a219"
      },
      "outputs": [
        {
          "data": {
            "text/plain": [
              "[1, 4, 9, 16, 25, 36, 49]"
            ]
          },
          "execution_count": 39,
          "metadata": {},
          "output_type": "execute_result"
        }
      ],
      "source": [
        "old_list = [1, 2, 3, 4, 5, 6, 7]\n",
        "\n",
        "new_list = []\n",
        "for i in old_list:\n",
        "    new_list.append(i ** 2)\n",
        "\n",
        "new_list"
      ]
    },
    {
      "cell_type": "code",
      "execution_count": null,
      "id": "bjN8kvy-LSoy",
      "metadata": {
        "id": "bjN8kvy-LSoy"
      },
      "outputs": [],
      "source": [
        "new_list_compr = [x ** 2 for x in old_list]\n",
        "assert new_list_compr == new_list"
      ]
    },
    {
      "cell_type": "code",
      "execution_count": null,
      "id": "cw9dhTnkLa8G",
      "metadata": {
        "colab": {
          "base_uri": "https://localhost:8080/"
        },
        "id": "cw9dhTnkLa8G",
        "outputId": "ebeffaa0-f759-4829-c5b7-5401526cc299"
      },
      "outputs": [
        {
          "data": {
            "text/plain": [
              "[4, 16, 36]"
            ]
          },
          "execution_count": 41,
          "metadata": {},
          "output_type": "execute_result"
        }
      ],
      "source": [
        "new_list = [x ** 2 for x in old_list if not x % 2]\n",
        "new_list"
      ]
    },
    {
      "cell_type": "markdown",
      "id": "U-hn1yeOLkdR",
      "metadata": {
        "id": "U-hn1yeOLkdR"
      },
      "source": [
        "**<font color='#306998'>GENERÁTOROVÉ NOTACE SLOVNÍKU</font>**\n",
        "\n",
        "Podobně jako u generátorových notací seznamu, můžeme vytvořit generátorovou notaci slovníku, která vytvoří nový slovník na základě určité posloupnosti.\n",
        "\n",
        "Klasickým příkladem generátorové notace slovníku je vytvoření slovníku, ve kterém jsou klíče a hodnoty prohozeny oproti původnímu slovníku."
      ]
    },
    {
      "cell_type": "code",
      "execution_count": null,
      "id": "mjiyCdNgLxSM",
      "metadata": {
        "colab": {
          "base_uri": "https://localhost:8080/"
        },
        "id": "mjiyCdNgLxSM",
        "outputId": "b4852a41-1bfb-40a0-c059-1e9d808893c2"
      },
      "outputs": [
        {
          "data": {
            "text/plain": [
              "{997: 'Police', 383: 'Pizza', 593: 'Mom'}"
            ]
          },
          "execution_count": 42,
          "metadata": {},
          "output_type": "execute_result"
        }
      ],
      "source": [
        "old_dict = {'Police': 997, 'Pizza': 383, 'Mom': 593}\n",
        "\n",
        "new_dict = {v: k for k, v in old_dict.items()}\n",
        "new_dict"
      ]
    },
    {
      "cell_type": "code",
      "execution_count": null,
      "id": "auv0jA6YW22C",
      "metadata": {
        "colab": {
          "base_uri": "https://localhost:8080/"
        },
        "id": "auv0jA6YW22C",
        "outputId": "b7a18142-1499-4dfa-d261-d4e84e7af657"
      },
      "outputs": [
        {
          "data": {
            "text/plain": [
              "{'Mom': 593}"
            ]
          },
          "execution_count": 43,
          "metadata": {},
          "output_type": "execute_result"
        }
      ],
      "source": [
        "old_dict = {'Police': 997, 'Pizza': 383, 'Mom': 593}\n",
        "\n",
        "new_dict = {k: v for k, v in old_dict.items() if v > 500 and k.startswith('M')}\n",
        "new_dict"
      ]
    },
    {
      "cell_type": "markdown",
      "id": "R7G51if8Wqkj",
      "metadata": {
        "id": "R7G51if8Wqkj"
      },
      "source": [
        "**<font color='#306998'>SADY</font><font color='#ffd33b'> ÚPLNOSTI</font>**\n",
        "\n",
        "Generátorové notace množin jsou posledním druhem, kterým se budeme zabývat.\n",
        "\n",
        "Jsou vytvořeny stejným způsobem jako sady generátorové notace seznamů, přičemž se pouze nahradí hranaté závorky složenými závorkami.\n",
        "\n",
        "Představte si, že chcete znát délky všech slov v seznamu."
      ]
    },
    {
      "cell_type": "code",
      "execution_count": null,
      "id": "d8y-kAObW8WC",
      "metadata": {
        "colab": {
          "base_uri": "https://localhost:8080/"
        },
        "id": "d8y-kAObW8WC",
        "outputId": "4875c7e0-e481-4750-92c8-31891a9120cc"
      },
      "outputs": [
        {
          "name": "stdout",
          "output_type": "stream",
          "text": [
            "{3, 4, 5}\n"
          ]
        }
      ],
      "source": [
        "word_list = ['ala', 'ola', 'alek', 'mirek', 'ela']\n",
        "\n",
        "word_lengths = {len(word) for word in word_list}\n",
        "print(word_lengths)"
      ]
    },
    {
      "cell_type": "markdown",
      "id": "vXp7xMmGMn7g",
      "metadata": {
        "id": "vXp7xMmGMn7g"
      },
      "source": [
        "Co se stane, když nahradíme složené závorky hranatými?"
      ]
    },
    {
      "cell_type": "markdown",
      "id": "iF5vZPvFZSqT",
      "metadata": {
        "id": "iF5vZPvFZSqT"
      },
      "source": [
        "<img src=\"https://drive.google.com/uc?export=view&id=1UO2urRciECzoKE_vHy4RMGfFbkOWOGlW\" alt=\"SDA logo\" align=\"left\" width=\"100px\" hspace=\"10px\" vspace=\"10px\"/>\n",
        "<br>\n",
        "\n",
        "# Objektově orientované programování (OOP)"
      ]
    },
    {
      "cell_type": "markdown",
      "id": "x2HlOFVZZY5Z",
      "metadata": {
        "id": "x2HlOFVZZY5Z"
      },
      "source": [
        "<img src=\"https://drive.google.com/uc?export=view&id=19ZE5NMe2a6dRz2XTABJO_GrBiyywnmmv\" alt=\"OOP\" title=\"Objektově orientované programování\" align=\"right\" width=\"350px\" hspace=\"50px\" vspace=\"50px\"/>\n",
        "\n",
        "**<font color='#306998'>OBJEKTOVĚ ORIENTOVANÉ </font><font color='#ffd33b'>PROGRAMOVÁNÍ</font>** je odlišný způsob myšlení o programování, který organizuje návrh softwaru kolem dat nebo objektů (nikoliv funkcí a logiky jako u funkcionálního programování).\n",
        "\n",
        "Jinými slovy:\n",
        "- program již není shluk funkcí a smyček - má strukturu.\n",
        "- struktura programu je založena na objektech\n",
        "    - objekt má `určitý stav` a obsahuje `data` a má s nimi `metody` spojené\n",
        "    - objekty spolu interagují\n",
        "    - objekty jsou určitého typu (z domény problému)\n",
        "    \n",
        "Objekty umožňují skrýt implementační detaily. Rozhraní poskytované objekty je srozumitelné pro každého, kdo rozumí problému, a nemusí být obeznámen s programováním."
      ]
    },
    {
      "cell_type": "markdown",
      "id": "srI75d18ZkED",
      "metadata": {
        "id": "srI75d18ZkED"
      },
      "source": [
        "<img src=\"https://drive.google.com/uc?export=view&id=141XOz6N4nk8Ru1sAl7vOsAToCLrSFCAX\" alt=\"SDA logo\" width=\"150\" align='right'/>\n",
        "\n",
        "## Třídy a objekty\n",
        "\n",
        "<img src=\"https://drive.google.com/uc?export=view&id=1cMJ-6tChoPJeUTkx98nBwNjt-9yLp_Jk\" alt=\"OOP: object vs. class\" title=\"Objektově orientované programování: třída a objekty\" align=\"right\" width=\"500px\" hspace=\"20px\" vspace=\"10px\"/>\n",
        "\n",
        "Automobil je velmi složitý stroj: má motor, chladič, brzdy, světla na nárazníku, atd. Nicméně, pokud chcete řídit, nemusíte přesně vědět, co je pod kapotou. Pro řízení poskytuje automobil řidiči volant, pedály a řadicí páku, ale všechny sofistikované, složité věci jsou skryté.\n",
        "\n",
        "Existují různé typy automobilů, mají motory různého výkonu, ale všechny mají volant a pedály - to je jejich rozhraní, skrze které řidič komunikuje s automobilem.\n",
        "\n",
        "Na trhu s automobily existuje mnoho značek, které vyrábějí specifické modely automobilů, které se od sebe výrazně liší, ale každý z nich slouží k jízdě po silnici, a má volant a pedály umístěné v řidičské kabině."
      ]
    },
    {
      "cell_type": "markdown",
      "id": "NvgHl6hVZrJ7",
      "metadata": {
        "id": "NvgHl6hVZrJ7"
      },
      "source": [
        "## Definice třídy\n",
        "\n",
        "Třídu deklarujeme pomocí klíčového slova `class`. Za ním napíšeme **název** třídy (obvykle ve stylu CamelCase) a deklaraci zakončíme **dvojtečkou**.\n",
        "```python\n",
        "\n",
        "class MyName:\n",
        "    pass\n",
        "```\n",
        "\n",
        "Po dvojtečce, ve odsazeném bloku, píšeme **tělo** třídy.\n",
        "\n",
        "Třída se může skládat z dvou hlavních prvků:\n",
        "* metody - funkce definované v těle třídy, z nichž většina bude mít speciální první argument: `self`\n",
        "* atributy - proměnné libovolného typu definované v těle třídy nebo v jejím konstruktoru (`__init__`)"
      ]
    },
    {
      "cell_type": "code",
      "execution_count": null,
      "id": "w5aqTygBZvAS",
      "metadata": {
        "id": "w5aqTygBZvAS"
      },
      "outputs": [],
      "source": [
        "class Car:\n",
        "    acceleration = 10\n",
        "\n",
        "    def __init__(self, registration_number):\n",
        "        self.registration_number = registration_number\n",
        "        self.in_motion = False\n",
        "        self.speed = 0\n",
        "\n",
        "    def drive(self):\n",
        "        self.in_motion = True\n",
        "\n",
        "    def accelerate(self):\n",
        "        self.speed += self.acceleration\n",
        "\n",
        "    def stop(self):\n",
        "        self.in_motion = False\n",
        "        self.speed = 0"
      ]
    },
    {
      "cell_type": "markdown",
      "id": "NVMd5QJIZ2SA",
      "metadata": {
        "id": "NVMd5QJIZ2SA"
      },
      "source": [
        "### Konstruktor třídy\n",
        "\n",
        "Speciální metoda `__init__` je volána Pythonem při vytváření nového objektu třídy.\n",
        "\n",
        "```python\n",
        "\n",
        "def __init__(self, registrační_číslo):\n",
        "    self.registrační_číslo = registrační_číslo\n",
        "    self.v_pohybu = False\n",
        "    self.rychlost = 0\n",
        "```\n",
        "\n",
        "Jak název metody naznačuje, slouží k inicializaci objektu - například přiřazení počátečních hodnot atributů, navázání spojení s databází nebo jiných ukolů, které by měly být provedeny pouze jednou, na začátku života nového objektu.\n",
        "\n",
        "Metoda `__init__`, stejně jako každá jiná metoda, přijímá jako první argument `self` - jedná se o odkaz na konkrétní objekt třídy.\n",
        "\n",
        "Podobně jako u ostatních metod, `__init__` je funkce a může přijímat další parametry - v našem případě je to registrační číslo vytvořeného vozidla."
      ]
    },
    {
      "cell_type": "markdown",
      "id": "HvRGo0UrZ76d",
      "metadata": {
        "id": "HvRGo0UrZ76d"
      },
      "source": [
        "### Metody třídy\n",
        "\n",
        "Všimněte si, že metody často upravují atributy objektu. V našem případě jedna metoda zvyšuje rychlost a druhá ji resetuje.\n",
        "\n",
        "```python\n",
        "\n",
        "def drive(self):\n",
        "    self.in_motion = True\n",
        "    \n",
        "def accelerate(self):\n",
        "    self.speed += self.acceleration\n",
        "        \n",
        "def stop(self):\n",
        "    self.in_motion = False\n",
        "    self.speed = 0\n",
        "```\n",
        "\n",
        "Tyto metody neberou žádné argumenty kromě odkazu na aktuální objekt (s klíčovým slovem `self`). Nicméně, nic nebrání tomu, aby přijímaly další argumenty.\n",
        "\n",
        "Podobně je to s návratovou hodnotou - protože naše metody mění vnitřní stav objektu (rychlost), nemusí nic vracet. Nicméně každá metoda je ve skutečnosti funkce a může tedy vrátit hodnotu pomocí klíčového slova `return`."
      ]
    },
    {
      "cell_type": "markdown",
      "id": "SPgyLARvaB13",
      "metadata": {
        "id": "SPgyLARvaB13"
      },
      "source": [
        "### Vytváření objektu\n",
        "\n",
        "Instance třídy jsou vytvořeny tím, že zavoláme na třídu jako na funkci = jménem s kulatými závorkami, do kterých vložíme všechny parametry potřebné k vytvoření objektu.\n",
        "\n",
        "Například `my_old_honda` je instancí třídy `Car`.\n",
        "\n",
        "```python\n",
        "my_old_honda = Car('WGT6914')\n",
        "```\n",
        "\n",
        "Má všechny atributy definované třídou, jako je registrační číslo, rychlost, zrychlení a příznak, zda se vozidlo pohybuje."
      ]
    },
    {
      "cell_type": "code",
      "execution_count": null,
      "id": "9jUTnkAEaHdz",
      "metadata": {
        "id": "9jUTnkAEaHdz"
      },
      "outputs": [],
      "source": [
        "my_old_honda = Car('WGT6914')"
      ]
    },
    {
      "cell_type": "code",
      "execution_count": null,
      "id": "zgyI1bc5TW9I",
      "metadata": {
        "colab": {
          "base_uri": "https://localhost:8080/"
        },
        "id": "zgyI1bc5TW9I",
        "outputId": "e4a44b4d-9bce-4995-fa18-61902ca3113c"
      },
      "outputs": [
        {
          "data": {
            "text/plain": [
              "<__main__.Car at 0x1ea770a9120>"
            ]
          },
          "execution_count": 47,
          "metadata": {},
          "output_type": "execute_result"
        }
      ],
      "source": [
        "my_old_honda"
      ]
    },
    {
      "cell_type": "code",
      "execution_count": null,
      "id": "McW9Sgf7TXyt",
      "metadata": {
        "colab": {
          "base_uri": "https://localhost:8080/"
        },
        "id": "McW9Sgf7TXyt",
        "outputId": "1a24ef71-c474-4ec4-cd20-a337c3bf2c0c"
      },
      "outputs": [
        {
          "data": {
            "text/plain": [
              "(False, 'WGT6914', 0)"
            ]
          },
          "execution_count": 48,
          "metadata": {},
          "output_type": "execute_result"
        }
      ],
      "source": [
        "my_old_honda.in_motion, my_old_honda.registration_number, my_old_honda.speed"
      ]
    },
    {
      "cell_type": "markdown",
      "id": "VCIwWvY-TTiA",
      "metadata": {
        "id": "VCIwWvY-TTiA"
      },
      "source": [
        "Po vytvoření objektu můžeme volat **metody**, které patří třídě, pomocí operátoru tečky `.` následované jménem metody (a jejími parametry). Operátor tečky se také používá k získání atributů objektu."
      ]
    },
    {
      "cell_type": "code",
      "execution_count": null,
      "id": "Mj9lMRwSTpDA",
      "metadata": {
        "id": "Mj9lMRwSTpDA"
      },
      "outputs": [],
      "source": [
        "my_old_honda.drive()"
      ]
    },
    {
      "cell_type": "code",
      "execution_count": null,
      "id": "mfm2l4s7TsKh",
      "metadata": {
        "id": "mfm2l4s7TsKh"
      },
      "outputs": [],
      "source": [
        "my_old_honda.accelerate()"
      ]
    },
    {
      "cell_type": "code",
      "execution_count": null,
      "id": "kCnoNNGLTt5L",
      "metadata": {
        "colab": {
          "base_uri": "https://localhost:8080/"
        },
        "id": "kCnoNNGLTt5L",
        "outputId": "0a3ca706-e76b-407b-8b97-821eb5da65de"
      },
      "outputs": [
        {
          "data": {
            "text/plain": [
              "10"
            ]
          },
          "execution_count": 51,
          "metadata": {},
          "output_type": "execute_result"
        }
      ],
      "source": [
        "my_old_honda.speed"
      ]
    },
    {
      "cell_type": "markdown",
      "id": "WVTXDH13aH_T",
      "metadata": {
        "id": "WVTXDH13aH_T"
      },
      "source": [
        "### Další příklad; třída zaměstnance\n",
        "\n",
        "Pojďme modelovat `třídu` zaměstnance. V poskytnutém příkladu,\n",
        "* atribut raise_amount je **třídní proměnnou** (atribut), protože byl deklarován v těle třídy\n",
        "* zbývající atributy (first, last, pay, email) jsou **objektovými atributy**, protože byly okamžitě přiřazeny konkrétnímu objektu (`self`) v metodě `__init__`.\n",
        "\n",
        "Můžeme se odkázat na **třídní atribut** dvěma způsoby:\n",
        "* pomocí názvu třídy - Employee.raise_amount\n",
        "* odkazem na objekt pomocí self.raise_amount"
      ]
    },
    {
      "cell_type": "code",
      "execution_count": null,
      "id": "UuN6wB0jaSMn",
      "metadata": {
        "id": "UuN6wB0jaSMn"
      },
      "outputs": [],
      "source": [
        "class Employee:\n",
        "    raise_amount = 1.04\n",
        "\n",
        "    def __init__(self, first, last, pay):\n",
        "        self.first = first\n",
        "        self.last = last\n",
        "        self.pay = pay\n",
        "        self.email = f'{first}.{last}@company.com'\n",
        "\n",
        "    def fullname(self):\n",
        "        return f'{self.first} {self.last}'\n",
        "\n",
        "    def apply_raise(self):\n",
        "        self.pay = int(self.pay * self.raise_amount)"
      ]
    },
    {
      "cell_type": "code",
      "execution_count": null,
      "id": "48srNtRBUsFy",
      "metadata": {
        "colab": {
          "base_uri": "https://localhost:8080/"
        },
        "id": "48srNtRBUsFy",
        "outputId": "c77d3e7f-3dc6-461e-d50b-6874d2766d06"
      },
      "outputs": [
        {
          "data": {
            "text/plain": [
              "1.04"
            ]
          },
          "execution_count": 53,
          "metadata": {},
          "output_type": "execute_result"
        }
      ],
      "source": [
        "Employee.raise_amount"
      ]
    },
    {
      "cell_type": "code",
      "execution_count": null,
      "id": "-ABLqKCVUuj7",
      "metadata": {
        "colab": {
          "base_uri": "https://localhost:8080/",
          "height": 165
        },
        "id": "-ABLqKCVUuj7",
        "outputId": "c3ba62fc-d9ab-4b1e-e62c-df68649e5d0e"
      },
      "outputs": [
        {
          "ename": "AttributeError",
          "evalue": "type object 'Employee' has no attribute 'first'",
          "output_type": "error",
          "traceback": [
            "\u001b[1;31m---------------------------------------------------------------------------\u001b[0m",
            "\u001b[1;31mAttributeError\u001b[0m                            Traceback (most recent call last)",
            "Cell \u001b[1;32mIn[54], line 1\u001b[0m\n\u001b[1;32m----> 1\u001b[0m \u001b[43mEmployee\u001b[49m\u001b[38;5;241;43m.\u001b[39;49m\u001b[43mfirst\u001b[49m\n",
            "\u001b[1;31mAttributeError\u001b[0m: type object 'Employee' has no attribute 'first'"
          ]
        }
      ],
      "source": [
        "Employee.first"
      ]
    },
    {
      "cell_type": "markdown",
      "id": "uCN1pR24VagT",
      "metadata": {
        "id": "uCN1pR24VagT"
      },
      "source": [
        "Vytvořme dva zaměstnance. Původně je pro oba nastavena míra zvýšení platu ve výši 4%."
      ]
    },
    {
      "cell_type": "code",
      "execution_count": null,
      "id": "UNc6J8amUwjb",
      "metadata": {
        "id": "UNc6J8amUwjb"
      },
      "outputs": [],
      "source": [
        "wisniewska = Employee('Anna', 'Wisniewska', 6000)\n",
        "kowalski = Employee('Jan', 'Kowalski', 3000)"
      ]
    },
    {
      "cell_type": "code",
      "execution_count": null,
      "id": "_J-1wFEQU_qk",
      "metadata": {
        "colab": {
          "base_uri": "https://localhost:8080/"
        },
        "id": "_J-1wFEQU_qk",
        "outputId": "0502b3bb-aee0-449f-dbbc-a75c41784d6f"
      },
      "outputs": [
        {
          "data": {
            "text/plain": [
              "(1.04, 'Anna', 'Anna.Wisniewska@company.com')"
            ]
          },
          "execution_count": 62,
          "metadata": {},
          "output_type": "execute_result"
        }
      ],
      "source": [
        "wisniewska.raise_amount, wisniewska.first, wisniewska.email"
      ]
    },
    {
      "cell_type": "code",
      "execution_count": null,
      "id": "-82c59cuVI41",
      "metadata": {
        "id": "-82c59cuVI41"
      },
      "outputs": [],
      "source": [
        "kowalski.apply_raise()"
      ]
    },
    {
      "cell_type": "code",
      "execution_count": null,
      "id": "Dz-vtDg3VNZj",
      "metadata": {
        "id": "Dz-vtDg3VNZj"
      },
      "outputs": [],
      "source": [
        "assert kowalski.pay == 3000 * 1.04"
      ]
    },
    {
      "cell_type": "markdown",
      "id": "EFqp2H3CaS1E",
      "metadata": {
        "id": "EFqp2H3CaS1E"
      },
      "source": [
        "Nicméně, když jsme podepsali smlouvu s paní Wiśniewskou, zavázali jsme se, že jí dáme zvýšení ve výši 10 %.\n",
        "\n",
        "* Protože jsme se zvláštní péčí přihlíželi k zájmům paní Wiśniewské a přiřadili hodnotu zvýšení 10 % konkrétnímu objektu, přepsali jsme tak výchozí hodnotu třídy a její zvýšení činilo právě 10 %."
      ]
    },
    {
      "cell_type": "code",
      "execution_count": null,
      "id": "ruGGI-46aVOX",
      "metadata": {
        "colab": {
          "base_uri": "https://localhost:8080/"
        },
        "id": "ruGGI-46aVOX",
        "outputId": "782dfc64-53a5-4048-ec06-9478b00f1172"
      },
      "outputs": [
        {
          "data": {
            "text/plain": [
              "6600"
            ]
          },
          "execution_count": 65,
          "metadata": {},
          "output_type": "execute_result"
        }
      ],
      "source": [
        "wisniewska.raise_amount = 1.10\n",
        "wisniewska.apply_raise()\n",
        "wisniewska.pay"
      ]
    },
    {
      "cell_type": "markdown",
      "id": "zyWahPHZaYm6",
      "metadata": {
        "id": "zyWahPHZaYm6"
      },
      "source": [
        "### Další příklad; třída kniha\n",
        "\n",
        "V našem programu bychom chtěli ovládat objekty jako JE KNIHA.\n",
        "- K tomu vytváříme atribut třídy nazvaný `total_number_of_books`. Tento atribut je sdílen každým objektem patřícím do třídy `Kniha` a také přímo třídou.\n",
        "- Během inicializace každého nově vytvořeného objektu zvyšujeme hodnotu proměnné `total_number_of_books` a přiřazujeme její aktuální hodnotu objektové proměnné `id`.\n",
        "- Tímto způsobem každý objekt získává vlastní jedinečný identifikátor."
      ]
    },
    {
      "cell_type": "code",
      "execution_count": null,
      "id": "pGgkv0NPajZo",
      "metadata": {
        "id": "pGgkv0NPajZo"
      },
      "outputs": [],
      "source": [
        "class Book:\n",
        "    total_number_of_books = 0\n",
        "\n",
        "    def __init__(self, title, author):\n",
        "        self.title = title\n",
        "        self.author = author\n",
        "        Book.total_number_of_books += 1\n",
        "        self.id = Book.total_number_of_books"
      ]
    },
    {
      "cell_type": "code",
      "execution_count": null,
      "id": "IoLn2gfyWQCC",
      "metadata": {
        "id": "IoLn2gfyWQCC"
      },
      "outputs": [],
      "source": [
        "stolen_focus = Book('Stolen Focus', 'Johann Hari')\n",
        "normal_people = Book('Normal People', 'Sally Oney')"
      ]
    },
    {
      "cell_type": "code",
      "execution_count": null,
      "id": "7QKZsiEBWuCy",
      "metadata": {
        "colab": {
          "base_uri": "https://localhost:8080/"
        },
        "id": "7QKZsiEBWuCy",
        "outputId": "bb63aa04-432d-437e-c392-808cb86bf295"
      },
      "outputs": [
        {
          "data": {
            "text/plain": [
              "(1, 2)"
            ]
          },
          "execution_count": 68,
          "metadata": {},
          "output_type": "execute_result"
        }
      ],
      "source": [
        "stolen_focus.id, normal_people.id"
      ]
    },
    {
      "cell_type": "code",
      "execution_count": null,
      "id": "eq-wXrJFWymY",
      "metadata": {
        "colab": {
          "base_uri": "https://localhost:8080/"
        },
        "id": "eq-wXrJFWymY",
        "outputId": "636a9663-ba98-469b-b24c-485119a8f163"
      },
      "outputs": [
        {
          "data": {
            "text/plain": [
              "2"
            ]
          },
          "execution_count": 69,
          "metadata": {},
          "output_type": "execute_result"
        }
      ],
      "source": [
        "Book.total_number_of_books"
      ]
    },
    {
      "cell_type": "markdown",
      "id": "mMf5Jmfaaj3l",
      "metadata": {
        "id": "mMf5Jmfaaj3l"
      },
      "source": [
        "### Nejjednodušší třída\n",
        "\n",
        "Existují situace, kdy chceme vytvořit `třídu`, ale zatím nevíme, jaká bude její implementace.\n",
        "\n",
        "* Taková situace nastává například, když chceme ukázat, jaké třídy chceme mít v systému, a nechat implementaci na ostatních členech týmu.\n",
        "* Stejně tak při použití metodologie Test Driven Development, kdy nejdříve píšeme testy a pak dodáváme implementaci kódu, je potřeba vytvořit zárodek třídy - zadat její název a zbytek nechat na později.\n",
        "* Toho můžeme dosáhnout pomocí klíčového slova `pass`.\n",
        "* Klíčové slovo `pass` funguje nejen pro třídy - má smysl také pro funkce, smyčky a podmíněné výrazy.\n",
        "* Slovo `continue` je často spojováno se slovem `pass`, ale rozdíl je konkrétní: `continue` ihned zahájí nový průběh smyčky, zatímco `pass` jednoduše znamená \"tady není co dělat\" (průběh smyčky může pokračovat)."
      ]
    },
    {
      "cell_type": "code",
      "execution_count": null,
      "id": "aC88E5DmaqpT",
      "metadata": {
        "colab": {
          "base_uri": "https://localhost:8080/"
        },
        "id": "aC88E5DmaqpT",
        "outputId": "80ce6a5d-a84c-4343-9f88-9bb28897c3e3"
      },
      "outputs": [
        {
          "name": "stdout",
          "output_type": "stream",
          "text": [
            "očekáváno\n"
          ]
        }
      ],
      "source": [
        "class SuperSimpleClass:\n",
        "    pass\n",
        "\n",
        "def no_idea_function():\n",
        "    pass\n",
        "\n",
        "for i in range(100):\n",
        "    pass\n",
        "\n",
        "if 2 < 3:\n",
        "    print('očekáváno')\n",
        "else:\n",
        "    pass"
      ]
    },
    {
      "cell_type": "markdown",
      "id": "0LrmlJt_arFr",
      "metadata": {
        "id": "0LrmlJt_arFr"
      },
      "source": [
        "<img src=\"https://drive.google.com/uc?export=view&id=141XOz6N4nk8Ru1sAl7vOsAToCLrSFCAX\" alt=\"SDA logo\" width=\"150\" align='right'/>\n",
        "\n",
        "## Metody třídy\n",
        "\n",
        "Běžné metody jako první argument přijímají referenci na aktuální objekt, ve kterém se vykonávají (`self`).\n",
        "\n",
        "```python\n",
        "\n",
        "class Employee:\n",
        "    raise_amount = 1.04\n",
        "\n",
        "    def __init__(self, first, last, pay):\n",
        "        self.first = first\n",
        "        self.last = last\n",
        "        self.pay = pay\n",
        "        self.email = f'{first}.{last}@company.com'\n",
        "\n",
        "    def fullname(self):\n",
        "        return f'{self.first} {self.last}'\n",
        "\n",
        "    def apply_raise(self):\n",
        "        self.pay = int(self.pay * self.raise_amount)\n",
        "```\n",
        "\n",
        "- Metody třídy na druhou stranu jako první argument přijímají třídu `cls` a nemohou pracovat s atributy specifickými pro objekt.\n",
        "- Metodu třídy lze volat na úrovni třídy, není nutné vytvářet její instanci (objekt) nebo prostřednictvím jakéhokoli objektu třídy.\n",
        "- Pro deklaraci metody třídy musíte použít dekorátor `@classmethod` (více o dekorátorech později)."
      ]
    },
    {
      "cell_type": "code",
      "execution_count": null,
      "id": "-7D9WzS2axIh",
      "metadata": {
        "id": "-7D9WzS2axIh"
      },
      "outputs": [],
      "source": [
        "class Employee:\n",
        "    raise_amount = 1.04\n",
        "\n",
        "    def __init__(self, first, last, pay):\n",
        "        self.first = first\n",
        "        self.last = last\n",
        "        self.pay = pay\n",
        "        self.email = f'{first}.{last}@company.com'\n",
        "\n",
        "    def fullname(self):\n",
        "        return f'{self.first} {self.last}'\n",
        "\n",
        "    def apply_raise(self):\n",
        "        self.pay = int(self.pay * self.raise_amount)\n",
        "\n",
        "    @classmethod\n",
        "    def set_raise_amount(cls, new_raise_amount):\n",
        "        cls.raise_amount = new_raise_amount"
      ]
    },
    {
      "cell_type": "markdown",
      "id": "b4qgBYrXa2DM",
      "metadata": {
        "id": "b4qgBYrXa2DM"
      },
      "source": [
        "Znovu vytvoříme dva zaměstnance. Hodnota jejich zvýšení platu\n",
        " může být kontrolována pomocí třídy nebo každého z objektů, protože ani jeden z nich nepřepisuje výchozí hodnotu třídy."
      ]
    },
    {
      "cell_type": "code",
      "execution_count": null,
      "id": "hIo81ZGva4q0",
      "metadata": {
        "id": "hIo81ZGva4q0"
      },
      "outputs": [],
      "source": [
        "wisniewska = Employee('Anna', 'Wisniewska', 6000)\n",
        "kowalski = Employee('Jan', 'Kowalski', 3000)"
      ]
    },
    {
      "cell_type": "code",
      "execution_count": null,
      "id": "8Orqp7lPYc_a",
      "metadata": {
        "colab": {
          "base_uri": "https://localhost:8080/"
        },
        "id": "8Orqp7lPYc_a",
        "outputId": "eeb1929e-9281-4512-ae84-20999527b172"
      },
      "outputs": [
        {
          "data": {
            "text/plain": [
              "(1.04, 1.04, 1.04)"
            ]
          },
          "execution_count": 74,
          "metadata": {},
          "output_type": "execute_result"
        }
      ],
      "source": [
        "Employee.raise_amount, wisniewska.raise_amount, kowalski.raise_amount"
      ]
    },
    {
      "cell_type": "markdown",
      "id": "sx7XaZH3YBoy",
      "metadata": {
        "id": "sx7XaZH3YBoy"
      },
      "source": [
        "Změníme hodnotu tohoto atributu třídy voláním metody Employee.set_raise_amount().\n",
        "\n",
        "Změnu hodnoty můžeme pozorovat u objektů třídy."
      ]
    },
    {
      "cell_type": "code",
      "execution_count": null,
      "id": "8zNfUcYrYYbX",
      "metadata": {
        "id": "8zNfUcYrYYbX"
      },
      "outputs": [],
      "source": [
        "Employee.set_raise_amount(1.05)"
      ]
    },
    {
      "cell_type": "code",
      "execution_count": null,
      "id": "IgPlMNZWYiIA",
      "metadata": {
        "colab": {
          "base_uri": "https://localhost:8080/"
        },
        "id": "IgPlMNZWYiIA",
        "outputId": "7f1d9809-7c98-4bfa-e125-9c9cc5238482"
      },
      "outputs": [
        {
          "data": {
            "text/plain": [
              "(1.05, 1.05, 1.05)"
            ]
          },
          "execution_count": 77,
          "metadata": {},
          "output_type": "execute_result"
        }
      ],
      "source": [
        "Employee.raise_amount, wisniewska.raise_amount, kowalski.raise_amount"
      ]
    },
    {
      "cell_type": "markdown",
      "id": "JID0No3OYX12",
      "metadata": {
        "id": "JID0No3OYX12"
      },
      "source": [
        "Hodnotu zvýšení můžeme opět změnit tím, že zavoláme metodu třídy na jednom z objektů (i když to není dobrá praxe, protože to může být matoucí pro ostatní vývojáře a mohli by si myslet, že pracujeme s běžnou metodou).\n",
        "\n",
        "Zde se také změna atributu raise_amount odráží jak v instancích, tak v samotné třídě.\n"
      ]
    },
    {
      "cell_type": "code",
      "execution_count": null,
      "id": "qtKygSvwYwvX",
      "metadata": {
        "id": "qtKygSvwYwvX"
      },
      "outputs": [],
      "source": [
        "wisniewska.set_raise_amount(1.30)"
      ]
    },
    {
      "cell_type": "code",
      "execution_count": null,
      "id": "hUlR4j6dYwAD",
      "metadata": {
        "colab": {
          "base_uri": "https://localhost:8080/"
        },
        "id": "hUlR4j6dYwAD",
        "outputId": "65cb8d68-98ca-4157-bb15-e692f2d2895c"
      },
      "outputs": [
        {
          "data": {
            "text/plain": [
              "(1.3, 1.3, 1.3)"
            ]
          },
          "execution_count": 79,
          "metadata": {},
          "output_type": "execute_result"
        }
      ],
      "source": [
        "Employee.raise_amount, wisniewska.raise_amount, kowalski.raise_amount"
      ]
    },
    {
      "cell_type": "markdown",
      "id": "pJ4O2dhpa5IT",
      "metadata": {
        "id": "pJ4O2dhpa5IT"
      },
      "source": [
        "<img src=\"https://drive.google.com/uc?export=view&id=141XOz6N4nk8Ru1sAl7vOsAToCLrSFCAX\" alt=\"SDA logo\" width=\"150\" align='right'/>\n",
        "\n",
        "## Statické metody\n",
        "\n",
        "Kromě běžných metod a metod třídy existují také **statické metody** - tedy metody, které by mohli existovat mimo třídu (nemanipulují žádné její atributy ani nevolají její metody), ale souvisejí s třídou, kde jsou nakonec umístěny.\n",
        "\n",
        "Pro definování statické metody použijte dekorátor `@staticmethod`.\n",
        "* Naše ukázková metoda odpovídá na otázku, zda je daný den pracovním dnem, takže má přímý vztah k třídě zaměstnance (Employee).\n",
        "* Všimněte si, že jakákoli statická metoda může být přenesena z třídy přímo do modulu, ve kterém se nachází (jako samostatná funkce).\n",
        "* Funkce uprostřed modulu (více o modulech později) je již v jeho jmenném prostoru (ve viditelném rozsahu daného souboru / funkce / třídy) - takže se můžeme ptát, má smysl umístit ji do jmenného prostoru třídy?\n",
        "* Odpověď na tuto otázku je obvykle ne, takže před použitím mechanismu 'staticmethod' byste měli pečlivě zvážit, zda máme dostatečně silný důvod.\n",
        "* Na rozdíl od obou výše uvedených nemá statická metoda žádné automaticky přidané argumenty, žádné self a žádné cls.\n",
        "* To znamená, že statické metody se chovají přesně jako normální funkce, s tím rozdílem, že jsou definovány uvnitř třídy.\n",
        "* Definujeme je uvnitř třídy, protože vidíme nějaký logický vztah mezi tím, co třída a naše statická metoda dělají."
      ]
    },
    {
      "cell_type": "code",
      "execution_count": null,
      "id": "OZb9xgpAa_W1",
      "metadata": {
        "id": "OZb9xgpAa_W1"
      },
      "outputs": [],
      "source": [
        "class Employee:\n",
        "    raise_amount = 1.04\n",
        "\n",
        "    def __init__(self, first, last, pay):\n",
        "        self.first = first\n",
        "        self.last = last\n",
        "        self.pay = pay\n",
        "        self.email = f'{first}.{last}@company.com'\n",
        "\n",
        "    def fullname(self):\n",
        "        return f'{self.first} {self.last}'\n",
        "\n",
        "    def apply_raise(self):\n",
        "        self.pay = int(self.pay * self.raise_amount)\n",
        "\n",
        "\n",
        "    @classmethod\n",
        "    def set_raise_amount(cls, new_raise_amount):\n",
        "        cls.raise_amount = new_raise_amount\n",
        "\n",
        "    @staticmethod\n",
        "    def is_workday(day):\n",
        "        return day.weekday() not in (5, 6)"
      ]
    },
    {
      "cell_type": "code",
      "execution_count": null,
      "id": "d-yB440qZPDy",
      "metadata": {
        "colab": {
          "base_uri": "https://localhost:8080/"
        },
        "id": "d-yB440qZPDy",
        "outputId": "884c02b4-e53f-4842-943b-2bdaf419f235"
      },
      "outputs": [
        {
          "data": {
            "text/plain": [
              "True"
            ]
          },
          "execution_count": 81,
          "metadata": {},
          "output_type": "execute_result"
        }
      ],
      "source": [
        "from datetime import datetime\n",
        "\n",
        "Employee.is_workday(datetime.now())"
      ]
    },
    {
      "cell_type": "markdown",
      "id": "vxMVBCjna_ww",
      "metadata": {
        "id": "vxMVBCjna_ww"
      },
      "source": [
        "<img src=\"https://drive.google.com/uc?export=view&id=141XOz6N4nk8Ru1sAl7vOsAToCLrSFCAX\" alt=\"SDA logo\" width=\"150\" align='right'/>\n",
        "\n",
        "## Dědičnost\n",
        "\n",
        "**<font color='#ed7d31'>Dědičnost</font>** je mechanismus objektově orientovaného programování, který umožňuje **<font color='#98100e'>dědícím třídám/podtřídám (child classes, subclasses) </font>** zdědit metody a atributy ze **<font color='#98100e'>základních tříd (superclass, baseclass)</font>**.\n",
        "\n",
        "**Příklad 1**\n",
        "* Můžete říct, že dědičnost vyjadřuje vztah kde podtřída \"je typem\" své rodičovské třídy. Například, pokud `class Car` zdědí z `class Vehicle`, znamená to, že Car je typ vozidla.\n",
        "\n",
        "**Příklad 2**\n",
        "* V dalším příkladu třída `Developer` se zdá prakticky prázdná. Nicméně, protože dědí z třídy `Employee`, má přesně všechny atributy (`first, last, pay, email, atd.`), které má `class Employee`.\n",
        "* Z hlediska významu to také dává smysl: programátor je druh zaměstnance.\n",
        "\n",
        "Dědičná třída může **<font color='#98100e'>přepsat hodnoty atributů</font>** a **<font color='#98100e'>změnit chování metod</font>**, které zdědila ze základní třídy.\n",
        "* Například, pokud se rozhodneme, že vývojáři by měli dostávat větší zvýšení než ostatní zaměstnanci, nastavíme třídní proměnnou raise_amount na hodnotu 1.10 ve třídě Developer. Hodnota pro třídu Employee byla 1.04.\n",
        "```python\n",
        "class Developer(Employee):\n",
        "    raise_amount = 1.10\n",
        "```\n",
        "\n",
        "> Pokud jste se seznámili s **PyCharmem**, můžete si všimnout, že pro každou zděděnou vlastnost, která byla přepsána, je zobrazena ikona vlevo, která vám umožní přecházet mezi definicí této vlastnosti ve zděděné a základní třídě.\n"
      ]
    },
    {
      "cell_type": "markdown",
      "id": "Nk8x-UW2bSRm",
      "metadata": {
        "id": "Nk8x-UW2bSRm"
      },
      "source": [
        "Kromě zděděných atributů a metod základní třídy může být **<font color='#98100e'>odvozená třída obohacena</font>** o své vlastní atributy a metody, charakteristické pouze pro ni.\n",
        "\n",
        "* V našem příkladu dává smysl definovat atribut pro programátora, který určuje jeho hlavní programovací jazyk.\n",
        "\n",
        "```python\n",
        "class Developer(Employee):\n",
        "    raise_amount = 1.10\n",
        "    programming_language = \"Python\"\n",
        "```\n",
        "\n",
        "* Vzhledem k tomu, že v základní třídě neexistuje takový atribut, budeme také muset poskytnout vlastní implementaci metody `__init__()` pro možnost vytvoření nového objektu.\n",
        "\n",
        "```python\n",
        "class Developer(Employee):\n",
        "    raise_amount = 1.10\n",
        "\n",
        "    def __init__(programming_language=\"Python\"):\n",
        "        self.programming_language = programming_language\n",
        "        \n",
        "```\n",
        "\n",
        "* Nicméně, nebudeme kopírovat kód ze základní třídy, který přiřazuje hodnoty k atributům first, last a pay, protože bychom tak porušili princip **<font color='#98100e'>DRY (neopakuj se)</font>**.\n",
        "* Místo toho ve třídě odvozené třídy v metodě `__init__()` voláme metodu `__init__()` základní třídy.\n",
        "* Každá základní třída má \"návratovou adresu\" ke svému rodiči, to je voláno `super`. V tomto případě `super().__ init__()` znamená: zavolej metodu `__init__()` základní třídy.\n",
        "\n",
        "```python\n",
        "    class Developer(Employee):\n",
        "        raise_amount = 1.10\n",
        "\n",
        "        def __init__(self, first, last, pay, programming_language=\"Python\"):\n",
        "            super().__init__(first, last, pay)\n",
        "            self.programming_language = programming_language\n",
        "        ...\n",
        "```\n",
        "\n",
        "Tímto způsobem se vyhneme duplikaci kódu. Metoda `__init__()` odvozené třídy volá metodu `__init__()` základní třídy a předává jí tři očekávané argumenty: `first, last a pay`. Ale také nastavuje nový atribut s názvem `programming_language`."
      ]
    },
    {
      "cell_type": "markdown",
      "id": "mUnz-CulbUTu",
      "metadata": {
        "id": "mUnz-CulbUTu"
      },
      "source": [
        "**<font color='#306998'>Vytvořme novou </font><br><font color='#ffd33b'>třídu Manager</font>**\n",
        "\n",
        "Manager je typ zaměstnance, ale zároveň se od něj liší tím, že přijímá seznam podřízených. Třída `Manager` také poskytuje metody pro přidání nového podřízeného, odstranění stávajícího podřízeného ze seznamu a pro výpis podřízených."
      ]
    },
    {
      "cell_type": "code",
      "execution_count": null,
      "id": "RTlXMkflbV_0",
      "metadata": {
        "id": "RTlXMkflbV_0"
      },
      "outputs": [],
      "source": [
        "class Manager(Employee):\n",
        "    def __init__(self, first, last, pay, employees=None):\n",
        "        super().__init__(first, last, pay)\n",
        "        if not employees:\n",
        "            self.employees = set()\n",
        "        else:\n",
        "            self.employees = employees\n",
        "\n",
        "    def add_employee(self, employee):\n",
        "        self.employees.add(employee)\n",
        "\n",
        "    def remove_employee(self, employee):\n",
        "        if employees in self.employees:\n",
        "            self.employees.remove(employee)\n",
        "\n",
        "    def print_employees(self):\n",
        "        for employee in self.employees:\n",
        "            print(employee.fullname())\n"
      ]
    },
    {
      "cell_type": "code",
      "execution_count": null,
      "id": "IoChDSCmQvRU",
      "metadata": {
        "id": "IoChDSCmQvRU"
      },
      "outputs": [],
      "source": [
        "wisniewska = Employee('Anna', 'Wisniewska', 6000)\n",
        "kowalski = Employee('Jan', 'Kowalski', 3000)\n",
        "\n",
        "michalska = Manager('Magdalena', 'Michalska', 20000, {wisniewska, kowalski})"
      ]
    },
    {
      "cell_type": "code",
      "execution_count": null,
      "id": "EcGVpdGrrodd",
      "metadata": {
        "colab": {
          "base_uri": "https://localhost:8080/"
        },
        "id": "EcGVpdGrrodd",
        "outputId": "9d85e9b3-2106-4da6-a5f9-e0068e8dfd7d"
      },
      "outputs": [
        {
          "name": "stdout",
          "output_type": "stream",
          "text": [
            "Jan Kowalski\n",
            "Anna Wisniewska\n"
          ]
        }
      ],
      "source": [
        "michalska.print_employees()"
      ]
    },
    {
      "cell_type": "code",
      "execution_count": null,
      "id": "viBPNx0CsDtW",
      "metadata": {
        "id": "viBPNx0CsDtW"
      },
      "outputs": [],
      "source": [
        "michalska.apply_raise()"
      ]
    },
    {
      "cell_type": "code",
      "execution_count": null,
      "id": "5CAcb8a1sGxB",
      "metadata": {
        "colab": {
          "base_uri": "https://localhost:8080/"
        },
        "id": "5CAcb8a1sGxB",
        "outputId": "b933a877-da7e-428d-e804-cd8eb6c8a4a3"
      },
      "outputs": [
        {
          "data": {
            "text/plain": [
              "20800"
            ]
          },
          "execution_count": 86,
          "metadata": {},
          "output_type": "execute_result"
        }
      ],
      "source": [
        "michalska.pay"
      ]
    },
    {
      "cell_type": "markdown",
      "id": "I3yg5slqbWT_",
      "metadata": {
        "id": "I3yg5slqbWT_"
      },
      "source": [
        "#### **<font color='#98100e'>Co nám dává dědičnost?</font>**\n",
        "\n",
        "<img src=\"https://drive.google.com/uc?export=view&id=1Dg3yHp4mMkyGrrw6rHRthIwbq6B2Zz5k\" alt=\"OOP: dědičnost\" title=\"Objektově orientované programování: dědičnost\" align=\"right\" width=\"400px\" hspace=\"20px\" vspace=\"10px\"/>\n",
        "\n",
        "* V našem příkladu `class Developer` explicitně definuje pouze věci specifické pro `programátora` (např. programovací jazyk).\n",
        "* Naopak `class Manager` má pouze metody specifické pro manažery, tj. přidání a odebrání zaměstnanců a odhlášení všech zaměstnanců.\n",
        "* Ovšem obě třídy také mají plnou funkcionalitu běžného `zaměstnance` - každý má výplatu, firemní email atd. Nemuseli jsme tyto věci pro každou podtřídu definovat znovu - tak jsme si ušetřili psaní kódu.\n",
        "\n",
        "Navíc je společný kód na jednom místě - v základní třídě `Employee`, takže pokud změníme chování nějaké metody charakteristické pro zaměstnance (např. vytvoření emailové adresy), nové chování se automaticky replikuje do všech tříd dědících z `Employee`.\n",
        "\n",
        "To znamená, že náš kód je také **snazší na údržbu**."
      ]
    },
    {
      "cell_type": "markdown",
      "id": "YMIV9dxYbYOG",
      "metadata": {
        "id": "YMIV9dxYbYOG"
      },
      "source": [
        "<img src=\"https://drive.google.com/uc?export=view&id=141XOz6N4nk8Ru1sAl7vOsAToCLrSFCAX\" alt=\"SDA logo\" width=\"150\" align='right'/>\n",
        "\n",
        "<img src=\"https://drive.google.com/uc?export=view&id=1Td1eB9G3fNzfc1PEcj7VlaBTgopIpzl5\" alt=\"OOP: privátní atributy\" title=\"Objektově orientované programování: privátní atributy\" align=\"left\" width=\"100px\" hspace=\"30px\" vspace=\"10px\"/>\n",
        "\n",
        "## Privátní atributy\n",
        "\n",
        "Mnoho jazyků má tzv. **<font color='#98100e'>kontrolu přístupu</font>**. To znamená, že některé atributy a metody ve třídě jsou privátní a nemohou být přístupné zvenčí třídy.\n",
        "\n",
        "<br>\n",
        "\n",
        "V Pythonu můžete dosáhnout podobné funkcionality tím, že začnete název atributu nebo metody jedním nebo dvěma podtržítky `_`.\n",
        "\n",
        "* Podtržítko je však pouze konvence, která informuje vývojáře -\n",
        "> \"Toto je privátní funkce/atribut, pokud ji voláte přímo, děláte tak na vlastní nebezpečí, protože v další verzi může zmizet nebo se chovat jinak než nyní\"\n",
        "\n",
        "* Třída `Car` umožňuje pouze veřejný přístup k metodě `.start()`. Pod touto metodou se provádí připnutí bezpečnostních pásů, uvolnění ruční brzdy a nastartování motoru. V další verzi implementace třídy `Car` možná zmizí potřeba bezpečnostních pásů a privátní metoda `_fasten_seatbelts()` bude odstraněna. Pokud používáme pouze veřejné metody, nemusíme se o to starat."
      ]
    },
    {
      "cell_type": "code",
      "execution_count": null,
      "id": "nEkHGj2XbcZ4",
      "metadata": {
        "id": "nEkHGj2XbcZ4"
      },
      "outputs": [],
      "source": [
        "class Car:\n",
        "\n",
        "    def __init__(self):\n",
        "        self._engine = Engine()\n",
        "        self._seatbelts = []\n",
        "        for i in range(4):\n",
        "            self._seatbelts.append(Belt())\n",
        "        self._handbreak = Break()\n",
        "\n",
        "    def start(self):\n",
        "        self._fasten_seatbelts()\n",
        "        self._release_handbreak()\n",
        "        self._ignite_engine()\n",
        "\n",
        "    def _fasten_seatbelts(self):\n",
        "        if belt in self._seatbelts:\n",
        "            belt.fasten()\n",
        "\n",
        "    def _release_handbreak(self):\n",
        "        self._handbreak.release()\n",
        "\n",
        "    def _ignite_engine(self):\n",
        "        self._engine.ignite()\n",
        "\n",
        "class Engine:\n",
        "    pass\n",
        "\n",
        "class Break:\n",
        "    pass\n",
        "\n",
        "class Belt:\n",
        "    pass"
      ]
    },
    {
      "cell_type": "markdown",
      "id": "GTYpeRhG6uFF",
      "metadata": {
        "id": "GTYpeRhG6uFF"
      },
      "source": [
        "<img src=\"https://drive.google.com/uc?export=view&id=1UO2urRciECzoKE_vHy4RMGfFbkOWOGlW\" alt=\"SDA logo\" align=\"left\" width=\"100px\" hspace=\"10px\" vspace=\"10px\"/>\n",
        "\n",
        "# Iterátory a generátory\n",
        "\n",
        "<br><br>Jak již víme, Python má několik objektů, které implementují iterační protokol."
      ]
    },
    {
      "cell_type": "code",
      "execution_count": null,
      "id": "URq5mxPI6tqN",
      "metadata": {
        "colab": {
          "base_uri": "https://localhost:8080/"
        },
        "id": "URq5mxPI6tqN",
        "outputId": "761aa081-a4b5-461f-d27f-51d9679be43e"
      },
      "outputs": [
        {
          "name": "stdout",
          "output_type": "stream",
          "text": [
            "1\n",
            "2\n",
            "3\n",
            "4\n"
          ]
        }
      ],
      "source": [
        "a = [1, 2, 3, 4]\n",
        "for item in a:\n",
        "    print(item)"
      ]
    },
    {
      "cell_type": "code",
      "execution_count": null,
      "id": "QrK-du_6Fkue",
      "metadata": {
        "colab": {
          "base_uri": "https://localhost:8080/"
        },
        "id": "QrK-du_6Fkue",
        "outputId": "656d4943-d904-43e2-f8f1-1b9c6cfa0b0e"
      },
      "outputs": [
        {
          "name": "stdout",
          "output_type": "stream",
          "text": [
            "A l i c e   h a s   a   c a t "
          ]
        }
      ],
      "source": [
        "a = \"Alice has a cat\"\n",
        "for item in a:\n",
        "    print(item, end=\" \")"
      ]
    },
    {
      "cell_type": "code",
      "execution_count": null,
      "id": "zrQ2wPhxFozs",
      "metadata": {
        "colab": {
          "base_uri": "https://localhost:8080/"
        },
        "id": "zrQ2wPhxFozs",
        "outputId": "e18b706a-79cb-4d1f-c717-3408342d97f0"
      },
      "outputs": [
        {
          "name": "stdout",
          "output_type": "stream",
          "text": [
            "name\n",
            "surname\n"
          ]
        }
      ],
      "source": [
        "a={'name': 'Adam', 'surname': 'Smith'}\n",
        "for item in a:\n",
        "    print(item)"
      ]
    },
    {
      "cell_type": "markdown",
      "id": "h2IyuXbdF3qw",
      "metadata": {
        "id": "h2IyuXbdF3qw"
      },
      "source": [
        "## Iterace přes velké kolekce\n",
        "\n",
        "Co když chceme iterovat přes jeden milion prvočísel? Pro toto provedení nejprve vytvoříme seznam obsahující jeden milion prvočísel a poté ho projdeme iterativně. Kolik iterací zde máme? Je toto optimální řešení?"
      ]
    },
    {
      "cell_type": "code",
      "execution_count": null,
      "id": "d-bJac7bGAbk",
      "metadata": {
        "colab": {
          "base_uri": "https://localhost:8080/",
          "height": 380
        },
        "id": "d-bJac7bGAbk",
        "outputId": "559f20f4-5a0f-41ce-f668-4fef89741a27"
      },
      "outputs": [
        {
          "ename": "KeyboardInterrupt",
          "evalue": "ignored",
          "output_type": "error",
          "traceback": [
            "\u001b[0;31m---------------------------------------------------------------------------\u001b[0m",
            "\u001b[0;31mKeyboardInterrupt\u001b[0m                         Traceback (most recent call last)",
            "\u001b[0;32m<ipython-input-80-5a97d9da029d>\u001b[0m in \u001b[0;36m<cell line: 17>\u001b[0;34m()\u001b[0m\n\u001b[1;32m     15\u001b[0m     \u001b[0;32mreturn\u001b[0m \u001b[0mprimes\u001b[0m\u001b[0;34m\u001b[0m\u001b[0;34m\u001b[0m\u001b[0m\n\u001b[1;32m     16\u001b[0m \u001b[0;34m\u001b[0m\u001b[0m\n\u001b[0;32m---> 17\u001b[0;31m \u001b[0mlst\u001b[0m \u001b[0;34m=\u001b[0m \u001b[0mget_n_primes\u001b[0m\u001b[0;34m(\u001b[0m\u001b[0;36m1000000\u001b[0m\u001b[0;34m)\u001b[0m  \u001b[0;31m# also 1e6 or 1'000'000\u001b[0m\u001b[0;34m\u001b[0m\u001b[0;34m\u001b[0m\u001b[0m\n\u001b[0m\u001b[1;32m     18\u001b[0m \u001b[0;32mfor\u001b[0m \u001b[0melem\u001b[0m \u001b[0;32min\u001b[0m \u001b[0mlst\u001b[0m\u001b[0;34m:\u001b[0m\u001b[0;34m\u001b[0m\u001b[0;34m\u001b[0m\u001b[0m\n\u001b[1;32m     19\u001b[0m     \u001b[0mprint\u001b[0m\u001b[0;34m(\u001b[0m\u001b[0melem\u001b[0m\u001b[0;34m)\u001b[0m\u001b[0;34m\u001b[0m\u001b[0;34m\u001b[0m\u001b[0m\n",
            "\u001b[0;32m<ipython-input-80-5a97d9da029d>\u001b[0m in \u001b[0;36mget_n_primes\u001b[0;34m(n)\u001b[0m\n\u001b[1;32m     10\u001b[0m     \u001b[0mi\u001b[0m \u001b[0;34m=\u001b[0m \u001b[0;36m2\u001b[0m\u001b[0;34m\u001b[0m\u001b[0;34m\u001b[0m\u001b[0m\n\u001b[1;32m     11\u001b[0m     \u001b[0;32mwhile\u001b[0m \u001b[0mlen\u001b[0m\u001b[0;34m(\u001b[0m\u001b[0mprimes\u001b[0m\u001b[0;34m)\u001b[0m \u001b[0;34m!=\u001b[0m \u001b[0mn\u001b[0m\u001b[0;34m:\u001b[0m\u001b[0;34m\u001b[0m\u001b[0;34m\u001b[0m\u001b[0m\n\u001b[0;32m---> 12\u001b[0;31m         \u001b[0;32mif\u001b[0m \u001b[0mis_prime\u001b[0m\u001b[0;34m(\u001b[0m\u001b[0mi\u001b[0m\u001b[0;34m)\u001b[0m\u001b[0;34m:\u001b[0m\u001b[0;34m\u001b[0m\u001b[0;34m\u001b[0m\u001b[0m\n\u001b[0m\u001b[1;32m     13\u001b[0m             \u001b[0mprimes\u001b[0m\u001b[0;34m.\u001b[0m\u001b[0mappend\u001b[0m\u001b[0;34m(\u001b[0m\u001b[0mi\u001b[0m\u001b[0;34m)\u001b[0m\u001b[0;34m\u001b[0m\u001b[0;34m\u001b[0m\u001b[0m\n\u001b[1;32m     14\u001b[0m         \u001b[0mi\u001b[0m \u001b[0;34m+=\u001b[0m \u001b[0;36m1\u001b[0m\u001b[0;34m\u001b[0m\u001b[0;34m\u001b[0m\u001b[0m\n",
            "\u001b[0;32m<ipython-input-80-5a97d9da029d>\u001b[0m in \u001b[0;36mis_prime\u001b[0;34m(n)\u001b[0m\n\u001b[1;32m      2\u001b[0m \u001b[0;32mdef\u001b[0m \u001b[0mis_prime\u001b[0m\u001b[0;34m(\u001b[0m\u001b[0mn\u001b[0m\u001b[0;34m)\u001b[0m\u001b[0;34m:\u001b[0m\u001b[0;34m\u001b[0m\u001b[0;34m\u001b[0m\u001b[0m\n\u001b[1;32m      3\u001b[0m     \u001b[0;32mfor\u001b[0m \u001b[0mi\u001b[0m \u001b[0;32min\u001b[0m \u001b[0mrange\u001b[0m\u001b[0;34m(\u001b[0m\u001b[0;36m2\u001b[0m\u001b[0;34m,\u001b[0m \u001b[0mint\u001b[0m\u001b[0;34m(\u001b[0m\u001b[0msqrt\u001b[0m\u001b[0;34m(\u001b[0m\u001b[0mn\u001b[0m\u001b[0;34m)\u001b[0m\u001b[0;34m)\u001b[0m \u001b[0;34m+\u001b[0m \u001b[0;36m1\u001b[0m\u001b[0;34m)\u001b[0m\u001b[0;34m:\u001b[0m\u001b[0;34m\u001b[0m\u001b[0;34m\u001b[0m\u001b[0m\n\u001b[0;32m----> 4\u001b[0;31m         \u001b[0;32mif\u001b[0m \u001b[0mn\u001b[0m \u001b[0;34m%\u001b[0m \u001b[0mi\u001b[0m \u001b[0;34m==\u001b[0m \u001b[0;36m0\u001b[0m\u001b[0;34m:\u001b[0m\u001b[0;34m\u001b[0m\u001b[0;34m\u001b[0m\u001b[0m\n\u001b[0m\u001b[1;32m      5\u001b[0m             \u001b[0;32mreturn\u001b[0m \u001b[0;32mFalse\u001b[0m\u001b[0;34m\u001b[0m\u001b[0;34m\u001b[0m\u001b[0m\n\u001b[1;32m      6\u001b[0m     \u001b[0;32mreturn\u001b[0m \u001b[0;32mTrue\u001b[0m\u001b[0;34m\u001b[0m\u001b[0;34m\u001b[0m\u001b[0m\n",
            "\u001b[0;31mKeyboardInterrupt\u001b[0m: "
          ]
        }
      ],
      "source": [
        "from math import sqrt\n",
        "\n",
        "def is_prime(n):\n",
        "    for i in range(2, int(sqrt(n)) + 1):\n",
        "        if n % i == 0:\n",
        "            return False\n",
        "    return True\n",
        "\n",
        "def get_n_primes(n):\n",
        "    primes = []\n",
        "    i = 2\n",
        "    while len(primes) != n:\n",
        "        if is_prime(i):\n",
        "            primes.append(i)\n",
        "        i += 1\n",
        "    return primes\n",
        "\n",
        "lst = get_n_primes(1000000)  # also 1e6 or 1'000'000\n",
        "for elem in lst:\n",
        "    print(elem)"
      ]
    },
    {
      "cell_type": "markdown",
      "id": "nl_Nl5FRGvgw",
      "metadata": {
        "id": "nl_Nl5FRGvgw"
      },
      "source": [
        "Nemohl by existovat způsob, jak **neuchovávat všechny položky v paměti** (tzn. nepřidělovat velké množství paměti velké kolekci hodnot), ale pamatovat si, které číslo bylo naposledy vygenerováno a vrátit další na základě tohoho údaje?\n",
        "\n",
        "Existuje, nazýváme to **iterátor**. Je to třída, která implementuje iterativní protokol, tj. má metody __iter__, __next__ a vyvolá výjimku __StopIteration__ na konci iterování, kdy už nelze vrátit žádnou další položku."
      ]
    },
    {
      "cell_type": "code",
      "execution_count": null,
      "id": "1M3cm_D1HBYm",
      "metadata": {
        "colab": {
          "base_uri": "https://localhost:8080/"
        },
        "id": "1M3cm_D1HBYm",
        "outputId": "77cd95b4-4b24-478a-e014-71ba41ac970e"
      },
      "outputs": [
        {
          "name": "stdout",
          "output_type": "stream",
          "text": [
            "2\n",
            "3\n",
            "5\n",
            "7\n",
            "11\n",
            "13\n",
            "17\n",
            "19\n",
            "23\n",
            "29\n"
          ]
        }
      ],
      "source": [
        "from typing_extensions import Self\n",
        "class PrimeIterator:\n",
        "    # iterator that allows to iterate over n primes\n",
        "    def __init__(self, n):\n",
        "        self.n = n\n",
        "        self.generated_numbers = 0\n",
        "        self.number = 1\n",
        "\n",
        "    def __iter__(self):\n",
        "        return self\n",
        "\n",
        "    def __next__(self):\n",
        "        self.number += 1\n",
        "        if self.generated_numbers >= self.n:\n",
        "            raise StopIteration\n",
        "        elif is_prime(self.number):\n",
        "            self.generated_numbers += 1\n",
        "            return self.number\n",
        "        return self.__next__()\n",
        "\n",
        "iter = PrimeIterator(10)\n",
        "for elem in iter:\n",
        "    print(elem)"
      ]
    },
    {
      "cell_type": "markdown",
      "id": "jHS2-a-OIOMz",
      "metadata": {
        "id": "jHS2-a-OIOMz"
      },
      "source": [
        "Jak se tato řešení liší od předchozího?"
      ]
    },
    {
      "cell_type": "code",
      "execution_count": null,
      "id": "O1O28yW2H-Oe",
      "metadata": {
        "colab": {
          "base_uri": "https://localhost:8080/"
        },
        "id": "O1O28yW2H-Oe",
        "outputId": "079f728b-40a8-46f7-f340-c4cec0ba5313"
      },
      "outputs": [
        {
          "data": {
            "text/plain": [
              "2"
            ]
          },
          "execution_count": 90,
          "metadata": {},
          "output_type": "execute_result"
        }
      ],
      "source": [
        "iter = PrimeIterator(1e6)\n",
        "\n",
        "iter.__next__()"
      ]
    },
    {
      "cell_type": "code",
      "execution_count": null,
      "id": "qeNOTBQsIB-c",
      "metadata": {
        "colab": {
          "base_uri": "https://localhost:8080/"
        },
        "id": "qeNOTBQsIB-c",
        "outputId": "67a4fce0-6fe2-4a6f-84ee-90f7de36bb0b"
      },
      "outputs": [
        {
          "data": {
            "text/plain": [
              "3"
            ]
          },
          "execution_count": 91,
          "metadata": {},
          "output_type": "execute_result"
        }
      ],
      "source": [
        "next(iter)"
      ]
    },
    {
      "cell_type": "markdown",
      "id": "fTTiT6xJISHF",
      "metadata": {
        "id": "fTTiT6xJISHF"
      },
      "source": [
        "Podobnou optimalizaci paměti můžeme dosáhnout i s pomocí generátorů. Generátor je funkce, která používá klíčové slovo `yield`, pomocí kterého \"produkuje\" hodnotu (alternativa k return).\n",
        "\n",
        "`yield` můžeme chápat jako příkaz return, s tím rozdílem, že zde **vracíme hodnotu a ukládáme stav funkce**, tj. ukládáme hodnoty jejích proměnných do paměti v každé iteraci."
      ]
    },
    {
      "cell_type": "code",
      "execution_count": null,
      "id": "boFL9DynIZMF",
      "metadata": {
        "colab": {
          "base_uri": "https://localhost:8080/"
        },
        "id": "boFL9DynIZMF",
        "outputId": "8bc05bfa-17ad-471e-cd1f-332cc43e0b6d"
      },
      "outputs": [
        {
          "name": "stdout",
          "output_type": "stream",
          "text": [
            "2\n",
            "3\n",
            "5\n",
            "7\n",
            "11\n",
            "13\n",
            "17\n",
            "19\n",
            "23\n",
            "29\n"
          ]
        }
      ],
      "source": [
        "def prime_generator(n):\n",
        "    # generator for iterating over n primes\n",
        "    number = 2\n",
        "    generated_numbers = 0\n",
        "    while generated_numbers != n:\n",
        "        if is_prime(number):\n",
        "            yield number\n",
        "            generated_numbers += 1\n",
        "        number += 1\n",
        "\n",
        "gen = prime_generator(10)\n",
        "for elem in gen:\n",
        "    print(elem)"
      ]
    },
    {
      "cell_type": "code",
      "execution_count": null,
      "id": "FDBqW37iIw3A",
      "metadata": {
        "colab": {
          "base_uri": "https://localhost:8080/"
        },
        "id": "FDBqW37iIw3A",
        "outputId": "ac528635-dcab-4f6b-a355-85c1584b6d13"
      },
      "outputs": [
        {
          "data": {
            "text/plain": [
              "2"
            ]
          },
          "execution_count": 94,
          "metadata": {},
          "output_type": "execute_result"
        }
      ],
      "source": [
        "gen = prime_generator(1e6)\n",
        "next(gen)"
      ]
    },
    {
      "cell_type": "markdown",
      "id": "_vQH4e82inty",
      "metadata": {
        "id": "_vQH4e82inty"
      },
      "source": [
        "<img src=\"https://drive.google.com/uc?export=view&id=1UO2urRciECzoKE_vHy4RMGfFbkOWOGlW\" alt=\"SDA logo\" align=\"left\" width=\"100px\" hspace=\"10px\" vspace=\"10px\"/>\n",
        "<br>\n",
        "\n",
        "# Testování\n",
        "\n",
        "<br><br>\n",
        "Testování softwaru je součástí **<font color='#98100e'>procesu zajištění kvality</font>**. Testování ověřuje správnost vytvořeného softwaru a validuje, zda daný systém splňuje potřeby zákazníka. Nejčastěji je přímo spojováno s prací testerů, avšak provádí se po celou dobu vývoje softwaru.\n",
        "\n",
        "> **<font color='#98100e'>VERIFIKACE</font>** - určení, zda jsme postavili řešení v souladu s našimi předpoklady.\n",
        "\n",
        "> **<font color='#98100e'>VALIDACE</font>** - určení, zda zákazník obdržel produkt, který si objednal."
      ]
    },
    {
      "cell_type": "markdown",
      "id": "Hp3YCvFZzN2l",
      "metadata": {
        "id": "Hp3YCvFZzN2l"
      },
      "source": [
        "## **<font color='#70ad47'>Proč je testování důležité?</font>**\n",
        "\n",
        "Předpokládejme, že každá osoba používající software se setkala se stejnou situací, kdy program nefunguje správně. Cena jednoho selhání v běžném životě může být (mimo jiné, další):\n",
        "* nula - nevíme, že pozorované chování je selhání, a/nebo nám to nevadí\n",
        "* vysoká - obrovská finanční/časová ztráta\n",
        "* extrémně vysoká - negativní vliv na lidské zdraví nebo život, nebo poškození životního prostředí"
      ]
    },
    {
      "cell_type": "markdown",
      "id": "FY0TNnL-itjk",
      "metadata": {
        "id": "FY0TNnL-itjk"
      },
      "source": [
        "### Skupiny a typy testů\n",
        "\n",
        "Rozlišujeme různé skupiny testů:\n",
        "- **<font color='#98100e'>Funkční</font>** - testování funkce vykonávané softwarem\n",
        "- **<font color='#98100e'>Ne-funkční</font>** - testování vlastnosti jako spolehlivost, použitelnost (netestují se přímo funkce)\n",
        "- **<font color='#98100e'>Strukturální</font>** - kontrola struktury nebo architektury systému\n",
        "- **<font color='#98100e'>Související s úpravami</font>** - potvrzení správnosti opravy chyby\n",
        "- **<font color='#98100e'>Údržba</font>** - údržba systému\n",
        "\n",
        "Každá skupina má odlišný účel a důvod, proč se spouští.&nbsp;"
      ]
    },
    {
      "cell_type": "markdown",
      "id": "M1tQimzkiwJE",
      "metadata": {
        "id": "M1tQimzkiwJE"
      },
      "source": [
        "### Úrovně testů\n",
        "\n",
        "<img src=\"https://drive.google.com/uc?export=view&id=1kM1cr2zRD9sUx30duu15YNLHUuRrFE8w\" alt=\"Testy: úrovně\" title=\"Testy: úrovně\" align=\"left\" width=\"350px\" hspace=\"10px\" vspace=\"10px\"/>"
      ]
    },
    {
      "cell_type": "markdown",
      "id": "DSiPPw3Ri7ya",
      "metadata": {
        "id": "DSiPPw3Ri7ya"
      },
      "source": [
        "## unitest\n",
        "\n",
        "`unittest` je vestavěná do standardní knihovny Python a obsahuje jak testovací framework, tak testovací program. JUnit (Java) knihovna byla použita jako inspirace, což ji činí velmi podobnou hlavním testovacím frameworkům populárním v jiných programovacích jazycích.\n",
        "\n",
        "Podporuje:\n",
        "- automatizaci testů\n",
        "- agregaci testů do kolekcí\n",
        "- nezávislost testů na reportingovém frameworku\n",
        "- objektově orientované programování\n",
        "\n",
        "Knihovna `unittest` vyžaduje vytvoření testovacích `test` metod, které jsou obsaženy ve třídě. Třída vytvořená s `unittest` musí být podtřídou `unittest.TestCase` (tedy dědit z ní).\n",
        "\n",
        "```python\n",
        "\n",
        "import unittest\n",
        "\n",
        "class FirstTest(unittest.TestCase):\n",
        "    pass\n",
        "\n",
        "```\n",
        "\n",
        "- `TestCase` - pro jednotlivé testovací případy, porovnává konkrétní výsledek s připravenými testovacími daty\n",
        "- `TestSuite` - kolekce TestCase(s), dalších TestSuite(s) nebo kombinace případů a sestav. Slouží k agregaci testů, které by měly být spuštěny společně.\n",
        "- `TestRunner` - komponenta, která spravuje provádění testů a reportování výsledků uživateli. Testovací program může mít grafické nebo textové rozhraní nebo může vrátit konkrétní hodnotu informující o provedení testů."
      ]
    },
    {
      "cell_type": "code",
      "execution_count": null,
      "id": "zS-n2xGPiprG",
      "metadata": {
        "id": "zS-n2xGPiprG"
      },
      "outputs": [],
      "source": [
        "import unittest\n",
        "\n",
        "class SecondTest(unittest.TestCase):\n",
        "\n",
        "    def test_01_success(self):\n",
        "        print(\"01\")\n",
        "        self.assertEqual(2, 2)\n",
        "\n",
        "    def test_02_failure(self):\n",
        "        print(\"02\")\n",
        "        self.assertEqual(2, 3)"
      ]
    },
    {
      "cell_type": "code",
      "execution_count": null,
      "id": "DlBmibZA3d2p",
      "metadata": {
        "colab": {
          "base_uri": "https://localhost:8080/"
        },
        "id": "DlBmibZA3d2p",
        "outputId": "608a5ca5-48b0-4493-edb3-2428171c3a74"
      },
      "outputs": [
        {
          "name": "stdout",
          "output_type": "stream",
          "text": [
            "01\n"
          ]
        }
      ],
      "source": [
        "SecondTest().test_01_success()"
      ]
    },
    {
      "cell_type": "code",
      "execution_count": null,
      "id": "ZVBf06-B3Xax",
      "metadata": {
        "colab": {
          "base_uri": "https://localhost:8080/",
          "height": 328
        },
        "id": "ZVBf06-B3Xax",
        "outputId": "7957042f-7966-44b9-c939-4e9a510df85c"
      },
      "outputs": [
        {
          "name": "stdout",
          "output_type": "stream",
          "text": [
            "02\n"
          ]
        },
        {
          "ename": "AssertionError",
          "evalue": "2 != 3",
          "output_type": "error",
          "traceback": [
            "\u001b[1;31m---------------------------------------------------------------------------\u001b[0m",
            "\u001b[1;31mAssertionError\u001b[0m                            Traceback (most recent call last)",
            "Cell \u001b[1;32mIn[91], line 1\u001b[0m\n\u001b[1;32m----> 1\u001b[0m \u001b[43mSecondTest\u001b[49m\u001b[43m(\u001b[49m\u001b[43m)\u001b[49m\u001b[38;5;241;43m.\u001b[39;49m\u001b[43mtest_02_failure\u001b[49m\u001b[43m(\u001b[49m\u001b[43m)\u001b[49m\n",
            "Cell \u001b[1;32mIn[89], line 11\u001b[0m, in \u001b[0;36mSecondTest.test_02_failure\u001b[1;34m(self)\u001b[0m\n\u001b[0;32m      9\u001b[0m \u001b[38;5;28;01mdef\u001b[39;00m \u001b[38;5;21mtest_02_failure\u001b[39m(\u001b[38;5;28mself\u001b[39m):\n\u001b[0;32m     10\u001b[0m     \u001b[38;5;28mprint\u001b[39m(\u001b[38;5;124m\"\u001b[39m\u001b[38;5;124m02\u001b[39m\u001b[38;5;124m\"\u001b[39m)\n\u001b[1;32m---> 11\u001b[0m     \u001b[38;5;28;43mself\u001b[39;49m\u001b[38;5;241;43m.\u001b[39;49m\u001b[43massertEqual\u001b[49m\u001b[43m(\u001b[49m\u001b[38;5;241;43m2\u001b[39;49m\u001b[43m,\u001b[49m\u001b[43m \u001b[49m\u001b[38;5;241;43m3\u001b[39;49m\u001b[43m)\u001b[49m\n",
            "File \u001b[1;32mC:\\ProgramData\\anaconda3\\lib\\unittest\\case.py:845\u001b[0m, in \u001b[0;36mTestCase.assertEqual\u001b[1;34m(self, first, second, msg)\u001b[0m\n\u001b[0;32m    841\u001b[0m \u001b[38;5;250m\u001b[39m\u001b[38;5;124;03m\"\"\"Fail if the two objects are unequal as determined by the '=='\u001b[39;00m\n\u001b[0;32m    842\u001b[0m \u001b[38;5;124;03m   operator.\u001b[39;00m\n\u001b[0;32m    843\u001b[0m \u001b[38;5;124;03m\"\"\"\u001b[39;00m\n\u001b[0;32m    844\u001b[0m assertion_func \u001b[38;5;241m=\u001b[39m \u001b[38;5;28mself\u001b[39m\u001b[38;5;241m.\u001b[39m_getAssertEqualityFunc(first, second)\n\u001b[1;32m--> 845\u001b[0m \u001b[43massertion_func\u001b[49m\u001b[43m(\u001b[49m\u001b[43mfirst\u001b[49m\u001b[43m,\u001b[49m\u001b[43m \u001b[49m\u001b[43msecond\u001b[49m\u001b[43m,\u001b[49m\u001b[43m \u001b[49m\u001b[43mmsg\u001b[49m\u001b[38;5;241;43m=\u001b[39;49m\u001b[43mmsg\u001b[49m\u001b[43m)\u001b[49m\n",
            "File \u001b[1;32mC:\\ProgramData\\anaconda3\\lib\\unittest\\case.py:838\u001b[0m, in \u001b[0;36mTestCase._baseAssertEqual\u001b[1;34m(self, first, second, msg)\u001b[0m\n\u001b[0;32m    836\u001b[0m standardMsg \u001b[38;5;241m=\u001b[39m \u001b[38;5;124m'\u001b[39m\u001b[38;5;132;01m%s\u001b[39;00m\u001b[38;5;124m != \u001b[39m\u001b[38;5;132;01m%s\u001b[39;00m\u001b[38;5;124m'\u001b[39m \u001b[38;5;241m%\u001b[39m _common_shorten_repr(first, second)\n\u001b[0;32m    837\u001b[0m msg \u001b[38;5;241m=\u001b[39m \u001b[38;5;28mself\u001b[39m\u001b[38;5;241m.\u001b[39m_formatMessage(msg, standardMsg)\n\u001b[1;32m--> 838\u001b[0m \u001b[38;5;28;01mraise\u001b[39;00m \u001b[38;5;28mself\u001b[39m\u001b[38;5;241m.\u001b[39mfailureException(msg)\n",
            "\u001b[1;31mAssertionError\u001b[0m: 2 != 3"
          ]
        }
      ],
      "source": [
        "SecondTest().test_02_failure()"
      ]
    },
    {
      "cell_type": "markdown",
      "id": "L9nA3BGnjE7n",
      "metadata": {
        "id": "L9nA3BGnjE7n"
      },
      "source": [
        "### Assertions = Ověření\n",
        "\n",
        "**<font color='#98100e'>Ověření</font>** - predikát (věta ve zvoleném jazyce, která vrací `True` nebo `False`), umístěný někde v kódu. Ověření naznačuje, že programátor předpokládá, že predikát je v tomto bodě pravdivý. Pokud je predikát nepravdivý (tj. podmínky stanovené programátorem nejsou splněny), ověření způsobí přerušení provádění programu.\n",
        "\n",
        "> Ověření je zvláště užitečné při testování vyvíjeného softwaru, například pro kontrolu zranitelností nebo odolnosti proti chybám. Výhodou použití ověření je, že můžete zjistit, která část zdrojového kódu programu obsahuje chybu.<br>\n",
        "\n",
        "Každé ověření obsahuje **<font color='#98100e'>logický výraz</font>**, který je předpokládán jako pravdivý při provedení ověření. Pokud výraz není pravdivý, systém vrátí **<font color='#98100e'>AssertionError</font>**. Ověřením logického výrazu ověření ověřuje předpoklady o chování softwaru a zvyšuje důvěru v naše programy."
      ]
    },
    {
      "cell_type": "markdown",
      "id": "L60D9wWJjG2C",
      "metadata": {
        "id": "L60D9wWJjG2C"
      },
      "source": [
        "Assertiony v modulu `unittest`:\n",
        "\n",
        "<table>\n",
        "<tr>\n",
        "    <th>METODA</th>\n",
        "    <th>ZKONTROLUJ, ZDA</th>\n",
        "</tr>\n",
        "\n",
        "<tr>\n",
        "<td>assertEqual(a, b)</td>\n",
        "<td>$a == b$</td>\n",
        "</tr>\n",
        "\n",
        "<tr>\n",
        "<td>assertNotEqual(a, b)</td>\n",
        "<td>$a != b$</td>\n",
        "</tr>\n",
        "\n",
        "<tr>\n",
        "<td>assertTrue(x)</td>\n",
        "<td>bool(x) je True</td>\n",
        "</tr>\n",
        "\n",
        "<tr>\n",
        "<td>assertFalse(x)</td>\n",
        "<td>bool(x) je False</td>\n",
        "</tr>\n",
        "\n",
        "<tr>\n",
        "<td>assertIs(a, b)</td>\n",
        "<td>a je b</td>\n",
        "</tr>\n",
        "\n",
        "<tr>\n",
        "<td>assertIsNot(a, b)</td>\n",
        "<td>a není b</td>\n",
        "</tr>\n",
        "\n",
        "<tr>\n",
        "<td>assertIsNone(x)</td>\n",
        "<td>x je None</td>\n",
        "</tr>\n",
        "\n",
        "<tr>\n",
        "<td>assertIsNotNone(x)</td>\n",
        "<td>x není None</td>\n",
        "</tr>\n",
        "\n",
        "<tr>\n",
        "<td>assertIn(a, b)</td>\n",
        "<td>a je v b</td>\n",
        "</tr>\n",
        "\n",
        "<tr>\n",
        "<td>assertNotIn(a, b)</td>\n",
        "<td>a není v b</td>\n",
        "</tr>\n",
        "\n",
        "<tr>\n",
        "<td>assertIsInstance(a, b)</td>\n",
        "<td>a je instance b(a, b)</td>\n",
        "</tr>\n",
        "\n",
        "<tr>\n",
        "<td>assertNotIsInstance(a, b)&emsp;&emsp;</td>\n",
        "<td>a není instance b&emsp;&emsp;</td>\n",
        "</tr>\n",
        "\n",
        "</table>\n",
        "\n",
        "> zdroj: https://docs.python.org/3/library/unittest.html"
      ]
    },
    {
      "cell_type": "markdown",
      "id": "5sWLl2urjJrA",
      "metadata": {
        "id": "5sWLl2urjJrA"
      },
      "source": [
        "### Spouštění testů"
      ]
    },
    {
      "cell_type": "markdown",
      "id": "Af0S1tpp8c_a",
      "metadata": {
        "id": "Af0S1tpp8c_a"
      },
      "source": [
        "#### Přímo z vývojového prostředí PyCharm\n",
        "\n",
        "https://www.youtube.com/watch?v=-VzJvNLooj4"
      ]
    },
    {
      "cell_type": "markdown",
      "id": "W0JsK2zTjVip",
      "metadata": {
        "id": "W0JsK2zTjVip"
      },
      "source": [
        "#### Spusťte pomocí příkazové řádky\n",
        "\n",
        "Příkazová řádka, tj. spuštění z konzole. Všechny testy.\n",
        "\n",
        "Následující metoda je možná:\n",
        "```bash(python)\n",
        "\n",
        "C:\\Repository\\sda\\testing>python -m unittest start_1.py\n",
        "\n",
        "```\n",
        "lze provést přidáním tohoto příkazu na konec skriptu `start_1.py` takto:\n",
        "\n",
        "```python\n",
        "\n",
        "if __name__ == '__main__':\n",
        "    unittest.main()\n",
        "    \n",
        "```"
      ]
    },
    {
      "cell_type": "markdown",
      "id": "-ISu6UWCj7-e",
      "metadata": {
        "id": "-ISu6UWCj7-e"
      },
      "source": [
        "### Test fixture (extra)\n",
        "\n",
        "Test fixture - představuje nezbytné přípravy pro jeden nebo více testů a související úklid po proběhnutých testech. `unittest` má speciální metody, které jsou výchozí prázdné, ale jsou vykonávány v ten pravý čas v daném testovacím případu (TestCase).\n",
        "* setUp() - `unittest` metoda ji volá ihned před provedením testovací metody (každá metoda)\n",
        "* tearDown() - `unittest` ji volá ihned po provedení testovací metody, i když testovací metoda ohlásí chybu\n",
        "    \n",
        "Pokud nastane chyba během provádění `setUp()`, metoda `tearDown()` se nevykoná."
      ]
    },
    {
      "cell_type": "markdown",
      "id": "F-CEDLmsj-oy",
      "metadata": {
        "id": "F-CEDLmsj-oy"
      },
      "source": [
        "**<font color='#98100e'>setUp</font>**\n",
        "\n",
        "Zde je to, co bude vytisknuto po spuštění obou testů (všimněte si, jak je metoda `.setUp()` volána před každým testem):\n",
        "\n",
        "```python\n",
        "class FirstTest(unittest.TestCase):\n",
        "    \n",
        "    def setUp(self) -> None:\n",
        "        print(\"setUp\")\n",
        "\n",
        "    def test1(self):\n",
        "        print(\"test1\")\n",
        "\n",
        "    def test2(self):\n",
        "        print(\"test2\")\n",
        "```\n",
        "\n",
        "\\>>> setUp<br>\n",
        "\\>>> test1<br>\n",
        "\\>>> setUp<br>\n",
        "\\>>> test2<br>"
      ]
    },
    {
      "cell_type": "markdown",
      "id": "szmKsVFxkE3k",
      "metadata": {
        "id": "szmKsVFxkE3k"
      },
      "source": [
        "**<font color='#98100e'>tearDown</font>**\n",
        "\n",
        "Zde je, co se vytiskne po spuštění obou testů (po jejich proběhnutí) (všimněte si, jak jsou obsahy metody tearDown volány po každém testu):\n",
        "\n",
        "```python\n",
        "class FirstTest(unittest.TestCase):\n",
        "    \n",
        "    def tearDown(self) -> None:\n",
        "        print(\"tearDown\")\n",
        "\n",
        "    def test1(self):\n",
        "        print(\"test1\")\n",
        "\n",
        "    def test2(self):\n",
        "        print(\"test2\")\n",
        "```\n",
        "\n",
        "\\>>> test1<br>\n",
        "\\>>> tearDown<br>\n",
        "\\>>> test2<br>\n",
        "\\>>> tearDown<br>\n"
      ]
    },
    {
      "cell_type": "markdown",
      "id": "yeUe9bShkJ99",
      "metadata": {
        "id": "yeUe9bShkJ99"
      },
      "source": [
        "## V případě že / Když / Pak (extra)\n",
        "\n",
        "Testy by měly být malým příběhem, který za určitých podmínek po provedení příslušných akcí (Test) povede ke správným výsledkům (splněním Assertion).\n",
        "\n",
        "* **<font color='#98100e'>V případě že</font>** vytváří sekci, ve které vytváříme počáteční předpoklady. Nastavujeme stav systému (také nazývaný stav světa) podle potřeby pro testování.\n",
        "* **<font color='#98100e'>Když</font>** v této sekci provádíme akci, kterou chceme otestovat.\n",
        "* **<font color='#98100e'>Pak</font>** zkontrolujeme, zda se aplikace chovala, jak bylo očekáváno. Nejčastěji pomocí assertion nebo interakcí s mock objekty (více o mock objektech později).\n",
        "\n",
        "Nemusíme vždy používat všechny části, například při použití `setUp()`."
      ]
    },
    {
      "cell_type": "code",
      "execution_count": null,
      "id": "Clzhd2W2B5-e",
      "metadata": {
        "id": "Clzhd2W2B5-e"
      },
      "outputs": [],
      "source": [
        "def test_01_given_when_then(self):\n",
        "    # v případě\n",
        "    account = Account(100, \"owner\")\n",
        "    # když\n",
        "    account.transfer(-50)\n",
        "    # pak\n",
        "    self.assertEqual(account.balance(), 50)"
      ]
    },
    {
      "cell_type": "markdown",
      "id": "d89KQ7bxkQa2",
      "metadata": {
        "id": "d89KQ7bxkQa2"
      },
      "source": [
        "## Testování výjimek\n",
        "\n",
        "Jelikož jsou výjimky vyvolávány v chybových situacích, vaše testy by měly ověřit, co se děje v takových konkrétních případech. Měli byste zkontrolovat nejen fakt, že výjimka je vyhozena, ale také:\n",
        "\n",
        "- Jestli je typ vyhozené výjimky adekvátní k dané situaci?\n",
        "- Jestli je zpráva předávaná výjimkou srozumitelná?"
      ]
    },
    {
      "cell_type": "markdown",
      "id": "uTK1DCPrkVp7",
      "metadata": {
        "id": "uTK1DCPrkVp7"
      },
      "source": [
        "### Kontextový manažer `with`\n",
        "\n",
        "Výjimky v Pythonu se testují pomocí kontextového manažeru `with`."
      ]
    },
    {
      "cell_type": "code",
      "execution_count": null,
      "id": "9eYWn1ddkZKJ",
      "metadata": {
        "id": "9eYWn1ddkZKJ"
      },
      "outputs": [],
      "source": [
        "def test_success(self):\n",
        "    with self.assertRaises(ValueError):\n",
        "        int('XXXX')\n",
        "\n",
        "def test_fail(self):\n",
        "    with self.assertRaisesRegex(ValueError, 'literal'):\n",
        "        int('1')"
      ]
    },
    {
      "cell_type": "markdown",
      "id": "ByZYWoeykZez",
      "metadata": {
        "id": "ByZYWoeykZez"
      },
      "source": [
        "## unittest.Mock v Pythonu (extra)\n",
        "\n",
        "<img src=\"https://drive.google.com/uc?export=view&id=1PvNn1T1KvKqJCCPQiFS6-EGxq_rPd-fq\" alt=\"Tests: mocks\" title=\"Tests: mocks\" align=\"right\" width=\"500px\" hspace=\"10px\" vspace=\"10px\"/>\n",
        "\n",
        "**<font color='#98100e'>Mock objekt</font>** - náhrada, napodobenina, výplň, náhražka. Napodobuje skutečný objekt uvnitř testovacího prostředí. Je to komplexní a užitečný nástroj, který zvyšuje efektivitu a kvalitu testů.\n",
        "\n",
        "Mocky se používají k řízení chování programu během testování, například:\n",
        "* Pokud program provádí dotazy na externí webové stránky, pak test nekontroluje pouze chování našich funkcí ale i webové stránky podle našich očekávání. Občas mohou změny na těchto webových stránkách způsobit vážné chyby a selhání testů.\n",
        "* Z tohoto důvodu je vhodné řídit prostředí a nahrazovat externí webové stránky náhražkami (Mock objekty), které budou dělat pouze to, co od nich očekáváme."
      ]
    },
    {
      "cell_type": "markdown",
      "id": "PsBUrKYbkh47",
      "metadata": {
        "id": "PsBUrKYbkh47"
      },
      "source": [
        "<img src=\"https://drive.google.com/uc?export=view&id=1Dfz7HA32Z9FJFz0YT7q9LN1ka6YBUNve\" alt=\"Tests: mocks\" title=\"Tests: mocks\" align=\"right\" width=\"200px\" hspace=\"30px\" vspace=\"30px\"/>\n",
        "<br>\n",
        "\n",
        "<br><br>\n",
        "Python má vestavěné mock objekty v knihovně `unittest`.\n",
        "\n",
        "Používání mock objektů - náhražek v Pythonu vám pomůže kontrolovat provádění programu a zvýšit pokrytí vašeho kódu testy.\n",
        "\n",
        "`Mock` objekt v Pythonu obsahuje data o svém použití, která lze zkontrolovat:\n",
        "* zda byla volána daná metoda\n",
        "* jak byla daná metoda volána\n",
        "* kolikrát byla metoda volána\n",
        "\n",
        "`Mock` – univerzální Mock objekt. Můžete se na něj odkazovat, vytváří atributy okamžikem, kdy do něj vstoupíte. Odkazování se na stejný atribut vždy vrací stejný výsledek."
      ]
    },
    {
      "cell_type": "code",
      "execution_count": null,
      "id": "gQFdXKvoE41n",
      "metadata": {
        "id": "gQFdXKvoE41n"
      },
      "outputs": [],
      "source": [
        "from unittest.mock import Mock\n",
        "\n",
        "mock = Mock()\n",
        "mock.something = \"something\"\n",
        "mock.x = 2 * 3"
      ]
    },
    {
      "cell_type": "code",
      "execution_count": null,
      "id": "rrjyVJgcFKFu",
      "metadata": {
        "colab": {
          "base_uri": "https://localhost:8080/"
        },
        "id": "rrjyVJgcFKFu",
        "outputId": "7393c9ca-6233-4dd7-aff9-2a1455490ffb"
      },
      "outputs": [
        {
          "data": {
            "text/plain": [
              "(<Mock id='139623756646480'>, 'something', 6)"
            ]
          },
          "execution_count": 54,
          "metadata": {},
          "output_type": "execute_result"
        }
      ],
      "source": [
        "mock, mock.something, mock.x"
      ]
    },
    {
      "cell_type": "markdown",
      "id": "DZYTJGzxkp3y",
      "metadata": {
        "id": "DZYTJGzxkp3y"
      },
      "source": [
        "`MagicMock` – dědí z třídy `Mock`. Rozšiřuje rodičovskou třídu implementací všech \"magických\" metod (to znamená těch, které začínají a končí dvojitými podtržítky). Kromě toho jsou tyto třídy vzájemně zaměnitelné. Existují také varianty `NonCallable` - když chceme simulovat objekty, které by neměly být volány - název třídy: `NonCallableMagicMock`."
      ]
    },
    {
      "cell_type": "code",
      "execution_count": null,
      "id": "76qOjLNhkqKo",
      "metadata": {
        "id": "76qOjLNhkqKo"
      },
      "outputs": [],
      "source": [
        "from unittest.mock import MagicMock"
      ]
    },
    {
      "cell_type": "code",
      "execution_count": null,
      "id": "mmbjhMcdFbhn",
      "metadata": {
        "id": "mmbjhMcdFbhn"
      },
      "outputs": [],
      "source": [
        "class Employee:\n",
        "    raise_amount = 1.04\n",
        "\n",
        "    def __init__(self, first, last, pay):\n",
        "        self.first = first\n",
        "        self.last = last\n",
        "        self.pay = pay\n",
        "        self.email = f'{first}.{last}@company.com'\n",
        "\n",
        "    def fullname(self):\n",
        "        return f'{self.first} {self.last}'\n",
        "\n",
        "    def apply_raise(self):\n",
        "        self.pay = int(self.pay * self.raise_amount)"
      ]
    },
    {
      "cell_type": "code",
      "execution_count": null,
      "id": "xsgik7_CFp2_",
      "metadata": {
        "id": "xsgik7_CFp2_"
      },
      "outputs": [],
      "source": [
        "kowalski = Employee(\"Jan\", \"Kowalski\", 4500)"
      ]
    },
    {
      "cell_type": "code",
      "execution_count": null,
      "id": "E3e957bVFvEa",
      "metadata": {
        "id": "E3e957bVFvEa"
      },
      "outputs": [],
      "source": [
        "kowalski.manager = MagicMock(return_value=\"Bond\")"
      ]
    },
    {
      "cell_type": "code",
      "execution_count": null,
      "id": "Tcrk63-AF3AI",
      "metadata": {
        "colab": {
          "base_uri": "https://localhost:8080/"
        },
        "id": "Tcrk63-AF3AI",
        "outputId": "eea70a63-dffc-4608-e587-302b6f6d7495"
      },
      "outputs": [
        {
          "data": {
            "text/plain": [
              "<MagicMock id='139623755977776'>"
            ]
          },
          "execution_count": 60,
          "metadata": {},
          "output_type": "execute_result"
        }
      ],
      "source": [
        "kowalski.manager"
      ]
    },
    {
      "cell_type": "markdown",
      "id": "kwrb7ttjkr1A",
      "metadata": {
        "id": "kwrb7ttjkr1A"
      },
      "source": [
        "`patch` - funguje jako záplata a používá se jako dekorátor nebo s kontextovým manažerem `with`, umožňuje vám snadno a dočasně nahradit třídu ve vybraném modulu `Mock`. Ve výchozím nastavení `patch` vytváří objekt `MagicMock`."
      ]
    },
    {
      "cell_type": "code",
      "execution_count": null,
      "id": "xjwIYj7WGr1r",
      "metadata": {
        "id": "xjwIYj7WGr1r"
      },
      "outputs": [],
      "source": [
        "from unittest.mock import patch"
      ]
    },
    {
      "cell_type": "code",
      "execution_count": null,
      "id": "hbeQnpB2ksHZ",
      "metadata": {
        "colab": {
          "base_uri": "https://localhost:8080/"
        },
        "id": "hbeQnpB2ksHZ",
        "outputId": "0c6dead8-5edc-46fc-d9e0-f8a415f0704c"
      },
      "outputs": [
        {
          "name": "stdout",
          "output_type": "stream",
          "text": [
            "Other\n"
          ]
        }
      ],
      "source": [
        "class SomeClass:\n",
        "    def something(self):\n",
        "        return \"Something\"\n",
        "\n",
        "with patch.object(SomeClass, \"something\", return_value=\"Other\") as new_mock:\n",
        "    some = SomeClass()\n",
        "    print(some.something())"
      ]
    },
    {
      "cell_type": "markdown",
      "id": "T7KAZoGT7Jjn",
      "metadata": {
        "id": "T7KAZoGT7Jjn"
      },
      "source": [
        "<img src=\"https://drive.google.com/uc?export=view&id=1UO2urRciECzoKE_vHy4RMGfFbkOWOGlW\" alt=\"SDA logo\" align=\"left\" width=\"100px\" hspace=\"10px\" vspace=\"10px\"/>\n",
        "<br>\n",
        "\n",
        "# Dokumentace\n",
        "\n"
      ]
    },
    {
      "cell_type": "markdown",
      "id": "hWNcM8er2Fde",
      "metadata": {
        "id": "hWNcM8er2Fde"
      },
      "source": [
        "<img src=\"https://drive.google.com/uc?export=view&id=141XOz6N4nk8Ru1sAl7vOsAToCLrSFCAX\" alt=\"SDA logo\" width=\"150\" align='right'/>\n",
        "\n",
        "## Čistý kód a refaktorování kódu\n",
        "\n",
        "<img src=\"https://drive.google.com/uc?export=view&id=1lZVLwViFXgjCP3SBaRO_uPPvxlgjUsRq\" alt=\"Tests: mocks\" title=\"Tests: mocks\" align=\"right\" width=\"500px\" hspace=\"10px\" vspace=\"10px\"/>"
      ]
    },
    {
      "cell_type": "markdown",
      "id": "DraAnG9H3W5C",
      "metadata": {
        "id": "DraAnG9H3W5C"
      },
      "source": [
        "Co tyto dvě funkce dělají???\n",
        "\n",
        "```python\n",
        "def x(a):\n",
        "    return (a - 32) * 5 / 9\n",
        "\n",
        "def y(b):\n",
        "    return (b * 9 / 5) + 32\n",
        "```"
      ]
    },
    {
      "cell_type": "markdown",
      "id": "GCHzl5J7k66D",
      "metadata": {
        "id": "GCHzl5J7k66D"
      },
      "source": [
        "**<font color='red'>CHYBÍ:</font>**\n",
        "* správná pojmenování, která jednoznačně určují k čemu by měly funkce sloužit\n",
        "* dokumentace (docstrings)\n",
        "* typová anotace (nepovinná)"
      ]
    },
    {
      "cell_type": "code",
      "execution_count": null,
      "id": "hjEWe0Umk7Pq",
      "metadata": {
        "id": "hjEWe0Umk7Pq"
      },
      "outputs": [],
      "source": [
        "def convert_fahrenheit_to_celsius(fahrenheit_degrees):\n",
        "    return (fahrenheit_degrees - 32) * 5 / 9\n",
        "\n",
        "def convert_celsius_to_fahrenheit(celsius_degrees):\n",
        "    return (celsius_degrees * 9 / 5) + 32"
      ]
    },
    {
      "cell_type": "markdown",
      "id": "8kj9IyZ3k8zX",
      "metadata": {
        "id": "8kj9IyZ3k8zX"
      },
      "source": [
        "Nahoře můžete vidět dvě stejné funkce - není to teď jasnější?\n"
      ]
    },
    {
      "cell_type": "markdown",
      "id": "WI8gG71Jk9g3",
      "metadata": {
        "id": "WI8gG71Jk9g3"
      },
      "source": [
        "Co je špatně s těmito názvy?\n",
        "```python\n",
        "# příklad 1\n",
        "d = 10\n",
        "\n",
        "# příklad 2\n",
        "x = person_data[3]\n",
        "\n",
        "# příklad 3\n",
        "get_active_account()\n",
        "get_active_accounts()\n",
        "get_active_account_info()\n",
        "\n",
        "# příklad 4\n",
        "imnawiwapr = (\"John\", \"Smith\", 50, 95, \"nezaměstnaný\")\n",
        "\n",
        "# příklad 5\n",
        "for element in list:\n",
        "    if element == 5:\n",
        "        ...\n",
        "```\n"
      ]
    },
    {
      "cell_type": "markdown",
      "id": "eT6ZsjtGlBfI",
      "metadata": {
        "id": "eT6ZsjtGlBfI"
      },
      "source": [
        "1. Název proměnné `d` nic neříká o hodnotě, kterou uchovává.\n",
        "1. Název proměnné `x` také neříká nic o uložené hodnotě a není jasné, co se získává z proměnné `person_data`. Číslo `3` by mělo být správně pojmenovanou konstantou, například `VEK = 3`.\n",
        "1. Příliš podobné názvy funkcí, těžko se zjistí, jaké jsou rozdíly bez prohlédnutí jejich kódů.\n",
        "1. Obtížné vyslovit a zapamatovat si název proměnné (také by měl být použit slovník s následujícími `.keys(): name, surname, age, weight, job`).\n",
        "1. Není jasné, co je hodnota 5, proč porovnáváme element a tuto hodnotu, název položky `element` není nejlepší a `list` přepisuje vestavěnou funkci."
      ]
    },
    {
      "cell_type": "markdown",
      "id": "2y7CacfIlK4k",
      "metadata": {
        "id": "2y7CacfIlK4k"
      },
      "source": [
        "### Co znamená napsat dobrou funkci?\n",
        "\n",
        "* Funkce by měla fungovat a splnit stanovené požadavky\n",
        "* Funkce by měla být jednoduchá, tedy dělat pouze jednu věc a nic víc (řešit jeden problém)\n",
        "* Funkce by měla mít co nejméně argumentů (nejlépe: žádný nebo s výchozími hodnotami)\n",
        "* Funkce by měla být stručná a krátká - měla by se vejít do několika nebo maximálně deseti řádků\n",
        "* Funkce by měla být snadno testovatelná\n",
        "* Funkce by měla mít významné jméno (stejně jako názvy argumentů)"
      ]
    },
    {
      "cell_type": "markdown",
      "id": "H0muvyIMlN4r",
      "metadata": {
        "id": "H0muvyIMlN4r"
      },
      "source": [
        "> Nejlepší funkce nemá žádné argumenty nebo má pouze jeden. V mnoha knihách jsou funkce se třemi argumenty považovány za extrémní případ. Pokud funkce má ještě více argumentů, pravděpodobně by mohla být napsána jinak. Příklad?"
      ]
    },
    {
      "cell_type": "code",
      "execution_count": null,
      "id": "PwG0KApKlPLy",
      "metadata": {
        "id": "PwG0KApKlPLy"
      },
      "outputs": [],
      "source": [
        "def multiply_fractions(\n",
        "    first_numerator,\n",
        "    first_denominator,\n",
        "    second_numerator,\n",
        "    second_denominator\n",
        "    ):\n",
        "    new_numerator = first_numerator * second_numerator\n",
        "    new_denominator = first_denominator * second_denominator\n",
        "\n",
        "    return new_numerator, second_denominator"
      ]
    },
    {
      "cell_type": "code",
      "execution_count": null,
      "id": "cr3QXCBp7Zsv",
      "metadata": {
        "id": "cr3QXCBp7Zsv"
      },
      "outputs": [],
      "source": [
        "class Fraction:\n",
        "    def __init__(self, numerator, denominator):\n",
        "        self.numerator = numerator\n",
        "        self.denominator = denominator\n",
        "\n",
        "    def multiply(self, fraction):\n",
        "        numerator = self.numerator * fraction.numerator\n",
        "        denominator = self.denominator * fraction.denominator\n",
        "        return Fraction(numerator, denominator)"
      ]
    },
    {
      "cell_type": "markdown",
      "id": "Ap-GTX5NlSgV",
      "metadata": {
        "id": "Ap-GTX5NlSgV"
      },
      "source": [
        "Jako pravidlo by se mělo jako název funkce používat sloveso, nebo výraz obsahující sloveso. Nejlepší funkce jsou ty, které spolu s jejich argumenty tvoří jasný párový vztah sloveso - podstatné jméno.\n",
        "\n",
        "**<font color='green'>SPRÁVNĚ</font>**\n",
        "```python\n",
        "def write(soubor):\n",
        "    ...\n",
        "\n",
        "def write_to(soubor):\n",
        "    ...\n",
        "\n",
        "def play(hra):\n",
        "    ...\n",
        "```\n",
        "\n",
        "**<font color='red'>NESPRAVNÉ</font>**\n",
        "```python\n",
        "def soubor(cesta):\n",
        "    ...\n",
        "\n",
        "def pocitac_spusten():\n",
        "    ...\n",
        "\n",
        "def doktor_léčí(pacient):\n",
        "    ...\n",
        "```"
      ]
    },
    {
      "cell_type": "markdown",
      "id": "chRv812llWxl",
      "metadata": {
        "id": "chRv812llWxl"
      },
      "source": [
        "Funkce by měly dělat pouze jednu věc. Tím se udržují funkce krátké, čitelné a snadněji udržovatelné. Je to také dáno tím, že název funkce je nejčastěji spojen s jednou akcí prováděnou funkcí - veškeré následné akce budou \"skryty\" v těle funkce.\n",
        "\n",
        "Příklad špatné funkce:\n",
        "```python\n",
        "\n",
        "def print_each_element(elements):\n",
        "    print(element)\n",
        "    elements.remove(element)\n",
        "    \n",
        "```\n",
        "\n",
        "Takováto funkce nejenže vytiskne každý prvek z vstupního seznamu, ale také potichu odstraní polovinu z nich!"
      ]
    },
    {
      "cell_type": "markdown",
      "id": "NL3FqgBllZlN",
      "metadata": {
        "id": "NL3FqgBllZlN"
      },
      "source": [
        "Také není dobrá praxe používat bool parametry (tzv. vlajky) ve funkcích:\n",
        "```python\n",
        "\n",
        "def kiss_or_ride(should_kiss):\n",
        "    if should_kiss:\n",
        "        ...    \n",
        "    else:\n",
        "        ...        \n",
        "        \n",
        "kiss_or_ride(True)\n",
        "\n",
        "```\n",
        "\n",
        "Použití boolean parametrů nám prozrazuje, že funkce může dělat dvě věci (existují dvě nezávislé cesty) - jednu pro vlajku nastavenou na True a druhou pro vlajku nastavenou na False. V takovém případě je lepší rozdělit funkci `kiss_or_ride()` na dvě samostatné funkce: `kiss()` a `ride()`."
      ]
    },
    {
      "cell_type": "markdown",
      "id": "mHBucE3Lle_i",
      "metadata": {
        "id": "mHBucE3Lle_i"
      },
      "source": [
        "### Komentáře\n",
        "\n",
        "* Podle R.C. Martina jsou komentáře pokusem o kompenzaci chyb, které programátor udělá při psaní kódu.\n",
        "* Před psaním komentáře vždy zvažte, zda ho opravdu potřebujete.\n",
        "* Problémy s nadměrnými komentáři v kódu jsou:\n",
        "    - zbytečné informace (jako je revizní historie, autor, datum poslední úpravy\n",
        "    - toto není místo pro tyto věci, k tomu slouží GIT)!    \n",
        "    - zastaralé komentáře    \n",
        "    - zbytečné komentáře    \n",
        "    - zakomentované řádky kódu"
      ]
    },
    {
      "cell_type": "markdown",
      "id": "A-i-BOTjlg1H",
      "metadata": {
        "id": "A-i-BOTjlg1H"
      },
      "source": [
        "1. Zbytečné informace v kódu:\n",
        "```python\n",
        "\"\"\"\n",
        "    ----------------------------\n",
        "    Datum vzniku: 26-04-2026\n",
        "    Autor: John Smith\n",
        "    ----------------------------\n",
        "    Název souboru: myfile.py\n",
        "    První commit: 26-04-2026\n",
        "    Poslední commit: 29-04-2026\n",
        "\n",
        "    Historie změn:\n",
        "    26-04-2026 - přidáno ...\n",
        "    ...\n",
        "\"\"\"\n",
        "```\n",
        "\n",
        "1. Zastaralé komentáře\n",
        "\n",
        "```python\n",
        "def add_new_member(self, member):\n",
        "    db = self.get_db()\n",
        "    df.add_memeber(member)\n",
        "    db.approve()\n",
        "\n",
        "    # TODO: ověřit, zda bylo přidání úspěšné\n",
        "    # jakmile bude metoda implementována\n",
        "```\n",
        "\n",
        "ale\n",
        "```python\n",
        "def add_new_member(self, member):\n",
        "    db = self.get_db()\n",
        "    df.add_memeber(member)\n",
        "    db.approve()\n",
        "    db.verify_addition_suceeded()\n",
        "    # TODO: ověřit, zda bylo přidání úspěšné\n",
        "    # jakmile bude metoda implementována\n",
        "```\n",
        "\n",
        "\n",
        "1. Přebytečné komentáře:\n",
        "```python\n",
        "def add(a, b):\n",
        "    return a + b  # stejné jako b + a, sčítá dvě čísla\n",
        "```\n",
        "\n",
        "1. Kód, který je zakomentovaný\n",
        "```python\n",
        "def add_new_member(self, member):\n",
        "    db = self.get_db()\n",
        "    # nepřidávat člena, odstranit v budoucnosti\n",
        "    # df.add_memeber(member)\n",
        "    # db.approve()\n",
        "    db.verify_addition_suceeded()\n",
        "    # TODO: ověřit, zda bylo přidání úspěšné\n",
        "    # jakmile bude metoda implementována\n",
        "```"
      ]
    },
    {
      "cell_type": "markdown",
      "id": "Hx3K2nr6lowh",
      "metadata": {
        "id": "Hx3K2nr6lowh"
      },
      "source": [
        "Pokud jste po dlouhé programovací session, může být obtížné kód dál upravit a člověk se může cítit, že by na něj měl napsat komentář. Typicky je však potřeba opravit samotný kód, ne přidávat další komentáře. Viz příklad níže:\n",
        "\n",
        "```python\n",
        "\n",
        "# Kontrola, zda má osoba právo řídit\n",
        "\n",
        "if human.driving_license and NO_ALCOHOL and human.age > 18:\n",
        "    ...\n",
        "    \n",
        "```\n",
        "\n",
        "Je lepší nahradit výše uvedený podmíněný výraz takovým, který již nevyžaduje komentář, například:\n",
        "\n",
        "```python\n",
        "\n",
        "if human.is_able_to_drive_a_car():\n",
        "    ...\n",
        "    \n",
        "```"
      ]
    },
    {
      "cell_type": "markdown",
      "id": "YYWsXyAbAlKN",
      "metadata": {
        "id": "YYWsXyAbAlKN"
      },
      "source": [
        "Příklady dobrých komentářů:\n",
        "\n",
        "* #TODO komentáře (k odstranění ihned po dokončení implementace!)\n",
        "* Legální (tj. autorská práva) komentáře\n",
        "* Komentáře vysvětlující PROČ se něco děje ve kódu, nikoliv CO se děje ve kódu\n",
        "* Komentáře varující před nějakými nezřejmými důsledky"
      ]
    },
    {
      "cell_type": "markdown",
      "id": "37sc7n6qluLT",
      "metadata": {
        "id": "37sc7n6qluLT"
      },
      "source": [
        "Jedna z nejdůležitějších vět o komentování:\n",
        "> \"Pravda vždy stojí na straně kódu!\".\n",
        "\n",
        "Bez ohledu na to, jak přesné a správné jsou vaše komentáře, pokud je kód špatný, program nebude fungovat tak, jak by měl."
      ]
    },
    {
      "cell_type": "markdown",
      "id": "7nnwXCXulxgt",
      "metadata": {
        "id": "7nnwXCXulxgt"
      },
      "source": [
        "### Jak vypadá dobrá třída?\n",
        "- vykonává pouze jednu úlohu\n",
        "- je otevřená k dědičnosti, uzavřená pro modifikace\n",
        "- je konzistentní\n",
        "- je charakterizována nízkou mírou \"provázanosti\" s ostatními třídami\n",
        "- obsahuje funkce napsané podle pravidel\n",
        "- zahrnuje \"konečný\" počet metod (cca do tuctu)\n",
        "- má pouze pole, která skutečně využívá"
      ]
    },
    {
      "cell_type": "markdown",
      "id": "6Ky9ScXPlzTd",
      "metadata": {
        "id": "6Ky9ScXPlzTd"
      },
      "source": [
        "### PEP8\n",
        "\n",
        "* Odsazení (4 mezery) a prázdné řádky\n",
        "* Délka řádku\n",
        "* Operátor na začátku řádku při přerušení\n",
        "* Mezery mezi třídami a funkcemi\n",
        "* řetězce znaků\n",
        "* Formátování komentářů\n",
        "* Importování modulů\n",
        "* UpperCamelCase - názvy tříd, typy, výjimky\n",
        "* lowerCamelCase\n",
        "* snake_case - funkce, globální proměnné, metody, statické * metody, argumenty funkcí a metod\n",
        "* malá písmena - názvy modulů\n",
        "* ALLCAPS - jednoslovné konstanty v kódu\n",
        "* ALLCAPS_WITH_UNDERSCORES - konstanty v kódu\n",
        "* self, cls argumenty v metodách\n",
        "* Formátování matematických výrazů s komplexní strukturou\n",
        "* Prefix podtržítka, Sufix podtržítka\n",
        "* Malé písmeno L nebo písmeno O jako jednoslovné proměnné\n",
        "* Bílé znaky\n",
        "\n",
        "PEP je pouze doporučení!"
      ]
    },
    {
      "cell_type": "markdown",
      "id": "Z9mh9EgRmI39",
      "metadata": {
        "id": "Z9mh9EgRmI39"
      },
      "source": [
        "Navíc byste měli pamatovat na pravidla, jako:\n",
        "* funkce a metody s méně než 20 řádky\n",
        "* jméno každé proměnné je důležité\n",
        "* proměnné/metody/třídy, které jsou pojmenovány čtivě a srozumitelně, jsou lepší než komentáře\n",
        "* pokud se dostanete do páté úrovně odsazení, pravděpodobně děláte něco špatně\n",
        "* pokud vaše třída obsahuje mnoho metod, pravděpodobně děláte něco špatně\n",
        "* v komplexních programech je mnohem lepší zaměřit se na \"mezi-entitní\" komunikaci než na \"mezi-funkční\" komunikaci\n",
        "* existuje obrovské množství formátovacích a automatických nástrojů na zkrášlení kódu, například:\n",
        "   * pylint - knihovna, která analyzuje kód, pomáhá ho vylepšovat v souladu s přijatými pravidly (můžete je změnit podle svých pravidel/předností)\n",
        "   * velké množství online nástrojů na čištění kódu (stačí zadat \"python clean code online\" do Google)\n",
        "   * black - knihovna, která automaticky formátuje kód přímo v souboru (!), tj. žádná kopie se neprovádí, soubor se opraví a přepíše - starý formát zmizí nenávratně\n"
      ]
    },
    {
      "cell_type": "markdown",
      "id": "WKJg3v6pyp1P",
      "metadata": {
        "id": "WKJg3v6pyp1P"
      },
      "source": [
        "<img src=\"https://drive.google.com/uc?export=view&id=1UO2urRciECzoKE_vHy4RMGfFbkOWOGlW\" alt=\"SDA logo\" align=\"left\" width=\"100px\" hspace=\"10px\" vspace=\"10px\"/>\n",
        "<br>\n",
        "\n",
        "# ÚKOLY"
      ]
    },
    {
      "cell_type": "markdown",
      "id": "z5eXe9__yhZ6",
      "metadata": {
        "id": "z5eXe9__yhZ6"
      },
      "source": [
        "## **<font color='#306998'>ÚKOL </font><font color='#ffd33b'>1</font>**\n",
        "\n",
        "Napište funkci, která vrátí 5 nejčastějších slov z díla Mickiewicze. https://pastebin.com/raw/aAHeW5Pt (zkopírujte a uložte do textového souboru to, co najdete na tomto odkazu).\n",
        "\n",
        "Tip: použijte funkci open(), metodu split(), slovník a smyčku.\n"
      ]
    },
    {
      "cell_type": "markdown",
      "id": "o5y-XYr4bcv1",
      "metadata": {
        "id": "o5y-XYr4bcv1"
      },
      "source": [
        "## **<font color='#306998'>ÚKOL </font><font color='#ffd33b'>2</font>**\n",
        "\n",
        "Vytvořte třídu Rectangle, jejíž atributy budou výška a šířka tvaru. Implementujte metody pro výpočet obvodu a plochy obdélníku.\n",
        "Poté vytvořte třídu Square, pamatujte si, že každý čtverec je obdélníkem, ale ne každý obdélník je čtverec.\n",
        "\n",
        "\n"
      ]
    },
    {
      "cell_type": "markdown",
      "id": "WKJVnZD9iAyI",
      "metadata": {
        "id": "WKJVnZD9iAyI"
      },
      "source": [
        "## **<font color='#306998'>ÚKOL </font><font color='#ffd33b'>3</font>**\n",
        "\n",
        "Vytvořte dekorátor s názvem debug, který zobrazí informace o názvu funkce, předaných parametrech a vráceném výsledku při volání funkce."
      ]
    },
    {
      "cell_type": "markdown",
      "id": "6pYv40ppiiEQ",
      "metadata": {
        "id": "6pYv40ppiiEQ"
      },
      "source": [
        "## **<font color='#306998'>ÚKOL </font><font color='#ffd33b'>4</font>**\n",
        "\n",
        "Napište program, který vrací absolutní hodnotu čísla získaného od uživatele. Program by měl stále žádat o toto číslo, dokud nebude správně zadané.\n",
        "\n",
        "Pamatujte si, že uživatel nemusí vždy zadávat numerickou hodnotu, ale může také zadat například \"květák\". Zkontrolujte, co se stane v takovém případě a ujistěte se, že se s výjimkami zachází řádně."
      ]
    },
    {
      "cell_type": "markdown",
      "id": "coTgPgsXEK8n",
      "metadata": {
        "id": "coTgPgsXEK8n"
      },
      "source": [
        "## **<font color='#306998'>ÚKOL </font><font color='#ffd33b'>5</font>**\n",
        "\n",
        "Vytvořte třídu s názvem `Rectangle`. Třída by měla mít dvě pole - pro strany - a metodu vlastnosti `area`, která vypočítá obsah obdélníku."
      ]
    },
    {
      "cell_type": "markdown",
      "id": "h9X8OCnIEXAM",
      "metadata": {
        "id": "h9X8OCnIEXAM"
      },
      "source": [
        "## **<font color='#306998'>ÚKOL </font><font color='#ffd33b'>6</font>**\n",
        "\n",
        "Vytvořte třídu `Notebook`, která bude obsahovat pole: `výrobce`, `hrubá cena (bez DPH)` a `RAM paměť`.\n",
        "\n",
        "Přidejte dvě samostatné metody: výpočet čisté ceny (21% DPH) a zvýšení množství RAM."
      ]
    },
    {
      "cell_type": "markdown",
      "id": "BS4FZuh8Eyku",
      "metadata": {
        "id": "BS4FZuh8Eyku"
      },
      "source": [
        "## **<font color='#306998'>ÚLOHA </font><font color='#ffd33b'>7</font>**\n",
        "\n",
        "Napište třídu `Citizen`, která implementuje metodu `__init__`, která přijímá dva argumenty: `first_name` a `last_name`.\n",
        "\n",
        "1. Vytvořte objekt této třídy a zobrazte křestní jméno a příjmení občana.\n",
        "2. Přidejte metodu `set_nationality` do třídy `Citizen` (a s ní i třídní pole `nationality` s vybranou výchozí hodnotou).\n",
        "3. Zavolejte tuto metodu.\n",
        "4. Vytvořte jiný objekt třídy a porovnejte pole `nationality` v obou objektech.\n",
        "\n",
        "Dodatečně můžete zkusit přidat atribut `total_number_of_citizens`, který je přirozené číslo. Zvyšujte ho pokaždé, když je vytvořen nový objekt `Citizen`."
      ]
    },
    {
      "cell_type": "markdown",
      "id": "hOmgyzCHFOUw",
      "metadata": {
        "id": "hOmgyzCHFOUw"
      },
      "source": [
        "## **<font color='#306998'>ÚKOL </font><font color='#ffd33b'>8</font>**\n",
        "Vytvořte třídu `Kalkulačka`, ve které implementujete následující akce:\n",
        "- sčítání,\n",
        "- odčítání,\n",
        "- násobení,\n",
        "- dělení.\n",
        "\n",
        "Dále napište jednoduché testy, které ověří správné chování výše uvedených metod."
      ]
    },
    {
      "cell_type": "markdown",
      "id": "gcj9H7j_File",
      "metadata": {
        "id": "gcj9H7j_File"
      },
      "source": [
        "## **<font color='#306998'>ÚKOL </font><font color='#ffd33b'>9</font>**\n",
        "\n",
        "Pro funkci `odd_indexes()` níže, která pro zadaný řetězec vrací písmena s lichými indexy, například:\n",
        "- \"game show\" → \"aeso\",\n",
        "- \"computer\" → \"optr\".\n",
        "\n",
        "1. Napište testy pro argument, který bude řetězec.\n",
        "2. Spusťte funkci předáním celého čísla.\n",
        "3. Pozorujte, co se stalo.\n",
        "4. Napište testy pro argumenty, které jsou celá čísla.\n",
        "5. Opravte funkci tak, aby správně fungovala a testy procházely."
      ]
    },
    {
      "cell_type": "code",
      "execution_count": null,
      "id": "Mo_ZSHZiFcRF",
      "metadata": {
        "id": "Mo_ZSHZiFcRF"
      },
      "outputs": [],
      "source": [
        "import unittest\n",
        "\n",
        "def odd_indexes(string):\n",
        "    return string[1::2]\n",
        "\n",
        "class TestOddIndexes(unittest.TestCase):\n",
        "    pass\n"
      ]
    },
    {
      "cell_type": "markdown",
      "id": "OoITJ-9GS4_A",
      "metadata": {
        "id": "OoITJ-9GS4_A"
      },
      "source": [
        "## **<font color='#306998'>PROJEKT </font><font color='#ffd33b'>1</font>**\n",
        "\n",
        "Napište třídu `DataBox`, která bude sloužit k sběru dat a výpočtu jejich nejjednodušších statistických parametrů, jako je aritmetický průměr, geometrický průměr a módus (nejčastěji se vyskytující hodnota).\n",
        "\n",
        "Třída by měla mít dvě atributy: `data` a `amount_of_data`: první je seznam, do kterého budou ukládána data typu `int/float`, a druhý je pole, které udává, kolik dat aktuálně objekt třídy obsahuje.\n",
        "\n",
        "Metody k implementaci:\n",
        "- `.count_arithmetic_average()`: metoda, která vypočítá aritmetický průměr seznamu dat,\n",
        "- `.count_geometric_average()`: metoda, která vypočítá geometrický průměr dat, která objekt třídy uchovává,\n",
        "- `.get_amount_of_data()`: metoda, která vrátí počet dat, které aktuálně uchovává objekt třídy `DataBox`,\n",
        "- `.get_modal()`: metoda, která spočítá modus, tj. nastaví hodnotu nejčastěji se vyskytujících dat,\n",
        "- `.add_data()`: metoda, která přidá nějaká data do objektu. Jejím argumentem může být číslo nebo seznam čísel. V prvním případě bude číslo přidáno do atributu `self.data`, ve druhém - všechna čísla ve seznamu čísel.\n",
        "- `.remove_data()`: metoda, která odstraní VŠECHNA data ze seznamu (tj. ze pole `self.data`).\n",
        "- `.get_data()`: metoda, která vrátí seznam dat, které objekt uchovává.\n",
        "\n",
        "Příklad volání a vytváření objektu:\n",
        "```python\n",
        "box = DataBox()\n",
        "\n",
        "box.add_data([1,2,3,4,5])\n",
        "print(box.get_data())\n",
        "# >>> [1,2,3,4,5]\n",
        "\n",
        "print(box.count_arithmetic_average())\n",
        "# >>> 3\n",
        "\n",
        "box.get_modal()\n",
        "# >>> 1 # V případě nemožnosti určení nejčastějších hodnot vrátíme první prvek z atributu self.data\n",
        "\n",
        "print(box.get_amount_of_data())\n",
        "# 5 # počet prvků v seznamu self.data\n",
        "\n",
        "box.remove_data()\n",
        "print(box.get_data())\n",
        "# >>> [] # Po odstranění dat neexistuje hodnota pro atribut self.data, je to prázdný seznam\n",
        "```\n",
        "Pokud chcete přidat data jiného typu než int nebo float do objektu (v metodě `.add_data()`), měli byste vyvolat výjimku `BadDataTypeError` - tuto výjimku musíte předem vytvořit."
      ]
    },
    {
      "cell_type": "markdown",
      "id": "5ZGdJV_LU2O1",
      "metadata": {
        "id": "5ZGdJV_LU2O1"
      },
      "source": [
        "## **<font color='#306998'>PROJEKT </font><font color='#ffd33b'>2</font>**\n",
        "\n",
        "Vytvořte třídu `Fraction` pro reprezentaci zlomkových čísel. Každý objekt typu `Fraction` by měl mít dvě atributy: `citatel` a `jmenovatel`. Hlavním cílem úkolu je umožnit sčítání, násobení, dělení a odčítání dvou objektů typu `Fraction`.\n",
        "* K tomu je třeba overloadnout operátory +, -, *, / (magické metody: __add__, __sub__, __mul__, __truediv__).\n",
        "* Je třeba si uvědomit, že před sčítáním zlomků je třeba je převést na společný jmenovatel!\n",
        "* Pro jednoduchost: nemusíte zkracovat zlomky, takže zlomek 10/20 nebude potřeba zkrátit na 1/2.\n",
        "\n",
        "Takové operace by měly být úspěšné:\n",
        "```python\n",
        "polovina = Fraction(1, 2)\n",
        "print(polovina.citatel)\n",
        ">>> 1\n",
        "\n",
        "print(polovina.jmenovatel)\n",
        ">>> 2\n",
        "\n",
        "ctvrtina = Fraction(1, 4)\n",
        "print(ctvrtina.citatel)\n",
        ">>> 1\n",
        "\n",
        "print(ctvrtina.jmenovatel)\n",
        ">>> 4\n",
        "\n",
        "vysledek = polovina + ctvrtina  # 1/2 + 1/4\n",
        "print(vysledek.citatel)\n",
        ">>> 6\n",
        "\n",
        "print(vysledek.jmenovatel)\n",
        ">>> 8\n",
        "```\n",
        "Všimněte si, že v tomto případě nechceme zkracovat zlomek na 3/4. Algoritmus převede 1/2 na 4/8 a 1/4 na 2/8 (jenom vynásobí čísla samy se sebou).\n"
      ]
    },
    {
      "cell_type": "markdown",
      "id": "aZ5oZvC0U2Fq",
      "metadata": {
        "id": "aZ5oZvC0U2Fq"
      },
      "source": [
        "## **<font color='#306998'>PROJEKT </font><font color='#ffd33b'>3</font>**\n",
        "\n",
        "Na základě abstraktní třídy `Polygon` vytvořte 3 potomky: `Square`, `Rectangle`, `Triangle`. Každá z těchto tříd musí být konkrétní (ne abstraktní), takže by měla přepsat všechny abstraktní metody v třídě `Polygon`. Každá konkrétní třída by měla mít definici konstruktoru `__init__` (například objekt typu `Square` by měl mít atribut `self.side`, objekt typu `Rectangle` by měl mít atributy `self.side1`, `self.side2` a objekt typu `Triangle` by měl mít atributy `self.side`, `self.height`).\n",
        "\n",
        "Nakonec vytvořte funkci pro správu objektů vytvořených tříd, která v cyklu bude vypočítávat plochy pro každý objekt.\n",
        "\n",
        "```\n",
        "from abc import ABC, abstractmethod\n",
        "from typing import Union\n",
        "\n",
        "class Polygon(ABC):\n",
        "    @abstractmethod\n",
        "    def count_field(self) -> Union[int, float]:  # Union naznačuje, že funkce může vrátit int nebo float\n",
        "        \"\"\"Metoda slouží k výpočtu plochy daného objektu.\n",
        "\n",
        "        Vzhledem k tomu, že v tuto chvíli nevíme, co je polygon,\n",
        "        nemůžeme vypočítat jeho plochu. Má být předefinováno v dědící třídě.\n",
        "\n",
        "        :return: Hodnota plochy jako celé nebo racionální číslo.\n",
        "        \"\"\"\n",
        "        ...\n",
        "\n",
        "\n",
        "class Square(Polygon):\n",
        "    pass\n",
        "\n",
        "\n",
        "class Rectangle(Polygon):\n",
        "    pass\n",
        "\n",
        "\n",
        "class Triangle(Polygon):\n",
        "    pass\n",
        "\n",
        "\n",
        "def count_fields(polygons: list) -> list:\n",
        "    \"\"\"Vypočítá plochu všech polygonů v daném seznamu.\n",
        "\n",
        "    :param polygons: Seznam objektů dědících z třídy Polygon.\n",
        "    :return: Seznam vypočtených ploch.\n",
        "\n",
        "    \"\"\"\n",
        "    pass\n",
        "\n",
        "```"
      ]
    }
  ],
  "metadata": {
    "colab": {
      "collapsed_sections": [
        "GTYpeRhG6uFF"
      ],
      "provenance": [],
      "include_colab_link": true
    },
    "gpuClass": "standard",
    "kernelspec": {
      "display_name": "Python 3 (ipykernel)",
      "language": "python",
      "name": "python3"
    },
    "language_info": {
      "codemirror_mode": {
        "name": "ipython",
        "version": 3
      },
      "file_extension": ".py",
      "mimetype": "text/x-python",
      "name": "python",
      "nbconvert_exporter": "python",
      "pygments_lexer": "ipython3",
      "version": "3.10.9"
    }
  },
  "nbformat": 4,
  "nbformat_minor": 5
}